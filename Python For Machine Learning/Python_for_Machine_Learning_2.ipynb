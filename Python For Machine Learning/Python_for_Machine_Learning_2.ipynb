{
  "nbformat": 4,
  "nbformat_minor": 0,
  "metadata": {
    "colab": {
      "name": "Python for Machine Learning 2.ipynb",
      "provenance": []
    },
    "kernelspec": {
      "name": "python3",
      "display_name": "Python 3"
    }
  },
  "cells": [
    {
      "cell_type": "markdown",
      "metadata": {
        "id": "pQ9WkmlgQu9x",
        "colab_type": "text"
      },
      "source": [
        "# Tek satır for döngüsü (One-liner for)\n"
      ]
    },
    {
      "cell_type": "code",
      "metadata": {
        "id": "ij7MtoNyWxuZ",
        "colab_type": "code",
        "colab": {
          "base_uri": "https://localhost:8080/",
          "height": 34
        },
        "outputId": "fbc02582-2e12-4d66-a033-7269bbe40d2b"
      },
      "source": [
        "kelime = 'Python'\n",
        "harf_listesi = []\n",
        "\n",
        "for harf in kelime:\n",
        "  harf_listesi.append(harf)\n",
        "\n",
        "print(harf_listesi)"
      ],
      "execution_count": 2,
      "outputs": [
        {
          "output_type": "stream",
          "text": [
            "['P', 'y', 't', 'h', 'o', 'n']\n"
          ],
          "name": "stdout"
        }
      ]
    },
    {
      "cell_type": "code",
      "metadata": {
        "id": "Bk0HQrnIWz6t",
        "colab_type": "code",
        "colab": {}
      },
      "source": [
        "harf_listesi = [harf for harf in 'Python']"
      ],
      "execution_count": 0,
      "outputs": []
    },
    {
      "cell_type": "markdown",
      "metadata": {
        "id": "yE98sWbzTvGi",
        "colab_type": "text"
      },
      "source": [
        "# Tek satır if (One-liner if)"
      ]
    },
    {
      "cell_type": "code",
      "metadata": {
        "id": "QZyauiURRHJA",
        "colab_type": "code",
        "colab": {}
      },
      "source": [
        "# Tek satır if (One-liner if)\n",
        "\n",
        "kosul = True\n",
        "\n",
        "if kosul : \n",
        "  kelime = 'Elma'\n",
        "else:\n",
        "  kelime = 'Armut'"
      ],
      "execution_count": 0,
      "outputs": []
    },
    {
      "cell_type": "code",
      "metadata": {
        "id": "pLZJRApJTiwZ",
        "colab_type": "code",
        "colab": {}
      },
      "source": [
        "kelime = 'Elma' if kosul else 'Armut'"
      ],
      "execution_count": 0,
      "outputs": []
    },
    {
      "cell_type": "markdown",
      "metadata": {
        "id": "MPOx_VTAT9pU",
        "colab_type": "text"
      },
      "source": [
        "# Tek satır fonksiyon Lambda (One-liner function Lambda)"
      ]
    },
    {
      "cell_type": "code",
      "metadata": {
        "id": "jB6YXwE9T6sU",
        "colab_type": "code",
        "colab": {
          "base_uri": "https://localhost:8080/",
          "height": 34
        },
        "outputId": "bf3f9784-f2d0-4852-e937-d94953313fbe"
      },
      "source": [
        "kare_al = lambda x: x**2\n",
        "kare_al(5)"
      ],
      "execution_count": 8,
      "outputs": [
        {
          "output_type": "execute_result",
          "data": {
            "text/plain": [
              "25"
            ]
          },
          "metadata": {
            "tags": []
          },
          "execution_count": 8
        }
      ]
    },
    {
      "cell_type": "markdown",
      "metadata": {
        "id": "6hPY9d-iUDUT",
        "colab_type": "text"
      },
      "source": [
        "#map, reduce, filter, zip fonksiyonları"
      ]
    },
    {
      "cell_type": "code",
      "metadata": {
        "id": "ZBoUUXyOUGVc",
        "colab_type": "code",
        "colab": {
          "base_uri": "https://localhost:8080/",
          "height": 34
        },
        "outputId": "71c1060a-93ed-45e9-e89e-d1d1e1d5665a"
      },
      "source": [
        "sayilar = [1, 2, 3, 4, 5, 6, 7]\n",
        "sayilarin_kareleri = []\n",
        "\n",
        "for sayi in sayilar:\n",
        "  sayilarin_kareleri.append(kare_al(sayi))\n",
        "print(sayilarin_kareleri)"
      ],
      "execution_count": 10,
      "outputs": [
        {
          "output_type": "stream",
          "text": [
            "[1, 4, 9, 16, 25, 36, 49]\n"
          ],
          "name": "stdout"
        }
      ]
    },
    {
      "cell_type": "code",
      "metadata": {
        "id": "owyoru8hUJv1",
        "colab_type": "code",
        "colab": {
          "base_uri": "https://localhost:8080/",
          "height": 153
        },
        "outputId": "e925a234-6e49-49c3-fc90-e52e53fe2502"
      },
      "source": [
        "sayilarin_kareleri = map(kare_al, sayilar)\n",
        "print(sayilarin_kareleri)\n",
        "\n",
        "for sayi in sayilarin_kareleri:\n",
        "  print(sayi)"
      ],
      "execution_count": 15,
      "outputs": [
        {
          "output_type": "stream",
          "text": [
            "<map object at 0x7f2655985630>\n",
            "1\n",
            "4\n",
            "9\n",
            "16\n",
            "25\n",
            "36\n",
            "49\n"
          ],
          "name": "stdout"
        }
      ]
    },
    {
      "cell_type": "code",
      "metadata": {
        "id": "DfOZQvJrbAWH",
        "colab_type": "code",
        "colab": {
          "base_uri": "https://localhost:8080/",
          "height": 51
        },
        "outputId": "4ede08cf-7592-4ff9-f33e-cc10327c8a5b"
      },
      "source": [
        "from functools import reduce\n",
        "\n",
        "sayilar = [1, 6, 3, 7, 10, 0]\n",
        "print(reduce(lambda x,y: x if x > y else y, sayilar))\n",
        "\n",
        "# sayılar listesindeki en büyük sayıyı bulmaya çalışıyoruz."
      ],
      "execution_count": 17,
      "outputs": [
        {
          "output_type": "stream",
          "text": [
            "10\n",
            "10\n"
          ],
          "name": "stdout"
        }
      ]
    },
    {
      "cell_type": "code",
      "metadata": {
        "id": "PU1UwxrAcpYo",
        "colab_type": "code",
        "colab": {
          "base_uri": "https://localhost:8080/",
          "height": 51
        },
        "outputId": "f6bb0866-5f09-4613-c586-c41c78ef1328"
      },
      "source": [
        "def besten_uzun(kelime):\n",
        "  if len(kelime) > 5:\n",
        "    return True\n",
        "  else:\n",
        "    return False\n",
        "  \n",
        "isimler = ['Oğuz', 'Ahmet', 'Necati', 'Ali', 'Mehmet', 'Ziya']\n",
        "uzun_isimler = filter(besten_uzun, isimler)\n",
        "for isim in uzun_isimler:\n",
        "  print(isim)\n",
        "\n",
        "sayilar = [0, 1, 2, 3, 4, 5]"
      ],
      "execution_count": 12,
      "outputs": [
        {
          "output_type": "stream",
          "text": [
            "Necati\n",
            "Mehmet\n"
          ],
          "name": "stdout"
        }
      ]
    },
    {
      "cell_type": "code",
      "metadata": {
        "id": "6B_i7tQX1U0N",
        "colab_type": "code",
        "colab": {
          "base_uri": "https://localhost:8080/",
          "height": 221
        },
        "outputId": "3caa5432-ec11-45d8-9f3d-1a992a1f345e"
      },
      "source": [
        "sayilar = [0, 1, 2, 3, 4, 5]\n",
        "isimler = ['Oğuz', 'Ahmet', 'Necati', 'Ali', 'Mehmet', 'Ziya']\n",
        "\n",
        "for i in range(len(sayilar)): \n",
        "  print(sayilar[i], isimler[i])\n",
        "\n",
        "for i in zip(sayilar, isimler):\n",
        "  print(i)\n",
        "  #Demet şeklinde"
      ],
      "execution_count": 16,
      "outputs": [
        {
          "output_type": "stream",
          "text": [
            "0 Oğuz\n",
            "1 Ahmet\n",
            "2 Necati\n",
            "3 Ali\n",
            "4 Mehmet\n",
            "5 Ziya\n",
            "(0, 'Oğuz')\n",
            "(1, 'Ahmet')\n",
            "(2, 'Necati')\n",
            "(3, 'Ali')\n",
            "(4, 'Mehmet')\n",
            "(5, 'Ziya')\n"
          ],
          "name": "stdout"
        }
      ]
    },
    {
      "cell_type": "markdown",
      "metadata": {
        "id": "qo_93vT63JR4",
        "colab_type": "text"
      },
      "source": [
        "# Assert anahtar kelimesi ( Assert keyword )"
      ]
    },
    {
      "cell_type": "code",
      "metadata": {
        "id": "yKcWTDeD3FaC",
        "colab_type": "code",
        "colab": {
          "base_uri": "https://localhost:8080/",
          "height": 34
        },
        "outputId": "fb1f8b7d-5cee-4536-83bd-95230009dd68"
      },
      "source": [
        "yas = input(\"Yaşınız : \")\n",
        "assert int(yas) >= 0, \"Yaşınız negatif olamaz.\""
      ],
      "execution_count": 19,
      "outputs": [
        {
          "output_type": "stream",
          "text": [
            "Yaşınız : 16\n"
          ],
          "name": "stdout"
        }
      ]
    },
    {
      "cell_type": "markdown",
      "metadata": {
        "id": "tTA1c8HW3vEx",
        "colab_type": "text"
      },
      "source": [
        "# Üreteçler (Generators)"
      ]
    },
    {
      "cell_type": "code",
      "metadata": {
        "id": "jKp5UFqf3IJ1",
        "colab_type": "code",
        "colab": {
          "base_uri": "https://localhost:8080/",
          "height": 85
        },
        "outputId": "16a59ee9-1b31-445a-f61c-a09567ad37a8"
      },
      "source": [
        "#Her generator fonksiyonu çağırdığımızda bize farklı birşey veriyor.\n",
        "def generator():\n",
        "  i = 1 \n",
        "  print('Öncelikle bu basıldı.')\n",
        "  yield i\n",
        "\n",
        "  i+=1\n",
        "  print('Sonra bu')\n",
        "  yield i\n",
        "\n",
        "  #Bu fonk iki defa çalışacak.\n",
        "\n",
        "for eleman in generator():\n",
        "  print(\"For döngüsü içinde : \", eleman)\n",
        "#print(next())"
      ],
      "execution_count": 2,
      "outputs": [
        {
          "output_type": "stream",
          "text": [
            "Öncelikle bu basıldı.\n",
            "For döngüsü içinde :  1\n",
            "Sonra bu\n",
            "For döngüsü içinde :  2\n"
          ],
          "name": "stdout"
        }
      ]
    },
    {
      "cell_type": "code",
      "metadata": {
        "id": "Zu5z3VlN5Mv-",
        "colab_type": "code",
        "colab": {
          "base_uri": "https://localhost:8080/",
          "height": 68
        },
        "outputId": "cc132375-51da-4250-9d74-2161ebd3bf32"
      },
      "source": [
        "a = 5\n",
        "\n",
        "def outer():\n",
        "  a = 3\n",
        "  def inner():\n",
        "    nonlocal a #nonlocal fonksiyonu dışarıdaki a değerimizi değiştirir\n",
        "    a += 5 \n",
        "    print(\"inner fonksiyon : \", a)\n",
        "  print(\"outer fonksiyon:\", a)\n",
        "  return inner()\n",
        "\n",
        "outer()\n",
        "print(\"global : \",a)"
      ],
      "execution_count": 3,
      "outputs": [
        {
          "output_type": "stream",
          "text": [
            "outer fonksiyon: 3\n",
            "inner fonksiyon :  8\n",
            "global :  5\n"
          ],
          "name": "stdout"
        }
      ]
    },
    {
      "cell_type": "markdown",
      "metadata": {
        "id": "RBq-hcuu6LUN",
        "colab_type": "text"
      },
      "source": [
        "#Decorators"
      ]
    },
    {
      "cell_type": "code",
      "metadata": {
        "id": "leUauFTS6M1T",
        "colab_type": "code",
        "colab": {
          "base_uri": "https://localhost:8080/",
          "height": 85
        },
        "outputId": "1142057e-be2c-42fa-be3c-d0fb6edcee25"
      },
      "source": [
        "from datetime import datetime\n",
        "\n",
        "def show_time(func):\n",
        "  def wrapper():\n",
        "    print(\"Time : \", datetime.now().time())\n",
        "    func()\n",
        "  return wrapper\n",
        "\n",
        "@show_time\n",
        "def say_hi():\n",
        "  print(\"Hi\")\n",
        "\n",
        "@show_time\n",
        "def say_bye():\n",
        "  print('Bye')\n",
        "\n",
        "say_hi()\n",
        "say_bye()"
      ],
      "execution_count": 11,
      "outputs": [
        {
          "output_type": "stream",
          "text": [
            "Time :  12:32:54.158066\n",
            "Hi\n",
            "Time :  12:32:54.158214\n",
            "Bye\n"
          ],
          "name": "stdout"
        }
      ]
    },
    {
      "cell_type": "markdown",
      "metadata": {
        "id": "nICP8J587AcV",
        "colab_type": "text"
      },
      "source": [
        "#Numpy"
      ]
    },
    {
      "cell_type": "code",
      "metadata": {
        "id": "vuCKO16t7CPb",
        "colab_type": "code",
        "colab": {}
      },
      "source": [
        "import numpy as np "
      ],
      "execution_count": 0,
      "outputs": []
    },
    {
      "cell_type": "code",
      "metadata": {
        "id": "IsubASxmKS1y",
        "colab_type": "code",
        "colab": {
          "base_uri": "https://localhost:8080/",
          "height": 51
        },
        "outputId": "9e9b22a2-3f09-40a1-fe39-9b4c9d602c6e"
      },
      "source": [
        "a = np.array([10, 20, 30, 40, 50, 60])\n",
        "print(type(a))\n",
        "print(a.shape)"
      ],
      "execution_count": 14,
      "outputs": [
        {
          "output_type": "stream",
          "text": [
            "<class 'numpy.ndarray'>\n",
            "(6,)\n"
          ],
          "name": "stdout"
        }
      ]
    },
    {
      "cell_type": "code",
      "metadata": {
        "id": "YFXU1JvuLQkg",
        "colab_type": "code",
        "colab": {
          "base_uri": "https://localhost:8080/",
          "height": 34
        },
        "outputId": "b3efa0ab-6c55-47ab-cb46-d02e8683f54e"
      },
      "source": [
        "a[2]"
      ],
      "execution_count": 15,
      "outputs": [
        {
          "output_type": "execute_result",
          "data": {
            "text/plain": [
              "30"
            ]
          },
          "metadata": {
            "tags": []
          },
          "execution_count": 15
        }
      ]
    },
    {
      "cell_type": "code",
      "metadata": {
        "id": "SJgA-Eb8LRy6",
        "colab_type": "code",
        "colab": {
          "base_uri": "https://localhost:8080/",
          "height": 34
        },
        "outputId": "96018fdb-4205-49ed-dcc8-c1ded96c8443"
      },
      "source": [
        "a[2] *= 8\n",
        "print(a[2])"
      ],
      "execution_count": 18,
      "outputs": [
        {
          "output_type": "stream",
          "text": [
            "240\n"
          ],
          "name": "stdout"
        }
      ]
    },
    {
      "cell_type": "code",
      "metadata": {
        "id": "yF3bKYlnLWsD",
        "colab_type": "code",
        "colab": {
          "base_uri": "https://localhost:8080/",
          "height": 85
        },
        "outputId": "59333c4a-f5f0-4017-f24f-e1a71ffc781e"
      },
      "source": [
        "b = np.array([\n",
        "              [10,20,30],\n",
        "              [40,50,60]\n",
        "              ])\n",
        "print(b)\n",
        "print(b.shape)\n",
        "print(b.dtype) #numpy arrayin içinde hangi tip eleman var?"
      ],
      "execution_count": 22,
      "outputs": [
        {
          "output_type": "stream",
          "text": [
            "[[10 20 30]\n",
            " [40 50 60]]\n",
            "(2, 3)\n",
            "int64\n"
          ],
          "name": "stdout"
        }
      ]
    },
    {
      "cell_type": "code",
      "metadata": {
        "id": "iq0a-Kj-L0LE",
        "colab_type": "code",
        "colab": {
          "base_uri": "https://localhost:8080/",
          "height": 51
        },
        "outputId": "ccfe8158-e4e7-4cc2-920a-c8d145c53d9b"
      },
      "source": [
        "a = np.array([10, 20, 30, 40, 50, 60])\n",
        "np.sin(a)\n"
      ],
      "execution_count": 23,
      "outputs": [
        {
          "output_type": "execute_result",
          "data": {
            "text/plain": [
              "array([-0.54402111,  0.91294525, -0.98803162,  0.74511316, -0.26237485,\n",
              "       -0.30481062])"
            ]
          },
          "metadata": {
            "tags": []
          },
          "execution_count": 23
        }
      ]
    },
    {
      "cell_type": "code",
      "metadata": {
        "id": "QV_qSjA7Naev",
        "colab_type": "code",
        "colab": {
          "base_uri": "https://localhost:8080/",
          "height": 51
        },
        "outputId": "752b9a2b-3187-4913-9ca4-bba41f509e7f"
      },
      "source": [
        "np.cos(a)"
      ],
      "execution_count": 24,
      "outputs": [
        {
          "output_type": "execute_result",
          "data": {
            "text/plain": [
              "array([-0.83907153,  0.40808206,  0.15425145, -0.66693806,  0.96496603,\n",
              "       -0.95241298])"
            ]
          },
          "metadata": {
            "tags": []
          },
          "execution_count": 24
        }
      ]
    },
    {
      "cell_type": "code",
      "metadata": {
        "id": "RW3-cmyNNb43",
        "colab_type": "code",
        "colab": {
          "base_uri": "https://localhost:8080/",
          "height": 51
        },
        "outputId": "a480e94e-3322-4c7c-dd48-e7aa2fb1321a"
      },
      "source": [
        "np.log(a)"
      ],
      "execution_count": 25,
      "outputs": [
        {
          "output_type": "execute_result",
          "data": {
            "text/plain": [
              "array([2.30258509, 2.99573227, 3.40119738, 3.68887945, 3.91202301,\n",
              "       4.09434456])"
            ]
          },
          "metadata": {
            "tags": []
          },
          "execution_count": 25
        }
      ]
    },
    {
      "cell_type": "code",
      "metadata": {
        "id": "7XBZ9BwoNdHf",
        "colab_type": "code",
        "colab": {
          "base_uri": "https://localhost:8080/",
          "height": 51
        },
        "outputId": "31021240-b545-47c7-dc74-7a00121ef62b"
      },
      "source": [
        "np.exp(a)"
      ],
      "execution_count": 26,
      "outputs": [
        {
          "output_type": "execute_result",
          "data": {
            "text/plain": [
              "array([2.20264658e+04, 4.85165195e+08, 1.06864746e+13, 2.35385267e+17,\n",
              "       5.18470553e+21, 1.14200739e+26])"
            ]
          },
          "metadata": {
            "tags": []
          },
          "execution_count": 26
        }
      ]
    },
    {
      "cell_type": "code",
      "metadata": {
        "id": "hErSycr0NeJI",
        "colab_type": "code",
        "colab": {
          "base_uri": "https://localhost:8080/",
          "height": 34
        },
        "outputId": "ac60a84a-cb07-446c-82f1-20d04b9d1c9b"
      },
      "source": [
        "np.max(a)"
      ],
      "execution_count": 27,
      "outputs": [
        {
          "output_type": "execute_result",
          "data": {
            "text/plain": [
              "60"
            ]
          },
          "metadata": {
            "tags": []
          },
          "execution_count": 27
        }
      ]
    },
    {
      "cell_type": "code",
      "metadata": {
        "id": "dPTP3Xj2Ne8W",
        "colab_type": "code",
        "colab": {
          "base_uri": "https://localhost:8080/",
          "height": 34
        },
        "outputId": "e7eda1df-4b1b-492c-bc1b-7060b0c70a41"
      },
      "source": [
        "np.min(a)"
      ],
      "execution_count": 28,
      "outputs": [
        {
          "output_type": "execute_result",
          "data": {
            "text/plain": [
              "10"
            ]
          },
          "metadata": {
            "tags": []
          },
          "execution_count": 28
        }
      ]
    },
    {
      "cell_type": "code",
      "metadata": {
        "id": "75_wv_t0Ngee",
        "colab_type": "code",
        "colab": {
          "base_uri": "https://localhost:8080/",
          "height": 34
        },
        "outputId": "e6a7f4f7-c33f-493d-c694-55dde5f8df90"
      },
      "source": [
        "np.argmax(a) #max değerin hangi indekste ona bakıyorum."
      ],
      "execution_count": 29,
      "outputs": [
        {
          "output_type": "execute_result",
          "data": {
            "text/plain": [
              "5"
            ]
          },
          "metadata": {
            "tags": []
          },
          "execution_count": 29
        }
      ]
    },
    {
      "cell_type": "code",
      "metadata": {
        "id": "fyo228RLNiR7",
        "colab_type": "code",
        "colab": {
          "base_uri": "https://localhost:8080/",
          "height": 34
        },
        "outputId": "2fac1856-91ea-4762-ad76-a1765745ec5c"
      },
      "source": [
        "np.mean(a)"
      ],
      "execution_count": 30,
      "outputs": [
        {
          "output_type": "execute_result",
          "data": {
            "text/plain": [
              "35.0"
            ]
          },
          "metadata": {
            "tags": []
          },
          "execution_count": 30
        }
      ]
    },
    {
      "cell_type": "code",
      "metadata": {
        "id": "mOFsnsm4Njf8",
        "colab_type": "code",
        "colab": {
          "base_uri": "https://localhost:8080/",
          "height": 34
        },
        "outputId": "99d8eae2-ca7b-451f-d91e-bf2fa3490016"
      },
      "source": [
        "np.median(a)"
      ],
      "execution_count": 31,
      "outputs": [
        {
          "output_type": "execute_result",
          "data": {
            "text/plain": [
              "35.0"
            ]
          },
          "metadata": {
            "tags": []
          },
          "execution_count": 31
        }
      ]
    },
    {
      "cell_type": "code",
      "metadata": {
        "id": "hbZ1exNFNkhM",
        "colab_type": "code",
        "colab": {
          "base_uri": "https://localhost:8080/",
          "height": 34
        },
        "outputId": "d4252718-6f68-48e3-91e5-f580ba135711"
      },
      "source": [
        "np.std(a)"
      ],
      "execution_count": 32,
      "outputs": [
        {
          "output_type": "execute_result",
          "data": {
            "text/plain": [
              "17.07825127659933"
            ]
          },
          "metadata": {
            "tags": []
          },
          "execution_count": 32
        }
      ]
    },
    {
      "cell_type": "code",
      "metadata": {
        "id": "sZvE-xrENlb4",
        "colab_type": "code",
        "colab": {
          "base_uri": "https://localhost:8080/",
          "height": 34
        },
        "outputId": "945757ad-9854-4747-e89f-adb42dd20d29"
      },
      "source": [
        "#axis = 1 == Row\n",
        "#axis = 0 == Column\n",
        "np.sum(b, axis=1)"
      ],
      "execution_count": 33,
      "outputs": [
        {
          "output_type": "execute_result",
          "data": {
            "text/plain": [
              "array([ 60, 150])"
            ]
          },
          "metadata": {
            "tags": []
          },
          "execution_count": 33
        }
      ]
    },
    {
      "cell_type": "code",
      "metadata": {
        "id": "GRcdqReDNq1Y",
        "colab_type": "code",
        "colab": {
          "base_uri": "https://localhost:8080/",
          "height": 68
        },
        "outputId": "15975014-c320-490b-de37-d66eff99dbf4"
      },
      "source": [
        "zeros = np.zeros((3,3))\n",
        "print(zeros)"
      ],
      "execution_count": 34,
      "outputs": [
        {
          "output_type": "stream",
          "text": [
            "[[0. 0. 0.]\n",
            " [0. 0. 0.]\n",
            " [0. 0. 0.]]\n"
          ],
          "name": "stdout"
        }
      ]
    },
    {
      "cell_type": "code",
      "metadata": {
        "id": "fVIFsP1LNuDP",
        "colab_type": "code",
        "colab": {
          "base_uri": "https://localhost:8080/",
          "height": 68
        },
        "outputId": "ba2bc149-2cf0-475d-b965-9c8f61034f2e"
      },
      "source": [
        "ones = np.ones((3, 3))\n",
        "print(ones)"
      ],
      "execution_count": 35,
      "outputs": [
        {
          "output_type": "stream",
          "text": [
            "[[1. 1. 1.]\n",
            " [1. 1. 1.]\n",
            " [1. 1. 1.]]\n"
          ],
          "name": "stdout"
        }
      ]
    },
    {
      "cell_type": "code",
      "metadata": {
        "id": "CYf-TbZWPIGx",
        "colab_type": "code",
        "colab": {
          "base_uri": "https://localhost:8080/",
          "height": 68
        },
        "outputId": "96637cfa-cab8-4f81-943b-b0f05ba59719"
      },
      "source": [
        "full = np.full((3, 3), 5)\n",
        "print(full)\n",
        "\n"
      ],
      "execution_count": 37,
      "outputs": [
        {
          "output_type": "stream",
          "text": [
            "[[5 5 5]\n",
            " [5 5 5]\n",
            " [5 5 5]]\n"
          ],
          "name": "stdout"
        }
      ]
    },
    {
      "cell_type": "code",
      "metadata": {
        "id": "9RPiM-lYP2NK",
        "colab_type": "code",
        "colab": {
          "base_uri": "https://localhost:8080/",
          "height": 102
        },
        "outputId": "04d8c33f-1c04-40d0-d4e5-b5be2393eeed"
      },
      "source": [
        "eye = np.eye(5)\n",
        "print(eye)\n",
        "#5x5 lik birim matris oluşturur."
      ],
      "execution_count": 38,
      "outputs": [
        {
          "output_type": "stream",
          "text": [
            "[[1. 0. 0. 0. 0.]\n",
            " [0. 1. 0. 0. 0.]\n",
            " [0. 0. 1. 0. 0.]\n",
            " [0. 0. 0. 1. 0.]\n",
            " [0. 0. 0. 0. 1.]]\n"
          ],
          "name": "stdout"
        }
      ]
    },
    {
      "cell_type": "code",
      "metadata": {
        "id": "GJe-VzF6aKn8",
        "colab_type": "code",
        "colab": {
          "base_uri": "https://localhost:8080/",
          "height": 51
        },
        "outputId": "498b3772-e414-4dbd-a46e-1ca144ceaa23"
      },
      "source": [
        "arange = np.arange(7)\n",
        "print(arange)\n",
        "\n",
        "arange = np.arange(0, 10, 2)\n",
        "print(arange)"
      ],
      "execution_count": 40,
      "outputs": [
        {
          "output_type": "stream",
          "text": [
            "[0 1 2 3 4 5 6]\n",
            "[0 2 4 6 8]\n"
          ],
          "name": "stdout"
        }
      ]
    },
    {
      "cell_type": "code",
      "metadata": {
        "id": "v58i6sacaNEx",
        "colab_type": "code",
        "colab": {
          "base_uri": "https://localhost:8080/",
          "height": 68
        },
        "outputId": "213e21b8-b10a-49ba-e015-9973f035ae37"
      },
      "source": [
        "#Create randint\n",
        "random = np.random.random((3,3)) #float\n",
        "print(random)"
      ],
      "execution_count": 48,
      "outputs": [
        {
          "output_type": "stream",
          "text": [
            "[[0.63329925 0.51601747 0.40820085]\n",
            " [0.9523911  0.35462563 0.01458484]\n",
            " [0.87040274 0.74144941 0.60155613]]\n"
          ],
          "name": "stdout"
        }
      ]
    },
    {
      "cell_type": "code",
      "metadata": {
        "id": "82qs5v8xacJS",
        "colab_type": "code",
        "colab": {
          "base_uri": "https://localhost:8080/",
          "height": 102
        },
        "outputId": "42dab5d3-a44b-4a05-a08f-674fea62f2f2"
      },
      "source": [
        "arr = np.random.randint(20, size = (5,5)) #integer\n",
        "print(arr)"
      ],
      "execution_count": 45,
      "outputs": [
        {
          "output_type": "stream",
          "text": [
            "[[10  9  9  2  0]\n",
            " [12  7 10 17  5]\n",
            " [13  3  2  7  1]\n",
            " [19 14 12  7 12]\n",
            " [12  1  0  4  9]]\n"
          ],
          "name": "stdout"
        }
      ]
    },
    {
      "cell_type": "code",
      "metadata": {
        "id": "ehj3WVRAiJTF",
        "colab_type": "code",
        "colab": {
          "base_uri": "https://localhost:8080/",
          "height": 68
        },
        "outputId": "700f8419-07a9-48de-9df1-95bb8c012b5c"
      },
      "source": [
        "zeros"
      ],
      "execution_count": 49,
      "outputs": [
        {
          "output_type": "execute_result",
          "data": {
            "text/plain": [
              "array([[0., 0., 0.],\n",
              "       [0., 0., 0.],\n",
              "       [0., 0., 0.]])"
            ]
          },
          "metadata": {
            "tags": []
          },
          "execution_count": 49
        }
      ]
    },
    {
      "cell_type": "code",
      "metadata": {
        "id": "1Bz7qdgZakmK",
        "colab_type": "code",
        "colab": {
          "base_uri": "https://localhost:8080/",
          "height": 102
        },
        "outputId": "2e989848-7ec9-4059-e4e5-82044027a897"
      },
      "source": [
        "eye*6"
      ],
      "execution_count": 50,
      "outputs": [
        {
          "output_type": "execute_result",
          "data": {
            "text/plain": [
              "array([[6., 0., 0., 0., 0.],\n",
              "       [0., 6., 0., 0., 0.],\n",
              "       [0., 0., 6., 0., 0.],\n",
              "       [0., 0., 0., 6., 0.],\n",
              "       [0., 0., 0., 0., 6.]])"
            ]
          },
          "metadata": {
            "tags": []
          },
          "execution_count": 50
        }
      ]
    },
    {
      "cell_type": "code",
      "metadata": {
        "id": "6iw8An6WiLCH",
        "colab_type": "code",
        "colab": {
          "base_uri": "https://localhost:8080/",
          "height": 119
        },
        "outputId": "5599d498-4b49-4677-b903-fbef0a19a42f"
      },
      "source": [
        "print(arr)\n",
        "print(\"3.satır 2.sütundaki eleman : \",arr[2, 1]) #indeksleme arr[erişmek istenen satır, erişmek istenen sütun]"
      ],
      "execution_count": 59,
      "outputs": [
        {
          "output_type": "stream",
          "text": [
            "[[10  9  9  2  0]\n",
            " [12  7 10 17  5]\n",
            " [13  3  2  7  1]\n",
            " [19 14 12  7 12]\n",
            " [12  1  0  4  9]]\n",
            "3.satır 2.sütundaki eleman :  3\n"
          ],
          "name": "stdout"
        }
      ]
    },
    {
      "cell_type": "code",
      "metadata": {
        "id": "EBiV_0J0iMha",
        "colab_type": "code",
        "colab": {
          "base_uri": "https://localhost:8080/",
          "height": 68
        },
        "outputId": "790c8176-1857-4a4a-ba3f-6c552ab40755"
      },
      "source": [
        "arr[0:3,::]"
      ],
      "execution_count": 62,
      "outputs": [
        {
          "output_type": "execute_result",
          "data": {
            "text/plain": [
              "array([[10,  9,  9,  2,  0],\n",
              "       [12,  7, 10, 17,  5],\n",
              "       [13,  3,  2,  7,  1]])"
            ]
          },
          "metadata": {
            "tags": []
          },
          "execution_count": 62
        }
      ]
    },
    {
      "cell_type": "code",
      "metadata": {
        "id": "TSKm9-qEyKkQ",
        "colab_type": "code",
        "colab": {
          "base_uri": "https://localhost:8080/",
          "height": 34
        },
        "outputId": "8c04a1bb-a270-4354-872d-52096f9ad7c8"
      },
      "source": [
        "arr == 4\n",
        "arr[arr == 4]\n",
        "arr[arr > 10]"
      ],
      "execution_count": 67,
      "outputs": [
        {
          "output_type": "execute_result",
          "data": {
            "text/plain": [
              "array([12, 17, 13, 19, 14, 12, 12, 12])"
            ]
          },
          "metadata": {
            "tags": []
          },
          "execution_count": 67
        }
      ]
    },
    {
      "cell_type": "code",
      "metadata": {
        "id": "DXCWEb4WyTcT",
        "colab_type": "code",
        "colab": {
          "base_uri": "https://localhost:8080/",
          "height": 34
        },
        "outputId": "d578fbb4-9319-4764-e5e8-a6939a8f34e0"
      },
      "source": [
        "np.where(arr==4)"
      ],
      "execution_count": 64,
      "outputs": [
        {
          "output_type": "execute_result",
          "data": {
            "text/plain": [
              "(array([4]), array([3]))"
            ]
          },
          "metadata": {
            "tags": []
          },
          "execution_count": 64
        }
      ]
    },
    {
      "cell_type": "code",
      "metadata": {
        "id": "0DR-iy_myVvF",
        "colab_type": "code",
        "colab": {
          "base_uri": "https://localhost:8080/",
          "height": 34
        },
        "outputId": "3395793c-5be9-4d42-d14d-a11f2c6e283a"
      },
      "source": [
        "np.array([\n",
        "          [1, 2, 3, 4],\n",
        "          [5, 6, 7, 8],\n",
        "          [9, 10, 11, 12]\n",
        "]).reshape(3,-1).shape"
      ],
      "execution_count": 75,
      "outputs": [
        {
          "output_type": "execute_result",
          "data": {
            "text/plain": [
              "(3, 4)"
            ]
          },
          "metadata": {
            "tags": []
          },
          "execution_count": 75
        }
      ]
    },
    {
      "cell_type": "code",
      "metadata": {
        "id": "CD0Hb-SIy3Z3",
        "colab_type": "code",
        "colab": {
          "base_uri": "https://localhost:8080/",
          "height": 119
        },
        "outputId": "23eb3791-a952-4057-e7f2-c0dd24f76603"
      },
      "source": [
        "c = np.random.randint(10, size=(3,3))\n",
        "print(c)\n",
        "c_inv = np.linalg.inv(c)\n",
        "print(c_inv)"
      ],
      "execution_count": 70,
      "outputs": [
        {
          "output_type": "stream",
          "text": [
            "[[7 7 5]\n",
            " [6 0 9]\n",
            " [5 1 6]]\n",
            "[[-0.3        -1.23333333  2.1       ]\n",
            " [ 0.3         0.56666667 -1.1       ]\n",
            " [ 0.2         0.93333333 -1.4       ]]\n"
          ],
          "name": "stdout"
        }
      ]
    },
    {
      "cell_type": "markdown",
      "metadata": {
        "id": "CwoPi5aNz2Hj",
        "colab_type": "text"
      },
      "source": [
        "# İç Çarpım (Dot Product)"
      ]
    },
    {
      "cell_type": "code",
      "metadata": {
        "id": "o9j_uh4TzAqf",
        "colab_type": "code",
        "colab": {
          "base_uri": "https://localhost:8080/",
          "height": 34
        },
        "outputId": "bacc135c-fedd-4345-f65a-d019e858d8fa"
      },
      "source": [
        " a = np.array([\n",
        "               [1,2,3],\n",
        "               [4,5,6]\n",
        "               ])\n",
        " print(a.shape)\n"
      ],
      "execution_count": 88,
      "outputs": [
        {
          "output_type": "stream",
          "text": [
            "(2, 3)\n"
          ],
          "name": "stdout"
        }
      ]
    },
    {
      "cell_type": "code",
      "metadata": {
        "id": "LGIGJ0ki0vS5",
        "colab_type": "code",
        "colab": {
          "base_uri": "https://localhost:8080/",
          "height": 34
        },
        "outputId": "08768647-99f3-4ca1-d537-ab689a758f19"
      },
      "source": [
        "b = np.array([\n",
        "              [7, 8, 9],\n",
        "              [10, 11, 12]\n",
        "])\n",
        "print(a.shape)"
      ],
      "execution_count": 89,
      "outputs": [
        {
          "output_type": "stream",
          "text": [
            "(2, 3)\n"
          ],
          "name": "stdout"
        }
      ]
    },
    {
      "cell_type": "code",
      "metadata": {
        "id": "2ieiyig-0_Rr",
        "colab_type": "code",
        "colab": {
          "base_uri": "https://localhost:8080/",
          "height": 197
        },
        "outputId": "b0123eb4-1125-40ae-f067-03d50e6d3af9"
      },
      "source": [
        "axb = np.dot(a, b) #Soldaki çarpılan matrisin sütunu sağdaki çarpılan matrisin satır sayısına eşit olmalı\n"
      ],
      "execution_count": 90,
      "outputs": [
        {
          "output_type": "error",
          "ename": "ValueError",
          "evalue": "ignored",
          "traceback": [
            "\u001b[0;31m---------------------------------------------------------------------------\u001b[0m",
            "\u001b[0;31mValueError\u001b[0m                                Traceback (most recent call last)",
            "\u001b[0;32m<ipython-input-90-25ad065b4e35>\u001b[0m in \u001b[0;36m<module>\u001b[0;34m()\u001b[0m\n\u001b[0;32m----> 1\u001b[0;31m \u001b[0maxb\u001b[0m \u001b[0;34m=\u001b[0m \u001b[0mnp\u001b[0m\u001b[0;34m.\u001b[0m\u001b[0mdot\u001b[0m\u001b[0;34m(\u001b[0m\u001b[0ma\u001b[0m\u001b[0;34m,\u001b[0m \u001b[0mb\u001b[0m\u001b[0;34m)\u001b[0m \u001b[0;31m#Soldaki çarpılan matrisin sütunu sağdaki çarpılan matrisin satır sayısına eşit olmalı\u001b[0m\u001b[0;34m\u001b[0m\u001b[0;34m\u001b[0m\u001b[0m\n\u001b[0m",
            "\u001b[0;32m<__array_function__ internals>\u001b[0m in \u001b[0;36mdot\u001b[0;34m(*args, **kwargs)\u001b[0m\n",
            "\u001b[0;31mValueError\u001b[0m: shapes (2,3) and (2,3) not aligned: 3 (dim 1) != 2 (dim 0)"
          ]
        }
      ]
    },
    {
      "cell_type": "code",
      "metadata": {
        "id": "hA-Pz3iW1Tuw",
        "colab_type": "code",
        "colab": {
          "base_uri": "https://localhost:8080/",
          "height": 34
        },
        "outputId": "61ca335e-bd65-43f3-acf0-b14b737ae629"
      },
      "source": [
        "(b.T).shape # Transpose"
      ],
      "execution_count": 91,
      "outputs": [
        {
          "output_type": "execute_result",
          "data": {
            "text/plain": [
              "(3, 2)"
            ]
          },
          "metadata": {
            "tags": []
          },
          "execution_count": 91
        }
      ]
    },
    {
      "cell_type": "code",
      "metadata": {
        "id": "RXA6AE3J1Cy5",
        "colab_type": "code",
        "colab": {}
      },
      "source": [
        "axb = np.dot(a, b.T)"
      ],
      "execution_count": 0,
      "outputs": []
    },
    {
      "cell_type": "code",
      "metadata": {
        "id": "Kbo6Phzt1XKb",
        "colab_type": "code",
        "colab": {
          "base_uri": "https://localhost:8080/",
          "height": 68
        },
        "outputId": "8ab86340-9602-4c9d-9b14-365c7b8513e7"
      },
      "source": [
        "print(axb)\n",
        "print(axb.shape)"
      ],
      "execution_count": 93,
      "outputs": [
        {
          "output_type": "stream",
          "text": [
            "[[ 50  68]\n",
            " [122 167]]\n",
            "(2, 2)\n"
          ],
          "name": "stdout"
        }
      ]
    },
    {
      "cell_type": "code",
      "metadata": {
        "id": "oQEcAqlJ1Y_X",
        "colab_type": "code",
        "colab": {}
      },
      "source": [
        ""
      ],
      "execution_count": 0,
      "outputs": []
    }
  ]
}