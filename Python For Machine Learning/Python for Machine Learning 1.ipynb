{
  "nbformat": 4,
  "nbformat_minor": 0,
  "metadata": {
    "colab": {
      "name": "Untitled1.ipynb",
      "provenance": [],
      "toc_visible": true
    },
    "kernelspec": {
      "name": "python3",
      "display_name": "Python 3"
    }
  },
  "cells": [
    {
      "cell_type": "markdown",
      "metadata": {
        "id": "Bs-fBBscuusH",
        "colab_type": "text"
      },
      "source": [
        "# Python Data Types (Python Veri Tipleri)\n",
        "- Numeric(Integer, Float, Complex Number)\n",
        "- Dictionary \n",
        "- Boolean \n",
        "- Set \n",
        "- Sequence Type(Strings, List, Tuple) \n",
        "\n",
        "**Değitirilebilir/Değiştirilemez Veri Tipleri**\n",
        "\n",
        "* Boolean value, --> Değiştirilemez.\n",
        "* Integer value, --> Değiştirilemez.\n",
        "* Floating-point number, --> Değiştirilemez.\n",
        "* Tuple, --> Değiştirilemez.\n",
        "* String, --> Değiştirilemez.\n",
        "* Frozenset--> Değiştirilemez.\n",
        "* List,  --> Değiştirilebilir.\n",
        "* Set, --> Değiştirilebilir.  \n",
        "* Dictionary --> Değiştirilebilir.\n",
        "\n",
        "\n",
        "\n",
        "\n",
        "\n",
        "\n",
        "\n",
        "\n"
      ]
    },
    {
      "cell_type": "code",
      "metadata": {
        "id": "1Cv1NHrz0Z8t",
        "colab_type": "code",
        "outputId": "6f68d91d-4ca9-426a-d075-9fd7cecfd126",
        "colab": {
          "base_uri": "https://localhost:8080/",
          "height": 34
        }
      },
      "source": [
        "# Karakter Dizileri (Strings)\n",
        "'saaydmr'\n"
      ],
      "execution_count": 0,
      "outputs": [
        {
          "output_type": "execute_result",
          "data": {
            "text/plain": [
              "'saaydmr'"
            ]
          },
          "metadata": {
            "tags": []
          },
          "execution_count": 5
        }
      ]
    },
    {
      "cell_type": "code",
      "metadata": {
        "id": "zEWQ1AsR0f1_",
        "colab_type": "code",
        "outputId": "2b81126d-595c-41de-9e19-5da1c3c06568",
        "colab": {
          "base_uri": "https://localhost:8080/",
          "height": 34
        }
      },
      "source": [
        "'  '\n",
        "#Tek tırnak\n",
        "\"  \"\n",
        "#Çift tırnak\n",
        "\"\"\"  \"\"\"\n",
        "#Üç tane çift tırnak"
      ],
      "execution_count": 0,
      "outputs": [
        {
          "output_type": "execute_result",
          "data": {
            "text/plain": [
              "'  '"
            ]
          },
          "metadata": {
            "tags": []
          },
          "execution_count": 4
        }
      ]
    },
    {
      "cell_type": "code",
      "metadata": {
        "id": "u6NGmTia1tny",
        "colab_type": "code",
        "outputId": "e8810e42-66b0-405a-8b18-a3f3d2709580",
        "colab": {
          "base_uri": "https://localhost:8080/",
          "height": 34
        }
      },
      "source": [
        "\"Hello world\""
      ],
      "execution_count": 0,
      "outputs": [
        {
          "output_type": "execute_result",
          "data": {
            "text/plain": [
              "'Hello world'"
            ]
          },
          "metadata": {
            "tags": []
          },
          "execution_count": 6
        }
      ]
    },
    {
      "cell_type": "code",
      "metadata": {
        "id": "aI4dZ7Me1vVD",
        "colab_type": "code",
        "outputId": "6fdaa924-e409-4dbc-c23d-e9f1f82eaf09",
        "colab": {
          "base_uri": "https://localhost:8080/",
          "height": 34
        }
      },
      "source": [
        "\"\"\" Lorem ipsum \"\"\""
      ],
      "execution_count": 0,
      "outputs": [
        {
          "output_type": "execute_result",
          "data": {
            "text/plain": [
              "' Lorem ipsum '"
            ]
          },
          "metadata": {
            "tags": []
          },
          "execution_count": 9
        }
      ]
    },
    {
      "cell_type": "code",
      "metadata": {
        "id": "MaxExYo_1xmg",
        "colab_type": "code",
        "outputId": "b5b78014-d9d5-4ab5-84c2-59f9c86544c5",
        "colab": {
          "base_uri": "https://localhost:8080/",
          "height": 34
        }
      },
      "source": [
        "\"Lorem\"+' '+'ipsum'"
      ],
      "execution_count": 0,
      "outputs": [
        {
          "output_type": "execute_result",
          "data": {
            "text/plain": [
              "'Lorem ipsum'"
            ]
          },
          "metadata": {
            "tags": []
          },
          "execution_count": 10
        }
      ]
    },
    {
      "cell_type": "code",
      "metadata": {
        "id": "uF0XtUH12BkR",
        "colab_type": "code",
        "outputId": "a4580e8c-4cef-43e1-ecf4-f83dd27f18d0",
        "colab": {
          "base_uri": "https://localhost:8080/",
          "height": 34
        }
      },
      "source": [
        "'Python'+\" \"+'bir'+\"\"\" \"\"\"+\"\"\"programlama\"\"\"+' '+\"dilidir.\""
      ],
      "execution_count": 0,
      "outputs": [
        {
          "output_type": "execute_result",
          "data": {
            "text/plain": [
              "'Python bir programlama dilidir.'"
            ]
          },
          "metadata": {
            "tags": []
          },
          "execution_count": 12
        }
      ]
    },
    {
      "cell_type": "code",
      "metadata": {
        "id": "B9AHQlZa2cmT",
        "colab_type": "code",
        "outputId": "318300a9-8c3a-4ea6-c9af-299d848219de",
        "colab": {
          "base_uri": "https://localhost:8080/",
          "height": 34
        }
      },
      "source": [
        "\"Python bir programlama dilidir.\""
      ],
      "execution_count": 0,
      "outputs": [
        {
          "output_type": "execute_result",
          "data": {
            "text/plain": [
              "'Python bir programlama dilidir.'"
            ]
          },
          "metadata": {
            "tags": []
          },
          "execution_count": 13
        }
      ]
    },
    {
      "cell_type": "code",
      "metadata": {
        "id": "c8K3BjIu2yPI",
        "colab_type": "code",
        "outputId": "4fd3a5e9-bcec-4903-d373-fb6c1ddaa62b",
        "colab": {
          "base_uri": "https://localhost:8080/",
          "height": 34
        }
      },
      "source": [
        "type(52)"
      ],
      "execution_count": 0,
      "outputs": [
        {
          "output_type": "execute_result",
          "data": {
            "text/plain": [
              "int"
            ]
          },
          "metadata": {
            "tags": []
          },
          "execution_count": 14
        }
      ]
    },
    {
      "cell_type": "code",
      "metadata": {
        "id": "0iX4IPfa25fl",
        "colab_type": "code",
        "outputId": "070c84ff-5705-420d-eb7e-7710a8078f09",
        "colab": {
          "base_uri": "https://localhost:8080/",
          "height": 34
        }
      },
      "source": [
        "type(\"Hello World!\")"
      ],
      "execution_count": 0,
      "outputs": [
        {
          "output_type": "execute_result",
          "data": {
            "text/plain": [
              "str"
            ]
          },
          "metadata": {
            "tags": []
          },
          "execution_count": 15
        }
      ]
    },
    {
      "cell_type": "code",
      "metadata": {
        "id": "P7So_frQ29Il",
        "colab_type": "code",
        "outputId": "6e66e53e-63a0-4172-d66f-d0f9a3e7a36d",
        "colab": {
          "base_uri": "https://localhost:8080/",
          "height": 34
        }
      },
      "source": [
        "type(\"3.14\")"
      ],
      "execution_count": 0,
      "outputs": [
        {
          "output_type": "execute_result",
          "data": {
            "text/plain": [
              "str"
            ]
          },
          "metadata": {
            "tags": []
          },
          "execution_count": 16
        }
      ]
    },
    {
      "cell_type": "code",
      "metadata": {
        "id": "3aOPyR4s3C3j",
        "colab_type": "code",
        "outputId": "8de134bc-ebe1-4571-8653-22ec21b7610e",
        "colab": {
          "base_uri": "https://localhost:8080/",
          "height": 34
        }
      },
      "source": [
        "type(3.14)"
      ],
      "execution_count": 0,
      "outputs": [
        {
          "output_type": "execute_result",
          "data": {
            "text/plain": [
              "float"
            ]
          },
          "metadata": {
            "tags": []
          },
          "execution_count": 17
        }
      ]
    },
    {
      "cell_type": "code",
      "metadata": {
        "id": "87cwPqYu3L9e",
        "colab_type": "code",
        "outputId": "ebbeeba6-4351-4dea-c82a-3100eab4535b",
        "colab": {
          "base_uri": "https://localhost:8080/",
          "height": 34
        }
      },
      "source": [
        "type(5+2j)"
      ],
      "execution_count": 0,
      "outputs": [
        {
          "output_type": "execute_result",
          "data": {
            "text/plain": [
              "complex"
            ]
          },
          "metadata": {
            "tags": []
          },
          "execution_count": 19
        }
      ]
    },
    {
      "cell_type": "markdown",
      "metadata": {
        "id": "yrM1Qur-3ueO",
        "colab_type": "text"
      },
      "source": [
        "#Aritmetik Operatörler"
      ]
    },
    {
      "cell_type": "code",
      "metadata": {
        "id": "43pgoGi43wK7",
        "colab_type": "code",
        "outputId": "53a0d60d-0e30-45f4-e03b-6c9dc7b1ee4c",
        "colab": {
          "base_uri": "https://localhost:8080/",
          "height": 34
        }
      },
      "source": [
        "#100 tam sayısıdan 52 tam sayısını çıkardım.\n",
        "100 - 52 "
      ],
      "execution_count": 0,
      "outputs": [
        {
          "output_type": "execute_result",
          "data": {
            "text/plain": [
              "48"
            ]
          },
          "metadata": {
            "tags": []
          },
          "execution_count": 20
        }
      ]
    },
    {
      "cell_type": "code",
      "metadata": {
        "id": "uHf8KQ503xTt",
        "colab_type": "code",
        "outputId": "9b8744d7-3d9b-4761-bb0e-539ce0a6a248",
        "colab": {
          "base_uri": "https://localhost:8080/",
          "height": 34
        }
      },
      "source": [
        "#5.2 kayan noktalı sayıdan 4.4 kayan noktalı sayısını çıkardım.\n",
        "5.2 - 4.4"
      ],
      "execution_count": 0,
      "outputs": [
        {
          "output_type": "execute_result",
          "data": {
            "text/plain": [
              "0.7999999999999998"
            ]
          },
          "metadata": {
            "tags": []
          },
          "execution_count": 21
        }
      ]
    },
    {
      "cell_type": "code",
      "metadata": {
        "id": "ybF90xGB4ePm",
        "colab_type": "code",
        "outputId": "17f171bd-50ac-46b5-cd55-e10c4e34347d",
        "colab": {
          "base_uri": "https://localhost:8080/",
          "height": 34
        }
      },
      "source": [
        "#6.5 kayan noktalı sayı ile 2 tam sayısının çarpımı \n",
        "6.5 * 2"
      ],
      "execution_count": 0,
      "outputs": [
        {
          "output_type": "execute_result",
          "data": {
            "text/plain": [
              "13.0"
            ]
          },
          "metadata": {
            "tags": []
          },
          "execution_count": 25
        }
      ]
    },
    {
      "cell_type": "code",
      "metadata": {
        "id": "yiu4A648322O",
        "colab_type": "code",
        "outputId": "5ab49f8a-32c7-4631-8585-0c34f087ebe5",
        "colab": {
          "base_uri": "https://localhost:8080/",
          "height": 34
        }
      },
      "source": [
        "#6.5 kayan noktalı sayı ile 2 tam sayısını çarptım ve round() yuvarlama fonksiyonu ile yuvarladım.\n",
        "round(6.5 * 2)"
      ],
      "execution_count": 0,
      "outputs": [
        {
          "output_type": "execute_result",
          "data": {
            "text/plain": [
              "13"
            ]
          },
          "metadata": {
            "tags": []
          },
          "execution_count": 26
        }
      ]
    },
    {
      "cell_type": "code",
      "metadata": {
        "id": "5FU0Cluq4dfX",
        "colab_type": "code",
        "outputId": "8fb6b83d-dd21-4c28-e06a-48d94743cf72",
        "colab": {
          "base_uri": "https://localhost:8080/",
          "height": 34
        }
      },
      "source": [
        "#Sayının veri tipine baktım.\n",
        "type(6.5*2)"
      ],
      "execution_count": 0,
      "outputs": [
        {
          "output_type": "execute_result",
          "data": {
            "text/plain": [
              "float"
            ]
          },
          "metadata": {
            "tags": []
          },
          "execution_count": 27
        }
      ]
    },
    {
      "cell_type": "code",
      "metadata": {
        "id": "3jeHhwgR4o0Q",
        "colab_type": "code",
        "outputId": "a9baff57-6b5e-4b0a-95a1-afa015120e60",
        "colab": {
          "base_uri": "https://localhost:8080/",
          "height": 34
        }
      },
      "source": [
        "3**3"
      ],
      "execution_count": 0,
      "outputs": [
        {
          "output_type": "execute_result",
          "data": {
            "text/plain": [
              "27"
            ]
          },
          "metadata": {
            "tags": []
          },
          "execution_count": 29
        }
      ]
    },
    {
      "cell_type": "code",
      "metadata": {
        "id": "2f9MnoBp47_k",
        "colab_type": "code",
        "outputId": "5cad40a7-169c-4315-8f05-a20eac20dc56",
        "colab": {
          "base_uri": "https://localhost:8080/",
          "height": 34
        }
      },
      "source": [
        "10 % 3 #10 modül 3 = 10'un 3 e bölümünden kalan."
      ],
      "execution_count": 0,
      "outputs": [
        {
          "output_type": "execute_result",
          "data": {
            "text/plain": [
              "1"
            ]
          },
          "metadata": {
            "tags": []
          },
          "execution_count": 30
        }
      ]
    },
    {
      "cell_type": "code",
      "metadata": {
        "id": "0vb4dBZz4_wz",
        "colab_type": "code",
        "outputId": "6529f63e-64a4-45a8-aa36-02232da506e6",
        "colab": {
          "base_uri": "https://localhost:8080/",
          "height": 34
        }
      },
      "source": [
        "10 // 3 # 10 // 3 kalansız bölme"
      ],
      "execution_count": 0,
      "outputs": [
        {
          "output_type": "execute_result",
          "data": {
            "text/plain": [
              "3"
            ]
          },
          "metadata": {
            "tags": []
          },
          "execution_count": 47
        }
      ]
    },
    {
      "cell_type": "code",
      "metadata": {
        "id": "2BckSZAQ-5Ar",
        "colab_type": "code",
        "outputId": "545b95d2-dbb4-4c2d-af62-d4b93088564c",
        "colab": {
          "base_uri": "https://localhost:8080/",
          "height": 34
        }
      },
      "source": [
        "type(10 // 3)"
      ],
      "execution_count": 0,
      "outputs": [
        {
          "output_type": "execute_result",
          "data": {
            "text/plain": [
              "int"
            ]
          },
          "metadata": {
            "tags": []
          },
          "execution_count": 51
        }
      ]
    },
    {
      "cell_type": "code",
      "metadata": {
        "id": "7jPIZuS0-yzD",
        "colab_type": "code",
        "outputId": "506e8c75-a471-4f20-fb37-ffaa9df94742",
        "colab": {
          "base_uri": "https://localhost:8080/",
          "height": 34
        }
      },
      "source": [
        "type(10 / 3)"
      ],
      "execution_count": 0,
      "outputs": [
        {
          "output_type": "execute_result",
          "data": {
            "text/plain": [
              "float"
            ]
          },
          "metadata": {
            "tags": []
          },
          "execution_count": 50
        }
      ]
    },
    {
      "cell_type": "code",
      "metadata": {
        "id": "wDMirp4S5Dv2",
        "colab_type": "code",
        "outputId": "6c2485e9-966c-4b81-8ee8-52acbb7e96bf",
        "colab": {
          "base_uri": "https://localhost:8080/",
          "height": 34
        }
      },
      "source": [
        "pow(5,2) # power fonksiyonu üs alır. ==> 5**2"
      ],
      "execution_count": 0,
      "outputs": [
        {
          "output_type": "execute_result",
          "data": {
            "text/plain": [
              "25"
            ]
          },
          "metadata": {
            "tags": []
          },
          "execution_count": 34
        }
      ]
    },
    {
      "cell_type": "code",
      "metadata": {
        "id": "8U3aaLpL-Ndc",
        "colab_type": "code",
        "outputId": "8b148c26-8e01-4498-f3d7-be464c733128",
        "colab": {
          "base_uri": "https://localhost:8080/",
          "height": 34
        }
      },
      "source": [
        "type(2020)"
      ],
      "execution_count": 0,
      "outputs": [
        {
          "output_type": "execute_result",
          "data": {
            "text/plain": [
              "int"
            ]
          },
          "metadata": {
            "tags": []
          },
          "execution_count": 43
        }
      ]
    },
    {
      "cell_type": "code",
      "metadata": {
        "id": "raQe6iey-axj",
        "colab_type": "code",
        "outputId": "ffe9936e-cf7c-4f21-9842-8c56bc9e7de1",
        "colab": {
          "base_uri": "https://localhost:8080/",
          "height": 34
        }
      },
      "source": [
        "ml_days = ()\n",
        "type(ml_days)"
      ],
      "execution_count": 0,
      "outputs": [
        {
          "output_type": "execute_result",
          "data": {
            "text/plain": [
              "tuple"
            ]
          },
          "metadata": {
            "tags": []
          },
          "execution_count": 45
        }
      ]
    },
    {
      "cell_type": "code",
      "metadata": {
        "id": "9xwWPJuh-eyY",
        "colab_type": "code",
        "outputId": "70d84c27-1057-4aff-9e26-54f11230d7a0",
        "colab": {
          "base_uri": "https://localhost:8080/",
          "height": 34
        }
      },
      "source": [
        "ml_dayz = []\n",
        "type(ml_dayz)"
      ],
      "execution_count": 0,
      "outputs": [
        {
          "output_type": "execute_result",
          "data": {
            "text/plain": [
              "list"
            ]
          },
          "metadata": {
            "tags": []
          },
          "execution_count": 46
        }
      ]
    },
    {
      "cell_type": "code",
      "metadata": {
        "id": "JlHoPAPd_HSE",
        "colab_type": "code",
        "outputId": "17de926c-916a-408c-ffd8-6fa44f359ebe",
        "colab": {
          "base_uri": "https://localhost:8080/",
          "height": 34
        }
      },
      "source": [
        "\"Python\"*5\n"
      ],
      "execution_count": 0,
      "outputs": [
        {
          "output_type": "execute_result",
          "data": {
            "text/plain": [
              "'PythonPythonPythonPythonPython'"
            ]
          },
          "metadata": {
            "tags": []
          },
          "execution_count": 64
        }
      ]
    },
    {
      "cell_type": "code",
      "metadata": {
        "id": "RaAnawJfASii",
        "colab_type": "code",
        "outputId": "21e2ed80-d8f7-4404-b85c-5ee19c136860",
        "colab": {
          "base_uri": "https://localhost:8080/",
          "height": 119
        }
      },
      "source": [
        "print(\"Python\\n\"*5)"
      ],
      "execution_count": 0,
      "outputs": [
        {
          "output_type": "stream",
          "text": [
            "Python\n",
            "Python\n",
            "Python\n",
            "Python\n",
            "Python\n",
            "\n"
          ],
          "name": "stdout"
        }
      ]
    },
    {
      "cell_type": "markdown",
      "metadata": {
        "id": "SUdH8XeWAZ9w",
        "colab_type": "text"
      },
      "source": [
        "#Değişkenler(Variables)"
      ]
    },
    {
      "cell_type": "code",
      "metadata": {
        "id": "guyrGPgTAcP6",
        "colab_type": "code",
        "outputId": "eeceb693-00fd-47f2-e406-7c593c7ff3d8",
        "colab": {
          "base_uri": "https://localhost:8080/",
          "height": 51
        }
      },
      "source": [
        "degisken1 = 100\n",
        "degisken2 = 150\n",
        "#degisken 1 ve degisken 2 adlı değişkenlerimi oluşturdum.\n",
        "print(degisken1)\n",
        "print(degisken2)"
      ],
      "execution_count": 0,
      "outputs": [
        {
          "output_type": "stream",
          "text": [
            "100\n",
            "150\n"
          ],
          "name": "stdout"
        }
      ]
    },
    {
      "cell_type": "code",
      "metadata": {
        "id": "i0f2TQZABBSQ",
        "colab_type": "code",
        "outputId": "afb199b0-877c-4aed-bd7f-ecc9bd292a04",
        "colab": {
          "base_uri": "https://localhost:8080/",
          "height": 51
        }
      },
      "source": [
        "#degisken1 adlı değişkenimdeki değeri, degisken2 adlı değişkenin değeriyle takas ettim.\n",
        "degisken1, degisken2 = degisken2, degisken1\n",
        "print(degisken1)\n",
        "print(degisken2)"
      ],
      "execution_count": 0,
      "outputs": [
        {
          "output_type": "stream",
          "text": [
            "150\n",
            "100\n"
          ],
          "name": "stdout"
        }
      ]
    },
    {
      "cell_type": "code",
      "metadata": {
        "id": "F-sBUNGODw1S",
        "colab_type": "code",
        "outputId": "f26d617b-7495-466f-8d03-34bd16f5e07e",
        "colab": {
          "base_uri": "https://localhost:8080/",
          "height": 34
        }
      },
      "source": [
        "saatlik_ucret = 100\n",
        "haftalik_calisma_saati = 40\n",
        "maas = saatlik_ucret * haftalik_calisma_saati\n",
        "print(maas)"
      ],
      "execution_count": 0,
      "outputs": [
        {
          "output_type": "stream",
          "text": [
            "4000\n"
          ],
          "name": "stdout"
        }
      ]
    },
    {
      "cell_type": "code",
      "metadata": {
        "id": "aXOtuDjBGmiu",
        "colab_type": "code",
        "colab": {}
      },
      "source": [
        "username = 'admin'"
      ],
      "execution_count": 0,
      "outputs": []
    },
    {
      "cell_type": "code",
      "metadata": {
        "id": "J9TPxJbWGn3d",
        "colab_type": "code",
        "colab": {}
      },
      "source": [
        "password = 'password'\n"
      ],
      "execution_count": 0,
      "outputs": []
    },
    {
      "cell_type": "code",
      "metadata": {
        "id": "lDsu0qG1Gt_6",
        "colab_type": "code",
        "outputId": "93165c09-1f13-45f3-dd59-2b17733070c4",
        "colab": {
          "base_uri": "https://localhost:8080/",
          "height": 34
        }
      },
      "source": [
        "len(username)"
      ],
      "execution_count": 0,
      "outputs": [
        {
          "output_type": "execute_result",
          "data": {
            "text/plain": [
              "5"
            ]
          },
          "metadata": {
            "tags": []
          },
          "execution_count": 75
        }
      ]
    },
    {
      "cell_type": "code",
      "metadata": {
        "id": "EZIoEfQBGvkj",
        "colab_type": "code",
        "outputId": "8836ee13-1e65-4cab-ba85-da69546583f1",
        "colab": {
          "base_uri": "https://localhost:8080/",
          "height": 34
        }
      },
      "source": [
        "len(password)"
      ],
      "execution_count": 0,
      "outputs": [
        {
          "output_type": "execute_result",
          "data": {
            "text/plain": [
              "8"
            ]
          },
          "metadata": {
            "tags": []
          },
          "execution_count": 76
        }
      ]
    },
    {
      "cell_type": "code",
      "metadata": {
        "id": "grW78R7EGyIE",
        "colab_type": "code",
        "outputId": "cc07448f-9f50-48c5-c8c1-f470bc35c57b",
        "colab": {
          "base_uri": "https://localhost:8080/",
          "height": 34
        }
      },
      "source": [
        "len(username)+len(password)"
      ],
      "execution_count": 0,
      "outputs": [
        {
          "output_type": "execute_result",
          "data": {
            "text/plain": [
              "13"
            ]
          },
          "metadata": {
            "tags": []
          },
          "execution_count": 78
        }
      ]
    },
    {
      "cell_type": "code",
      "metadata": {
        "id": "1G4-3VXKG3kC",
        "colab_type": "code",
        "outputId": "996b1876-d06f-44b4-a7b0-d45b4c6e3781",
        "colab": {
          "base_uri": "https://localhost:8080/",
          "height": 68
        }
      },
      "source": [
        "sayi = 6\n",
        "#6\n",
        "\n",
        "sayi+=5\n",
        "print(sayı)\n",
        "\n",
        "sayi-=5\n",
        "print(sayi)\n",
        "sayi = sayi*10+6\n",
        "print(sayi)\n",
        "\n"
      ],
      "execution_count": 0,
      "outputs": [
        {
          "output_type": "stream",
          "text": [
            "11\n",
            "6\n",
            "66\n"
          ],
          "name": "stdout"
        }
      ]
    },
    {
      "cell_type": "code",
      "metadata": {
        "id": "4v6eIPFbLPOM",
        "colab_type": "code",
        "outputId": "c752c5ce-e80a-4528-e997-36deae3012e3",
        "colab": {
          "base_uri": "https://localhost:8080/",
          "height": 578
        }
      },
      "source": [
        "#anahtar kelimeler\n",
        "import keyword \n",
        "keyword.kwlist"
      ],
      "execution_count": 0,
      "outputs": [
        {
          "output_type": "execute_result",
          "data": {
            "text/plain": [
              "['False',\n",
              " 'None',\n",
              " 'True',\n",
              " 'and',\n",
              " 'as',\n",
              " 'assert',\n",
              " 'break',\n",
              " 'class',\n",
              " 'continue',\n",
              " 'def',\n",
              " 'del',\n",
              " 'elif',\n",
              " 'else',\n",
              " 'except',\n",
              " 'finally',\n",
              " 'for',\n",
              " 'from',\n",
              " 'global',\n",
              " 'if',\n",
              " 'import',\n",
              " 'in',\n",
              " 'is',\n",
              " 'lambda',\n",
              " 'nonlocal',\n",
              " 'not',\n",
              " 'or',\n",
              " 'pass',\n",
              " 'raise',\n",
              " 'return',\n",
              " 'try',\n",
              " 'while',\n",
              " 'with',\n",
              " 'yield']"
            ]
          },
          "metadata": {
            "tags": []
          },
          "execution_count": 87
        }
      ]
    },
    {
      "cell_type": "code",
      "metadata": {
        "id": "eLXjzR6GL6Uv",
        "colab_type": "code",
        "colab": {}
      },
      "source": [
        "f = \"Merhaba\""
      ],
      "execution_count": 0,
      "outputs": []
    },
    {
      "cell_type": "code",
      "metadata": {
        "id": "Ze5mWBqeL8s6",
        "colab_type": "code",
        "outputId": "cef4450f-0a74-41c6-957b-13ffaa3c18f4",
        "colab": {
          "base_uri": "https://localhost:8080/",
          "height": 34
        }
      },
      "source": [
        "print(f)"
      ],
      "execution_count": 0,
      "outputs": [
        {
          "output_type": "stream",
          "text": [
            "Merhaba\n"
          ],
          "name": "stdout"
        }
      ]
    },
    {
      "cell_type": "code",
      "metadata": {
        "id": "9vT0su4iL-KB",
        "colab_type": "code",
        "colab": {}
      },
      "source": [
        "del f"
      ],
      "execution_count": 0,
      "outputs": []
    },
    {
      "cell_type": "code",
      "metadata": {
        "id": "hr1GAcWIMAH2",
        "colab_type": "code",
        "outputId": "880fa83f-e4d7-4091-912f-f552c1f6b65d",
        "colab": {
          "base_uri": "https://localhost:8080/",
          "height": 163
        }
      },
      "source": [
        "print(f)#f tanımlanmadı."
      ],
      "execution_count": 0,
      "outputs": [
        {
          "output_type": "error",
          "ename": "NameError",
          "evalue": "ignored",
          "traceback": [
            "\u001b[0;31m---------------------------------------------------------------------------\u001b[0m",
            "\u001b[0;31mNameError\u001b[0m                                 Traceback (most recent call last)",
            "\u001b[0;32m<ipython-input-91-fc0364975534>\u001b[0m in \u001b[0;36m<module>\u001b[0;34m()\u001b[0m\n\u001b[0;32m----> 1\u001b[0;31m \u001b[0mprint\u001b[0m\u001b[0;34m(\u001b[0m\u001b[0mf\u001b[0m\u001b[0;34m)\u001b[0m\u001b[0;34m\u001b[0m\u001b[0;34m\u001b[0m\u001b[0m\n\u001b[0m",
            "\u001b[0;31mNameError\u001b[0m: name 'f' is not defined"
          ]
        }
      ]
    },
    {
      "cell_type": "markdown",
      "metadata": {
        "id": "6mcabEBWMH0K",
        "colab_type": "text"
      },
      "source": [
        "#Print fonksiyonu"
      ]
    },
    {
      "cell_type": "code",
      "metadata": {
        "id": "gcWlBgz6MG_k",
        "colab_type": "code",
        "colab": {}
      },
      "source": [
        "print(\"Hello world\")"
      ],
      "execution_count": 0,
      "outputs": []
    },
    {
      "cell_type": "code",
      "metadata": {
        "id": "tRdWnHmxOcLa",
        "colab_type": "code",
        "outputId": "5785c923-7a93-48c0-d45b-442d02a75d67",
        "colab": {
          "base_uri": "https://localhost:8080/",
          "height": 34
        }
      },
      "source": [
        "print(\"Lorem\", \"Ipsum\", \"is\", \"simply\", \"dummy\", \"text\")"
      ],
      "execution_count": 0,
      "outputs": [
        {
          "output_type": "stream",
          "text": [
            "Lorem Ipsum is simply dummy text\n"
          ],
          "name": "stdout"
        }
      ]
    },
    {
      "cell_type": "code",
      "metadata": {
        "id": "fW4e9kuNOwwo",
        "colab_type": "code",
        "outputId": "1535f4e0-1fdd-4afc-f77d-1cc920041daf",
        "colab": {
          "base_uri": "https://localhost:8080/",
          "height": 34
        }
      },
      "source": [
        "print(\"Lorem\", \"Ipsum\", \"is\", \"simply\", \"dummy\", \"text\", sep=\" \", end = '\\n')"
      ],
      "execution_count": 0,
      "outputs": [
        {
          "output_type": "stream",
          "text": [
            "Lorem Ipsum is simply dummy text\n"
          ],
          "name": "stdout"
        }
      ]
    },
    {
      "cell_type": "code",
      "metadata": {
        "id": "64t-qY7KM2cT",
        "colab_type": "code",
        "outputId": "a13c83cd-bbb6-4a78-f2eb-a9d11c188d28",
        "colab": {
          "base_uri": "https://localhost:8080/",
          "height": 34
        }
      },
      "source": [
        "print(\"Lorem\",\"Ipsum\", \"is\", \"simply\", \"dummy\", \"text\", sep = \"-\", end='\\n')"
      ],
      "execution_count": 0,
      "outputs": [
        {
          "output_type": "stream",
          "text": [
            "Lorem-Ipsum-is-simply-dummy-text\n"
          ],
          "name": "stdout"
        }
      ]
    },
    {
      "cell_type": "code",
      "metadata": {
        "id": "V_2MpTw7PBYY",
        "colab_type": "code",
        "outputId": "f7f3d6ec-f033-4ddd-acbc-16914e99cc0c",
        "colab": {
          "base_uri": "https://localhost:8080/",
          "height": 34
        }
      },
      "source": [
        "print(\"Lorem\", \"Ipsum\", \"is\", \"simply\", \"dummy\", \"text\", sep =\"py\", end=\"!!\" )"
      ],
      "execution_count": 0,
      "outputs": [
        {
          "output_type": "stream",
          "text": [
            "LorempyIpsumpyispysimplypydummypytext!!"
          ],
          "name": "stdout"
        }
      ]
    },
    {
      "cell_type": "code",
      "metadata": {
        "id": "dymn6vLYctFE",
        "colab_type": "code",
        "outputId": "57842c54-c855-4be5-8ec4-da87660a6786",
        "colab": {
          "base_uri": "https://localhost:8080/",
          "height": 34
        }
      },
      "source": [
        "print(*\"Loremipsum\", sep=\"-\")"
      ],
      "execution_count": 0,
      "outputs": [
        {
          "output_type": "stream",
          "text": [
            "L-o-r-e-m-i-p-s-u-m\n"
          ],
          "name": "stdout"
        }
      ]
    },
    {
      "cell_type": "code",
      "metadata": {
        "id": "8z18yIJPdKNl",
        "colab_type": "code",
        "outputId": "a3fa92dc-ed50-4d7c-f15a-d1ebffe4808f",
        "colab": {
          "base_uri": "https://localhost:8080/",
          "height": 51
        }
      },
      "source": [
        "p = \"Ölü Ozanlar Deneği\", 1989\n",
        "print(p)\n",
        "type(p)"
      ],
      "execution_count": 0,
      "outputs": [
        {
          "output_type": "stream",
          "text": [
            "('Ölü Ozanlar Deneği', 1989)\n"
          ],
          "name": "stdout"
        },
        {
          "output_type": "execute_result",
          "data": {
            "text/plain": [
              "tuple"
            ]
          },
          "metadata": {
            "tags": []
          },
          "execution_count": 105
        }
      ]
    },
    {
      "cell_type": "code",
      "metadata": {
        "id": "YOwMSUBOiDYU",
        "colab_type": "code",
        "outputId": "acda58a8-e160-4346-f896-dfc2db4e3138",
        "colab": {
          "base_uri": "https://localhost:8080/",
          "height": 34
        }
      },
      "source": [
        "print(\"Eski Satırbaşı\\rYeni Satırbaşı\")"
      ],
      "execution_count": 0,
      "outputs": [
        {
          "output_type": "stream",
          "text": [
            "Eski Satırbaşı\rYeni Satırbaşı\n"
          ],
          "name": "stdout"
        }
      ]
    },
    {
      "cell_type": "code",
      "metadata": {
        "id": "IDqfQDnKj6HN",
        "colab_type": "code",
        "outputId": "c9d1f9b9-eecd-43ae-8e1b-aa1a757701a5",
        "colab": {
          "base_uri": "https://localhost:8080/",
          "height": 34
        }
      },
      "source": [
        "print(\"Birkaç boşluk\\tAralık\")"
      ],
      "execution_count": 0,
      "outputs": [
        {
          "output_type": "stream",
          "text": [
            "Birkaç boşluk\tAralık\n"
          ],
          "name": "stdout"
        }
      ]
    },
    {
      "cell_type": "code",
      "metadata": {
        "id": "_H3A_0YNJ1aC",
        "colab_type": "code",
        "outputId": "0c4fcd9b-f1fd-44dc-f45b-5d47b65afeb3",
        "colab": {
          "base_uri": "https://localhost:8080/",
          "height": 34
        }
      },
      "source": [
        "print(r\"Merhaba Dünya\\nMerhaba!\")"
      ],
      "execution_count": 0,
      "outputs": [
        {
          "output_type": "stream",
          "text": [
            "Merhaba Dünya\\nMerhaba!\n"
          ],
          "name": "stdout"
        }
      ]
    },
    {
      "cell_type": "code",
      "metadata": {
        "id": "R4xwGZNgKLDu",
        "colab_type": "code",
        "outputId": "c3a8f2cd-ad6d-4571-e955-8a23d764ea50",
        "colab": {
          "base_uri": "https://localhost:8080/",
          "height": 51
        }
      },
      "source": [
        "print(\"Merhaba Dünya\\nMerhaba!\")"
      ],
      "execution_count": 0,
      "outputs": [
        {
          "output_type": "stream",
          "text": [
            "Merhaba Dünya\n",
            "Merhaba!\n"
          ],
          "name": "stdout"
        }
      ]
    },
    {
      "cell_type": "markdown",
      "metadata": {
        "id": "y0FSQUF5KdL2",
        "colab_type": "text"
      },
      "source": [
        "#Kullanıcıdan Veri Almak( input() )\n"
      ]
    },
    {
      "cell_type": "code",
      "metadata": {
        "id": "30q7A3WQKkrA",
        "colab_type": "code",
        "outputId": "212d8403-89bc-4520-e2bb-0f8ece2d9940",
        "colab": {
          "base_uri": "https://localhost:8080/",
          "height": 68
        }
      },
      "source": [
        "  isim = input(\"İsminiz : \")\n",
        "  yas = input(\"Yaşınız : \")\n",
        "  print(isim, yas)\n"
      ],
      "execution_count": 0,
      "outputs": [
        {
          "output_type": "stream",
          "text": [
            "İsminiz : Ali\n",
            "Yaşınız : 25\n",
            "Ali 25\n"
          ],
          "name": "stdout"
        }
      ]
    },
    {
      "cell_type": "code",
      "metadata": {
        "id": "aW0LqrZcK6bn",
        "colab_type": "code",
        "outputId": "be2d6b71-e60b-49f0-9dc4-ca55ece9ef36",
        "colab": {
          "base_uri": "https://localhost:8080/",
          "height": 180
        }
      },
      "source": [
        "yas+10\n",
        "\n"
      ],
      "execution_count": 0,
      "outputs": [
        {
          "output_type": "error",
          "ename": "TypeError",
          "evalue": "ignored",
          "traceback": [
            "\u001b[0;31m---------------------------------------------------------------------------\u001b[0m",
            "\u001b[0;31mTypeError\u001b[0m                                 Traceback (most recent call last)",
            "\u001b[0;32m<ipython-input-130-56d43fce9d90>\u001b[0m in \u001b[0;36m<module>\u001b[0;34m()\u001b[0m\n\u001b[0;32m----> 1\u001b[0;31m \u001b[0myas\u001b[0m\u001b[0;34m+\u001b[0m\u001b[0;36m10\u001b[0m\u001b[0;34m\u001b[0m\u001b[0;34m\u001b[0m\u001b[0m\n\u001b[0m\u001b[1;32m      2\u001b[0m \u001b[0;34m\u001b[0m\u001b[0m\n",
            "\u001b[0;31mTypeError\u001b[0m: must be str, not int"
          ]
        }
      ]
    },
    {
      "cell_type": "code",
      "metadata": {
        "id": "0ktT5B75LdNl",
        "colab_type": "code",
        "outputId": "478b2093-87e9-48c9-bf65-26b3ce48f5cc",
        "colab": {
          "base_uri": "https://localhost:8080/",
          "height": 34
        }
      },
      "source": [
        "type(yas)"
      ],
      "execution_count": 0,
      "outputs": [
        {
          "output_type": "execute_result",
          "data": {
            "text/plain": [
              "str"
            ]
          },
          "metadata": {
            "tags": []
          },
          "execution_count": 131
        }
      ]
    },
    {
      "cell_type": "code",
      "metadata": {
        "id": "5o-GZWNiLiNt",
        "colab_type": "code",
        "outputId": "79761094-097b-4dff-a34e-34bd928d11c0",
        "colab": {
          "base_uri": "https://localhost:8080/",
          "height": 34
        }
      },
      "source": [
        "yas = int(input())"
      ],
      "execution_count": 0,
      "outputs": [
        {
          "output_type": "stream",
          "text": [
            "25\n"
          ],
          "name": "stdout"
        }
      ]
    },
    {
      "cell_type": "code",
      "metadata": {
        "id": "UcHYtlIBLpWl",
        "colab_type": "code",
        "outputId": "755e7d91-e1f9-4984-8622-11a67633c9b6",
        "colab": {
          "base_uri": "https://localhost:8080/",
          "height": 34
        }
      },
      "source": [
        "type(yas)"
      ],
      "execution_count": 0,
      "outputs": [
        {
          "output_type": "execute_result",
          "data": {
            "text/plain": [
              "int"
            ]
          },
          "metadata": {
            "tags": []
          },
          "execution_count": 133
        }
      ]
    },
    {
      "cell_type": "code",
      "metadata": {
        "id": "KBWDd9uBLrol",
        "colab_type": "code",
        "outputId": "ae81ff2d-2815-4aed-85db-ed62a2473aa3",
        "colab": {
          "base_uri": "https://localhost:8080/",
          "height": 34
        }
      },
      "source": [
        "yas + 10"
      ],
      "execution_count": 0,
      "outputs": [
        {
          "output_type": "execute_result",
          "data": {
            "text/plain": [
              "35"
            ]
          },
          "metadata": {
            "tags": []
          },
          "execution_count": 134
        }
      ]
    },
    {
      "cell_type": "code",
      "metadata": {
        "id": "UTTD6ooHLv3O",
        "colab_type": "code",
        "outputId": "64b31aab-a8d9-4a23-c76d-4302ddab2c8e",
        "colab": {
          "base_uri": "https://localhost:8080/",
          "height": 34
        }
      },
      "source": [
        "print(isim+\" \"+str(yas)+\" \"+\"yaşında!\")"
      ],
      "execution_count": 0,
      "outputs": [
        {
          "output_type": "stream",
          "text": [
            "Ali 25 yaşında!\n"
          ],
          "name": "stdout"
        }
      ]
    },
    {
      "cell_type": "markdown",
      "metadata": {
        "id": "lyZ8DECENlGM",
        "colab_type": "text"
      },
      "source": [
        "#Karakter Dizisi Biçimlendirme (String Formatting)"
      ]
    },
    {
      "cell_type": "code",
      "metadata": {
        "id": "aQ2_XpPaMBVv",
        "colab_type": "code",
        "outputId": "118a8722-265b-4d2f-c301-aec876171925",
        "colab": {
          "base_uri": "https://localhost:8080/",
          "height": 34
        }
      },
      "source": [
        "print(\"Selam benim adım {}, {} yaşındayım\".format(isim,yas))"
      ],
      "execution_count": 0,
      "outputs": [
        {
          "output_type": "stream",
          "text": [
            "Selam benim adım Ali, 25 yaşındayım\n"
          ],
          "name": "stdout"
        }
      ]
    },
    {
      "cell_type": "code",
      "metadata": {
        "id": "dK1VG5vsNJ8I",
        "colab_type": "code",
        "outputId": "d3995235-7376-44cf-d14a-87bae56bc0c3",
        "colab": {
          "base_uri": "https://localhost:8080/",
          "height": 34
        }
      },
      "source": [
        "print(f\"Selam benim adım {isim}, {yas} yaşındayım.\")"
      ],
      "execution_count": 0,
      "outputs": [
        {
          "output_type": "stream",
          "text": [
            "Selam benim adım Ali, 25 yaşındayım.\n"
          ],
          "name": "stdout"
        }
      ]
    },
    {
      "cell_type": "markdown",
      "metadata": {
        "id": "P2oo5_YKNrZw",
        "colab_type": "text"
      },
      "source": [
        "#Koşullu Durumlar (Condition Statements)"
      ]
    },
    {
      "cell_type": "code",
      "metadata": {
        "id": "HW1o9btZNu8P",
        "colab_type": "code",
        "outputId": "60ec35ba-57c6-4239-9f0b-b31428e6407d",
        "colab": {
          "base_uri": "https://localhost:8080/",
          "height": 34
        }
      },
      "source": [
        "bool(1)"
      ],
      "execution_count": 0,
      "outputs": [
        {
          "output_type": "execute_result",
          "data": {
            "text/plain": [
              "True"
            ]
          },
          "metadata": {
            "tags": []
          },
          "execution_count": 142
        }
      ]
    },
    {
      "cell_type": "code",
      "metadata": {
        "id": "pHGHY-8yNzSq",
        "colab_type": "code",
        "outputId": "d793c996-ef5c-4b6a-bc5e-6de2be2ff032",
        "colab": {
          "base_uri": "https://localhost:8080/",
          "height": 34
        }
      },
      "source": [
        "bool(0)"
      ],
      "execution_count": 0,
      "outputs": [
        {
          "output_type": "execute_result",
          "data": {
            "text/plain": [
              "False"
            ]
          },
          "metadata": {
            "tags": []
          },
          "execution_count": 143
        }
      ]
    },
    {
      "cell_type": "code",
      "metadata": {
        "id": "Td9zLdseN2Zc",
        "colab_type": "code",
        "outputId": "c6a1c612-2e5e-432c-bc3b-24d8ce0101be",
        "colab": {
          "base_uri": "https://localhost:8080/",
          "height": 34
        }
      },
      "source": [
        "bool(\"\")"
      ],
      "execution_count": 0,
      "outputs": [
        {
          "output_type": "execute_result",
          "data": {
            "text/plain": [
              "False"
            ]
          },
          "metadata": {
            "tags": []
          },
          "execution_count": 144
        }
      ]
    },
    {
      "cell_type": "code",
      "metadata": {
        "id": "hsI1Fl3iYu01",
        "colab_type": "code",
        "outputId": "7ebc2dd9-446c-4334-dbf4-411e751dbd38",
        "colab": {
          "base_uri": "https://localhost:8080/",
          "height": 34
        }
      },
      "source": [
        "bool(\"Lorem ipsum\")"
      ],
      "execution_count": 0,
      "outputs": [
        {
          "output_type": "execute_result",
          "data": {
            "text/plain": [
              "True"
            ]
          },
          "metadata": {
            "tags": []
          },
          "execution_count": 1
        }
      ]
    },
    {
      "cell_type": "code",
      "metadata": {
        "id": "QQAQJ57yYx8b",
        "colab_type": "code",
        "outputId": "9b3c2936-f1f9-4671-c9cc-57a7632536e4",
        "colab": {
          "base_uri": "https://localhost:8080/",
          "height": 34
        }
      },
      "source": [
        "bool(1234)"
      ],
      "execution_count": 0,
      "outputs": [
        {
          "output_type": "execute_result",
          "data": {
            "text/plain": [
              "True"
            ]
          },
          "metadata": {
            "tags": []
          },
          "execution_count": 2
        }
      ]
    },
    {
      "cell_type": "markdown",
      "metadata": {
        "id": "PQRhmwr0Y2nJ",
        "colab_type": "text"
      },
      "source": [
        "- \"==\"    (Eşittir)\n",
        "- \"!=\"    (Eşit Değildir)\n",
        "- \"<\" (Küçüktür)\n",
        "- \">\" (Büyüktür)\n",
        "- \">=\" (Büyük Eşittir)\n",
        "- \"<=\" (Küçük Eşittir)\n",
        "\n"
      ]
    },
    {
      "cell_type": "code",
      "metadata": {
        "id": "j_Ql5G07Zx4V",
        "colab_type": "code",
        "outputId": "263f4113-7a1e-4877-f196-cfad2bf34bbf",
        "colab": {
          "base_uri": "https://localhost:8080/",
          "height": 68
        }
      },
      "source": [
        "print(\"(50>30) : \", (50 > 30))\n",
        "print(\"(20>30) : \", (20 > 30))\n",
        "x = 20>30 \n",
        "if x == False:\n",
        "  print(\"0\")\n",
        "else : \n",
        "  print(\"1\")"
      ],
      "execution_count": 0,
      "outputs": [
        {
          "output_type": "stream",
          "text": [
            "(50>30) :  True\n",
            "(20>30) :  False\n",
            "0\n"
          ],
          "name": "stdout"
        }
      ]
    },
    {
      "cell_type": "code",
      "metadata": {
        "id": "zCTFsfKSaVh2",
        "colab_type": "code",
        "outputId": "7dbb902a-601e-4f41-ad4c-6b1ac5e26465",
        "colab": {
          "base_uri": "https://localhost:8080/",
          "height": 34
        }
      },
      "source": [
        "print(\"(50>30) : , (50 > 30)\", (50>30) and (50>30))"
      ],
      "execution_count": 0,
      "outputs": [
        {
          "output_type": "stream",
          "text": [
            "(50>30) : , (50 > 30) True\n"
          ],
          "name": "stdout"
        }
      ]
    },
    {
      "cell_type": "code",
      "metadata": {
        "id": "OfEPDeveas91",
        "colab_type": "code",
        "outputId": "3e249ae8-707e-411f-92de-ca3ad6c41fc7",
        "colab": {
          "base_uri": "https://localhost:8080/",
          "height": 34
        }
      },
      "source": [
        "print(\"(20>=20)  veya (20 > 30)\", (20>=20) or (20>30))"
      ],
      "execution_count": 0,
      "outputs": [
        {
          "output_type": "stream",
          "text": [
            "(20>=20)  veya (20 > 30) True\n"
          ],
          "name": "stdout"
        }
      ]
    },
    {
      "cell_type": "code",
      "metadata": {
        "id": "oUAmgIlybERF",
        "colab_type": "code",
        "outputId": "5e2397f1-3e9f-4b90-97f1-70350b8e108a",
        "colab": {
          "base_uri": "https://localhost:8080/",
          "height": 34
        }
      },
      "source": [
        "print(True and False)"
      ],
      "execution_count": 0,
      "outputs": [
        {
          "output_type": "stream",
          "text": [
            "False\n"
          ],
          "name": "stdout"
        }
      ]
    },
    {
      "cell_type": "code",
      "metadata": {
        "id": "28z5ArylbJRf",
        "colab_type": "code",
        "outputId": "1a606796-77b0-4877-84b1-77c32a47266b",
        "colab": {
          "base_uri": "https://localhost:8080/",
          "height": 34
        }
      },
      "source": [
        "print(False or True)"
      ],
      "execution_count": 0,
      "outputs": [
        {
          "output_type": "stream",
          "text": [
            "True\n"
          ],
          "name": "stdout"
        }
      ]
    },
    {
      "cell_type": "code",
      "metadata": {
        "id": "qKcrMdZzbQSu",
        "colab_type": "code",
        "colab": {}
      },
      "source": [
        "a = int(input(\"Lütfen bir sayı giriniz: \"))\n"
      ],
      "execution_count": 0,
      "outputs": []
    },
    {
      "cell_type": "code",
      "metadata": {
        "id": "F6aZJhGFbhQr",
        "colab_type": "code",
        "outputId": "53882aa6-c5c1-4cec-dbd1-ab0437e39ed1",
        "colab": {
          "base_uri": "https://localhost:8080/",
          "height": 34
        }
      },
      "source": [
        "print(a)"
      ],
      "execution_count": 0,
      "outputs": [
        {
          "output_type": "stream",
          "text": [
            "25\n"
          ],
          "name": "stdout"
        }
      ]
    },
    {
      "cell_type": "code",
      "metadata": {
        "id": "ra5V4Tj_b45n",
        "colab_type": "code",
        "colab": {}
      },
      "source": [
        "gercek_id = \"test\"\n",
        "gercek_pass = \"test\"\n",
        "\n",
        "a = input(\"Lütfen id'nizi giriniz : \")\n",
        "b = input(\"Lütfen pass'inizi giriniz . \")\n",
        "\n",
        "if a == gercek_id and b == gercek_pass:\n",
        "  print(\"Giriş yaptınız.\")\n",
        "else:\n",
        "  print(\"Giriş bilgilerinizi kontrol ediniz.\")\n",
        "  \n"
      ],
      "execution_count": 0,
      "outputs": []
    },
    {
      "cell_type": "code",
      "metadata": {
        "id": "zSyX8f-SdD6z",
        "colab_type": "code",
        "outputId": "b89cbd13-b94a-4953-a12a-1fa5bc23533a",
        "colab": {
          "base_uri": "https://localhost:8080/",
          "height": 51
        }
      },
      "source": [
        "cumle = \"Hayatı ve özgürlüğü için ölümü göze alan bir millet asla yenilmez,Şuna inanmak gerekir ki, dünya yüzünde gördüğümüz her şey kadının eseridir.\"\n",
        "\n",
        "#Sözcük bulucu\n",
        "aranan_sozcuk = input(\"Lütfen aradığınız sözcüğü giriniz.\")\n",
        "if aranan_sozcuk in cumle:\n",
        "  print(\"Evet! girilen sözcük cümlede var.\")\n",
        "else:\n",
        "  print(\"Malesef girdiğiniz sözcük cümlede yer almıyor.\")"
      ],
      "execution_count": 0,
      "outputs": [
        {
          "output_type": "stream",
          "text": [
            "Lütfen aradığınız sözcüğü giriniz.a\n",
            "Evet! girilen sözcük cümlede var.\n"
          ],
          "name": "stdout"
        }
      ]
    },
    {
      "cell_type": "markdown",
      "metadata": {
        "id": "NxtbLG85eSJy",
        "colab_type": "text"
      },
      "source": [
        "# Walrus Operator "
      ]
    },
    {
      "cell_type": "code",
      "metadata": {
        "id": "Ruc2wi-neX2h",
        "colab_type": "code",
        "outputId": "70ef0a89-2590-42df-b37a-fc80d29ab852",
        "colab": {
          "base_uri": "https://localhost:8080/",
          "height": 129
        }
      },
      "source": [
        "# yas = int(input(\"Yaşınız : \"))\n",
        "if (yas := int(input(\"Yaşınız : \"))) >= 18:\n",
        "  print(f\"{yas} yaşından büyüksünüz. Girebilirsiniz!\")\n",
        "else:\n",
        "  print(f\"{yas} yaşındasınız henüz giremezsiniz.\")\n",
        "\n",
        "#Walrus Operator sayesinde if in içinde yaşı alabiliriz.\n"
      ],
      "execution_count": 0,
      "outputs": [
        {
          "output_type": "error",
          "ename": "SyntaxError",
          "evalue": "ignored",
          "traceback": [
            "\u001b[0;36m  File \u001b[0;32m\"<ipython-input-37-ac9448787ecb>\"\u001b[0;36m, line \u001b[0;32m2\u001b[0m\n\u001b[0;31m    if (yas := int(input(\"Yaşınız : \"))) >= 18:\u001b[0m\n\u001b[0m            ^\u001b[0m\n\u001b[0;31mSyntaxError\u001b[0m\u001b[0;31m:\u001b[0m invalid syntax\n"
          ]
        }
      ]
    },
    {
      "cell_type": "markdown",
      "metadata": {
        "id": "_ND1YAJCmguM",
        "colab_type": "text"
      },
      "source": [
        "#Dosya İşlemleri(File Operations)"
      ]
    },
    {
      "cell_type": "code",
      "metadata": {
        "id": "53tU7TeSmk40",
        "colab_type": "code",
        "colab": {}
      },
      "source": [
        "f = open('test.txt', 'w')\n",
        "print(\"Deneme0\", file = f, flush = False)\n",
        "#Flush false olduğu sürece yazılan bilgi, dosyaya yazılmayacak."
      ],
      "execution_count": 0,
      "outputs": []
    },
    {
      "cell_type": "code",
      "metadata": {
        "id": "bTgzEua1nhY6",
        "colab_type": "code",
        "outputId": "cf44bebc-1172-4edb-f5e0-0022d1009b91",
        "colab": {
          "base_uri": "https://localhost:8080/",
          "height": 34
        }
      },
      "source": [
        "print(\"Deneme1\", file = f, flush = True)\n",
        "print(\"Deneme2\", file = f, flush = True)\n",
        "f.write('Deneme3 f.write kullanarak.')"
      ],
      "execution_count": 0,
      "outputs": [
        {
          "output_type": "execute_result",
          "data": {
            "text/plain": [
              "27"
            ]
          },
          "metadata": {
            "tags": []
          },
          "execution_count": 8
        }
      ]
    },
    {
      "cell_type": "code",
      "metadata": {
        "id": "LG6IdsGnnnEy",
        "colab_type": "code",
        "colab": {}
      },
      "source": [
        "f.close() #Bir dosyanın kapanıp kapanmadığına mutlaka dikkat ediniz!\n"
      ],
      "execution_count": 0,
      "outputs": []
    },
    {
      "cell_type": "code",
      "metadata": {
        "id": "o8u9ULzaoXYW",
        "colab_type": "code",
        "outputId": "a7b59a54-bc5e-418f-b993-2673535c249f",
        "colab": {
          "base_uri": "https://localhost:8080/",
          "height": 119
        }
      },
      "source": [
        "f = open('test.txt', 'r')\n",
        "print(f.read())"
      ],
      "execution_count": 0,
      "outputs": [
        {
          "output_type": "stream",
          "text": [
            "Deneme0\n",
            "Deneme1\n",
            "Deneme2\n",
            "Deneme1\n",
            "Deneme2\n",
            "Deneme3 f.write kullanarak.\n"
          ],
          "name": "stdout"
        }
      ]
    },
    {
      "cell_type": "code",
      "metadata": {
        "id": "VTixhZTWohNR",
        "colab_type": "code",
        "colab": {}
      },
      "source": [
        "f.close()"
      ],
      "execution_count": 0,
      "outputs": []
    },
    {
      "cell_type": "code",
      "metadata": {
        "id": "KkfAsZdopfh8",
        "colab_type": "code",
        "outputId": "40d860dd-865d-46d7-b8eb-3d6b3ccfd7dd",
        "colab": {
          "base_uri": "https://localhost:8080/",
          "height": 163
        }
      },
      "source": [
        "print(f.read())"
      ],
      "execution_count": 0,
      "outputs": [
        {
          "output_type": "error",
          "ename": "ValueError",
          "evalue": "ignored",
          "traceback": [
            "\u001b[0;31m---------------------------------------------------------------------------\u001b[0m",
            "\u001b[0;31mValueError\u001b[0m                                Traceback (most recent call last)",
            "\u001b[0;32m<ipython-input-14-315c20b774c2>\u001b[0m in \u001b[0;36m<module>\u001b[0;34m()\u001b[0m\n\u001b[0;32m----> 1\u001b[0;31m \u001b[0mprint\u001b[0m\u001b[0;34m(\u001b[0m\u001b[0mf\u001b[0m\u001b[0;34m.\u001b[0m\u001b[0mread\u001b[0m\u001b[0;34m(\u001b[0m\u001b[0;34m)\u001b[0m\u001b[0;34m)\u001b[0m\u001b[0;34m\u001b[0m\u001b[0;34m\u001b[0m\u001b[0m\n\u001b[0m",
            "\u001b[0;31mValueError\u001b[0m: I/O operation on closed file."
          ]
        }
      ]
    },
    {
      "cell_type": "code",
      "metadata": {
        "id": "RtcroPg6pp3N",
        "colab_type": "code",
        "outputId": "c8e3df7a-2260-4418-bd76-c0475e0d3d9f",
        "colab": {
          "base_uri": "https://localhost:8080/",
          "height": 119
        }
      },
      "source": [
        "f.seek(0) #okuma imlecini başa götürürüz.\n",
        "print(f.read())"
      ],
      "execution_count": 0,
      "outputs": [
        {
          "output_type": "stream",
          "text": [
            "Deneme0\n",
            "Deneme1\n",
            "Deneme2\n",
            "Deneme1\n",
            "Deneme2\n",
            "Deneme3 f.write kullanarak.\n"
          ],
          "name": "stdout"
        }
      ]
    },
    {
      "cell_type": "code",
      "metadata": {
        "id": "gRtmmShcqM1t",
        "colab_type": "code",
        "outputId": "562f74a8-326a-4e96-f189-7b7f191355a4",
        "colab": {
          "base_uri": "https://localhost:8080/",
          "height": 102
        }
      },
      "source": [
        "f.seek(0)\n",
        "print(f.readline())\n",
        "print(f.readline())\n",
        "\n",
        "\n",
        "f.seek(0)\n",
        "print(f.readlines())\n",
        "f.close()"
      ],
      "execution_count": 0,
      "outputs": [
        {
          "output_type": "stream",
          "text": [
            "Deneme0\n",
            "\n",
            "Deneme1\n",
            "\n",
            "['Deneme0\\n', 'Deneme1\\n', 'Deneme2\\n', 'Deneme1\\n', 'Deneme2\\n', 'Deneme3 f.write kullanarak.']\n"
          ],
          "name": "stdout"
        }
      ]
    },
    {
      "cell_type": "code",
      "metadata": {
        "id": "gV7a31dosC0R",
        "colab_type": "code",
        "outputId": "12175631-33e2-4933-ae22-d33125a2e132",
        "colab": {
          "base_uri": "https://localhost:8080/",
          "height": 119
        }
      },
      "source": [
        "#-with- burayı çalıştır.Satır çalıştıktan sonra kapat.\n",
        "with open('test.txt', 'r+') as f:\n",
        "  print(f.read())\n",
        "  f.write('Deneme 4 with open() kullanarak.')\n"
      ],
      "execution_count": 0,
      "outputs": [
        {
          "output_type": "stream",
          "text": [
            "Deneme0\n",
            "Deneme1\n",
            "Deneme2\n",
            "Deneme1\n",
            "Deneme2\n",
            "Deneme3 f.write kullanarak.\n"
          ],
          "name": "stdout"
        }
      ]
    },
    {
      "cell_type": "markdown",
      "metadata": {
        "id": "iDuBxSizs13I",
        "colab_type": "text"
      },
      "source": [
        "#Döngüler(Loops)"
      ]
    },
    {
      "cell_type": "code",
      "metadata": {
        "id": "fxUeIvZYs4Ed",
        "colab_type": "code",
        "outputId": "f138f8c6-3df3-4676-d3ac-2b619a042647",
        "colab": {
          "base_uri": "https://localhost:8080/",
          "height": 119
        }
      },
      "source": [
        "a = 5\n",
        "#while = iken\n",
        "while a <= 10 : \n",
        "  print(a)\n",
        "  a+=1"
      ],
      "execution_count": 0,
      "outputs": [
        {
          "output_type": "stream",
          "text": [
            "5\n",
            "6\n",
            "7\n",
            "8\n",
            "9\n",
            "10\n"
          ],
          "name": "stdout"
        }
      ]
    },
    {
      "cell_type": "code",
      "metadata": {
        "id": "SdwEIFvBtEmA",
        "colab_type": "code",
        "outputId": "6f8f5095-30fe-4d1d-9fe6-982ab907c95d",
        "colab": {
          "base_uri": "https://localhost:8080/",
          "height": 204
        }
      },
      "source": [
        "isim = \"Alan TURİNG\"\n",
        "for harf in isim:\n",
        "  print(harf)"
      ],
      "execution_count": 0,
      "outputs": [
        {
          "output_type": "stream",
          "text": [
            "A\n",
            "l\n",
            "a\n",
            "n\n",
            " \n",
            "T\n",
            "U\n",
            "R\n",
            "İ\n",
            "N\n",
            "G\n"
          ],
          "name": "stdout"
        }
      ]
    },
    {
      "cell_type": "markdown",
      "metadata": {
        "id": "ph8M7XDTtZGe",
        "colab_type": "text"
      },
      "source": [
        "range, break, continue, pass statements"
      ]
    },
    {
      "cell_type": "code",
      "metadata": {
        "id": "VYY_1rbwteoe",
        "colab_type": "code",
        "outputId": "a11733b8-6669-4cd6-addc-913f3acf9f9c",
        "colab": {
          "base_uri": "https://localhost:8080/",
          "height": 34
        }
      },
      "source": [
        "for i in range(2, 12, 2):\n",
        "  print(i, end=' ')"
      ],
      "execution_count": 0,
      "outputs": [
        {
          "output_type": "stream",
          "text": [
            "2 4 6 8 10 "
          ],
          "name": "stdout"
        }
      ]
    },
    {
      "cell_type": "code",
      "metadata": {
        "id": "2WyjtOuGtq1G",
        "colab_type": "code",
        "outputId": "78d644aa-511e-4b26-d78b-6192b11a0d86",
        "colab": {
          "base_uri": "https://localhost:8080/",
          "height": 34
        }
      },
      "source": [
        "for i in range(10):\n",
        "  print(i, end = ' ')\n",
        "  if i == 5:\n",
        "    break"
      ],
      "execution_count": 0,
      "outputs": [
        {
          "output_type": "stream",
          "text": [
            "0 1 2 3 4 5 "
          ],
          "name": "stdout"
        }
      ]
    },
    {
      "cell_type": "code",
      "metadata": {
        "id": "inhaL7mAt2cM",
        "colab_type": "code",
        "outputId": "ddc37762-f23f-45a9-ad62-89068563188e",
        "colab": {
          "base_uri": "https://localhost:8080/",
          "height": 34
        }
      },
      "source": [
        "for i in range(10):\n",
        "  if i == 5:\n",
        "    continue\n",
        "  print(i, end = ' ')"
      ],
      "execution_count": 0,
      "outputs": [
        {
          "output_type": "stream",
          "text": [
            "0 1 2 3 4 6 7 8 9 "
          ],
          "name": "stdout"
        }
      ]
    },
    {
      "cell_type": "code",
      "metadata": {
        "id": "UP2Xm5LY-Lv0",
        "colab_type": "code",
        "outputId": "804de511-01f2-49aa-d823-76358abf8865",
        "colab": {
          "base_uri": "https://localhost:8080/",
          "height": 34
        }
      },
      "source": [
        "for i in range(10):\n",
        "  if i == 5:\n",
        "    pass\n",
        "  print(i, end = ' ')"
      ],
      "execution_count": 0,
      "outputs": [
        {
          "output_type": "stream",
          "text": [
            "0 1 2 3 4 5 6 7 8 9 "
          ],
          "name": "stdout"
        }
      ]
    },
    {
      "cell_type": "code",
      "metadata": {
        "id": "EEbx53cx-VD_",
        "colab_type": "code",
        "outputId": "5aecd145-b3b2-4a12-eb75-a712517dcd7f",
        "colab": {
          "base_uri": "https://localhost:8080/",
          "height": 102
        }
      },
      "source": [
        "for x in range(5):\n",
        "  print(\"saaydmr\")\n",
        "  if x == 5 :\n",
        "    break \n",
        "    "
      ],
      "execution_count": 0,
      "outputs": [
        {
          "output_type": "stream",
          "text": [
            "saaydmr\n",
            "saaydmr\n",
            "saaydmr\n",
            "saaydmr\n",
            "saaydmr\n"
          ],
          "name": "stdout"
        }
      ]
    },
    {
      "cell_type": "code",
      "metadata": {
        "id": "1WHwjZ3Z-_74",
        "colab_type": "code",
        "outputId": "247bfc6c-3833-477a-d4f9-c3c1a9ac0e99",
        "colab": {
          "base_uri": "https://localhost:8080/",
          "height": 153
        }
      },
      "source": [
        "print(25*('*'), (\" Login Panel \"), 25*('*'))\n",
        "kullanici_adi = 'saaydmr'\n",
        "sifre = 'saaydmr'\n",
        "\n",
        "while True:\n",
        "  kullanici_sor = input(\"Lütfen kullanıcı adını giriniz : \")\n",
        "  sifre_sor = input(\"Lütfen sifrenizi giriniz : \")\n",
        "  \n",
        "  if kullanici_adi == kullanici_sor and sifre == sifre_sor:\n",
        "    print(\"Başarıyla giriş yaptınız.\")\n",
        "    break\n",
        "  elif not kullanici_sor:\n",
        "    print(\"Kullanıcı adı boş olamaz!\")\n",
        "  elif not sifre_sor:\n",
        "    print(\"Şifre bölümü boş olamaz!\")\n",
        "  else:\n",
        "    print(\"Kullanıcı adı veya şifre yanlış!\")\n",
        "\n",
        "print(25*('*'), (\" Teşekkürler. \"), 25*('*'))\n",
        "\n"
      ],
      "execution_count": 0,
      "outputs": [
        {
          "output_type": "stream",
          "text": [
            "*************************  Login Panel  *************************\n",
            "Lütfen kullanıcı adını giriniz : dsa+\n",
            "Lütfen sifrenizi giriniz : saaydmr\n",
            "Kullanıcı adı veya şifre yanlış!\n",
            "Lütfen kullanıcı adını giriniz : saaydmr\n",
            "Lütfen sifrenizi giriniz : saaydmr\n",
            "Başarıyla giriş yaptınız.\n",
            "*************************  Teşekkürler.  *************************\n"
          ],
          "name": "stdout"
        }
      ]
    },
    {
      "cell_type": "code",
      "metadata": {
        "id": "hEIzbMK7G742",
        "colab_type": "code",
        "outputId": "3bd73d61-a857-4ab6-b184-80294910d4d4",
        "colab": {
          "base_uri": "https://localhost:8080/",
          "height": 68
        }
      },
      "source": [
        "try:\n",
        "  sayi1 = int(input(\"Bölünecek ilk sayıyı giriniz : \"))\n",
        "  sayi2 = int(input(\"Bölünecek ikinci sayıyı giriniz : \"))\n",
        "  sonuc = sayi1 / sayi2\n",
        "  print(\"Sonuç : \",sonuc)\n",
        "\n",
        "except ZeroDivisionError:\n",
        "  print(\"Herhangi bir sayı sıfıra bölünemez!\")\n",
        "\n",
        "except ValueError:\n",
        "  print(\"Lütfen Doğru bir değer giriniz!\")\n",
        "\n",
        "except KeyboardInterrupt:\n",
        "  print(\"Klavye ile müdahale oldu!\")\n",
        "\n",
        "except:\n",
        "  print(\"Bir hata meydana geldi!\")"
      ],
      "execution_count": 0,
      "outputs": [
        {
          "output_type": "stream",
          "text": [
            "Bölünecek ilk sayıyı giriniz : 9\n",
            "Bölünecek ikinci sayıyı giriniz : 0\n",
            "Herhangi bir sayı sıfıra bölünemez!\n"
          ],
          "name": "stdout"
        }
      ]
    },
    {
      "cell_type": "code",
      "metadata": {
        "id": "OLViRc18fJnl",
        "colab_type": "code",
        "outputId": "618a1963-4d2a-46d7-9046-481956ad4cc1",
        "colab": {
          "base_uri": "https://localhost:8080/",
          "height": 231
        }
      },
      "source": [
        "#raise (Bizim hata çıkartmamızı sağlar!)\n",
        "yas = int(input(\"Lütfen yaşınızı giriniz : \"))\n",
        "if yas < 0 :\n",
        "  raise Exception(\"Yaş sıfırdan küçük olamaz.\")\n",
        "print(\"Yaşınız : \",yas)"
      ],
      "execution_count": 0,
      "outputs": [
        {
          "output_type": "stream",
          "text": [
            "Lütfen yaşınızı giriniz : -20\n"
          ],
          "name": "stdout"
        },
        {
          "output_type": "error",
          "ename": "Exception",
          "evalue": "ignored",
          "traceback": [
            "\u001b[0;31m---------------------------------------------------------------------------\u001b[0m",
            "\u001b[0;31mException\u001b[0m                                 Traceback (most recent call last)",
            "\u001b[0;32m<ipython-input-87-769430fcb9af>\u001b[0m in \u001b[0;36m<module>\u001b[0;34m()\u001b[0m\n\u001b[1;32m      2\u001b[0m \u001b[0myas\u001b[0m \u001b[0;34m=\u001b[0m \u001b[0mint\u001b[0m\u001b[0;34m(\u001b[0m\u001b[0minput\u001b[0m\u001b[0;34m(\u001b[0m\u001b[0;34m\"Lütfen yaşınızı giriniz : \"\u001b[0m\u001b[0;34m)\u001b[0m\u001b[0;34m)\u001b[0m\u001b[0;34m\u001b[0m\u001b[0;34m\u001b[0m\u001b[0m\n\u001b[1;32m      3\u001b[0m \u001b[0;32mif\u001b[0m \u001b[0myas\u001b[0m \u001b[0;34m<\u001b[0m \u001b[0;36m0\u001b[0m \u001b[0;34m:\u001b[0m\u001b[0;34m\u001b[0m\u001b[0;34m\u001b[0m\u001b[0m\n\u001b[0;32m----> 4\u001b[0;31m   \u001b[0;32mraise\u001b[0m \u001b[0mException\u001b[0m\u001b[0;34m(\u001b[0m\u001b[0;34m\"Yaş sıfırdan küçük olamaz.\"\u001b[0m\u001b[0;34m)\u001b[0m\u001b[0;34m\u001b[0m\u001b[0;34m\u001b[0m\u001b[0m\n\u001b[0m\u001b[1;32m      5\u001b[0m \u001b[0mprint\u001b[0m\u001b[0;34m(\u001b[0m\u001b[0;34m\"Yaşınız : \"\u001b[0m\u001b[0;34m,\u001b[0m\u001b[0myas\u001b[0m\u001b[0;34m)\u001b[0m\u001b[0;34m\u001b[0m\u001b[0;34m\u001b[0m\u001b[0m\n",
            "\u001b[0;31mException\u001b[0m: Yaş sıfırdan küçük olamaz."
          ]
        }
      ]
    },
    {
      "cell_type": "markdown",
      "metadata": {
        "id": "xpwQ7oOIgo_B",
        "colab_type": "text"
      },
      "source": [
        "#Liste ve Demetler (List and Tuples)"
      ]
    },
    {
      "cell_type": "code",
      "metadata": {
        "id": "N3b-duNFgnh0",
        "colab_type": "code",
        "outputId": "3199afe8-e736-46a5-cffa-75fd8e5fea9c",
        "colab": {
          "base_uri": "https://localhost:8080/",
          "height": 34
        }
      },
      "source": [
        "liste1 = []\n",
        "liste1 = list()\n",
        "print(liste1, len(liste1))"
      ],
      "execution_count": 0,
      "outputs": [
        {
          "output_type": "stream",
          "text": [
            "[] 0\n"
          ],
          "name": "stdout"
        }
      ]
    },
    {
      "cell_type": "code",
      "metadata": {
        "id": "RH8ocAntgvcP",
        "colab_type": "code",
        "outputId": "e2a241e7-3fbd-426a-8697-d4918f1b3913",
        "colab": {
          "base_uri": "https://localhost:8080/",
          "height": 51
        }
      },
      "source": [
        "liste2 = [1,2,3,4,5]\n",
        "print(\"Listenin elemanları = \",liste2, \"\\nListenin uzunluğu = \",len(liste2))"
      ],
      "execution_count": 0,
      "outputs": [
        {
          "output_type": "stream",
          "text": [
            "Listenin elemanları =  [1, 2, 3, 4, 5] \n",
            "Listenin uzunluğu =  5\n"
          ],
          "name": "stdout"
        }
      ]
    },
    {
      "cell_type": "code",
      "metadata": {
        "id": "0kFW3j4xhxp7",
        "colab_type": "code",
        "outputId": "1c7d396f-bc18-437d-ae49-ee51d6b695a0",
        "colab": {
          "base_uri": "https://localhost:8080/",
          "height": 34
        }
      },
      "source": [
        "liste1.pop(1)\n",
        "#içine verilen indexi kaldırır. [liste_adi.pop(index_sayisi)]"
      ],
      "execution_count": 0,
      "outputs": [
        {
          "output_type": "execute_result",
          "data": {
            "text/plain": [
              "'saaydmr'"
            ]
          },
          "metadata": {
            "tags": []
          },
          "execution_count": 112
        }
      ]
    },
    {
      "cell_type": "code",
      "metadata": {
        "id": "RXeRE4DNiHhl",
        "colab_type": "code",
        "outputId": "2d23b4ae-492e-4979-9f49-f377a1a3e68b",
        "colab": {
          "base_uri": "https://localhost:8080/",
          "height": 34
        }
      },
      "source": [
        "print(liste1)"
      ],
      "execution_count": 0,
      "outputs": [
        {
          "output_type": "stream",
          "text": [
            "['saaydmr', 'saaydmr']\n"
          ],
          "name": "stdout"
        }
      ]
    },
    {
      "cell_type": "code",
      "metadata": {
        "id": "Z2KaHwTGiWWr",
        "colab_type": "code",
        "outputId": "57229d77-c24d-4642-f6e0-5a7fcc8fe27b",
        "colab": {
          "base_uri": "https://localhost:8080/",
          "height": 51
        }
      },
      "source": [
        "print(liste2[0]) #liste2nin 0.indeksini yazdır.\n",
        "print(liste2[1]) #liste2nin 1.indeksini yazdır.\n"
      ],
      "execution_count": 0,
      "outputs": [
        {
          "output_type": "stream",
          "text": [
            "1\n",
            "2\n"
          ],
          "name": "stdout"
        }
      ]
    },
    {
      "cell_type": "code",
      "metadata": {
        "id": "cy8zIV0vin3o",
        "colab_type": "code",
        "outputId": "8e838882-91e9-4936-eec0-216e98e8758c",
        "colab": {
          "base_uri": "https://localhost:8080/",
          "height": 102
        }
      },
      "source": [
        "for i in liste2:\n",
        "  print(i)"
      ],
      "execution_count": 0,
      "outputs": [
        {
          "output_type": "stream",
          "text": [
            "1\n",
            "2\n",
            "3\n",
            "4\n",
            "5\n"
          ],
          "name": "stdout"
        }
      ]
    },
    {
      "cell_type": "code",
      "metadata": {
        "id": "ZNtqH4z6kKOp",
        "colab_type": "code",
        "outputId": "3421079a-ce22-40f2-c3d7-50d4ea574e71",
        "colab": {
          "base_uri": "https://localhost:8080/",
          "height": 34
        }
      },
      "source": [
        "#liste[başlangıç : bitiş : artış]\n",
        "liste2[0:3:1]"
      ],
      "execution_count": 0,
      "outputs": [
        {
          "output_type": "execute_result",
          "data": {
            "text/plain": [
              "[1, 2, 3]"
            ]
          },
          "metadata": {
            "tags": []
          },
          "execution_count": 117
        }
      ]
    },
    {
      "cell_type": "code",
      "metadata": {
        "id": "g747nnF4kPh4",
        "colab_type": "code",
        "outputId": "d0233650-2051-4a90-cea2-9c2fb1ae968f",
        "colab": {
          "base_uri": "https://localhost:8080/",
          "height": 51
        }
      },
      "source": [
        "print(liste1)\n",
        "liste1.insert(1,99) #listenin istediğim indeksine sayı ekledim. \n",
        "print(liste1)"
      ],
      "execution_count": 0,
      "outputs": [
        {
          "output_type": "stream",
          "text": [
            "['saaydmr', 99]\n",
            "['saaydmr', 99, 99]\n"
          ],
          "name": "stdout"
        }
      ]
    },
    {
      "cell_type": "code",
      "metadata": {
        "id": "tIE3oOS93grp",
        "colab_type": "code",
        "outputId": "23cda5a5-ea0d-414c-bce2-0904a0198961",
        "colab": {
          "base_uri": "https://localhost:8080/",
          "height": 34
        }
      },
      "source": [
        "liste2[::-1] # listeyi tersten yazdırdım."
      ],
      "execution_count": 0,
      "outputs": [
        {
          "output_type": "execute_result",
          "data": {
            "text/plain": [
              "[5, 4, 3, 2, 1]"
            ]
          },
          "metadata": {
            "tags": []
          },
          "execution_count": 122
        }
      ]
    },
    {
      "cell_type": "code",
      "metadata": {
        "id": "eVYKC89P4RyV",
        "colab_type": "code",
        "outputId": "b6f10aa8-39e2-48b0-aefd-a5932ad3ee1c",
        "colab": {
          "base_uri": "https://localhost:8080/",
          "height": 51
        }
      },
      "source": [
        "list1 = [\"a\",\"b\",\"c\",\"d\",\"e\"]\n",
        "list2 = [\"f\",\"g\",\"h\"]\n",
        "print(list1, list2)\n",
        "\n",
        "list1.extend(list2)\n",
        "print(list1)"
      ],
      "execution_count": 0,
      "outputs": [
        {
          "output_type": "stream",
          "text": [
            "['a', 'b', 'c', 'd', 'e'] ['f', 'g', 'h']\n",
            "['a', 'b', 'c', 'd', 'e', 'f', 'g', 'h']\n"
          ],
          "name": "stdout"
        }
      ]
    },
    {
      "cell_type": "code",
      "metadata": {
        "id": "eU06JeV24uJA",
        "colab_type": "code",
        "outputId": "487a3163-d176-4b4d-901d-7f4009ece7b2",
        "colab": {
          "base_uri": "https://localhost:8080/",
          "height": 68
        }
      },
      "source": [
        "p = [98,66,30,13,22,17,61,84,13]\n",
        "p.sort()\n",
        "print(p)\n",
        "print(\"P Listesinin en küçük elemanı : \",min(p))\n",
        "print(\"P Listesinin en büyük elemanı : \",max(p))"
      ],
      "execution_count": 0,
      "outputs": [
        {
          "output_type": "stream",
          "text": [
            "[13, 13, 17, 22, 30, 61, 66, 84, 98]\n",
            "P Listesinin en küçük elemanı :  13\n",
            "P Listesinin en büyük elemanı :  98\n"
          ],
          "name": "stdout"
        }
      ]
    },
    {
      "cell_type": "code",
      "metadata": {
        "id": "hjH1golw5WmX",
        "colab_type": "code",
        "outputId": "0849728d-8a6e-4cb6-f76c-99066d3e93ca",
        "colab": {
          "base_uri": "https://localhost:8080/",
          "height": 51
        }
      },
      "source": [
        "hayvanlar = [\"Aslan\", \"Kaplan\", \"Balık\", \"Aslan\", \"Kanarya\", \"Aslan\", \"Kartal\", \"Timsah\", \"Aslan\"]\n",
        "sayac = hayvanlar.count(input(\"Aranan hayvan : \"))\n",
        "print(\"Aradığınız hayvan listede {} tane vardır.\".format(sayac))"
      ],
      "execution_count": 0,
      "outputs": [
        {
          "output_type": "stream",
          "text": [
            "Aranan hayvan : Aslan\n",
            "Aradığınız hayvan listede 4 tane vardır.\n"
          ],
          "name": "stdout"
        }
      ]
    },
    {
      "cell_type": "code",
      "metadata": {
        "id": "boKZsuXB6-5m",
        "colab_type": "code",
        "outputId": "7efa77a4-320b-4f7e-a9dc-9e445626918f",
        "colab": {
          "base_uri": "https://localhost:8080/",
          "height": 34
        }
      },
      "source": [
        "#Hayvanlar listesinin yedeğini almak istersem;\n",
        "yedek_hayvanlar = hayvanlar\n",
        "print(yedek_hayvanlar)"
      ],
      "execution_count": 0,
      "outputs": [
        {
          "output_type": "stream",
          "text": [
            "['Aslan', 'Kaplan', 'Balık', 'Aslan', 'Kanarya', 'Aslan', 'Kartal', 'Timsah', 'Aslan']\n"
          ],
          "name": "stdout"
        }
      ]
    },
    {
      "cell_type": "code",
      "metadata": {
        "id": "zjuzx3rp7HUR",
        "colab_type": "code",
        "outputId": "a563141a-ec3d-4a05-9bf1-49fa5ff6f4b0",
        "colab": {
          "base_uri": "https://localhost:8080/",
          "height": 102
        }
      },
      "source": [
        "hayvanlar.insert(3,\"Timsah\")\n",
        "print(hayvanlar)\n",
        "print(yedek_hayvanlar)\n",
        "#hayvanlar listesine yeni bir eleman eklediğimde yedek_hayvanlar listeside değişti.\n",
        "print(id(hayvanlar))\n",
        "print(id(yedek_hayvanlar))\n",
        "#liste idleri aynı\n",
        "if id(hayvanlar) != id(yedek_hayvanlar):\n",
        "  print(\"ID'ler farklı!\")\n",
        "else:\n",
        "  print(\"ID'ler aynı!\")"
      ],
      "execution_count": 0,
      "outputs": [
        {
          "output_type": "stream",
          "text": [
            "['Aslan', 'Kaplan', 'Balık', 'Timsah', 'Timsah', 'Timsah', 'Timsah', 'Aslan', 'Kanarya', 'Aslan', 'Kartal', 'Timsah', 'Aslan']\n",
            "['Aslan', 'Kaplan', 'Balık', 'Timsah', 'Timsah', 'Timsah', 'Timsah', 'Aslan', 'Kanarya', 'Aslan', 'Kartal', 'Timsah', 'Aslan']\n",
            "140266091450568\n",
            "140266091450568\n",
            "ID'ler aynı!\n"
          ],
          "name": "stdout"
        }
      ]
    },
    {
      "cell_type": "code",
      "metadata": {
        "id": "Z_mQvvz27p7-",
        "colab_type": "code",
        "colab": {}
      },
      "source": [
        "yedek = hayvanlar.copy() #Eğer bir listenin yedeğini alıp, daha sonra değişmeden kalmasını istiyorsam bu şekilde copy ederim."
      ],
      "execution_count": 0,
      "outputs": []
    },
    {
      "cell_type": "code",
      "metadata": {
        "id": "_UX7OM6W7u9p",
        "colab_type": "code",
        "outputId": "df620176-ba24-44f5-ff0e-65db732b6cb2",
        "colab": {
          "base_uri": "https://localhost:8080/",
          "height": 119
        }
      },
      "source": [
        "print(hayvanlar)\n",
        "print(yedek)\n",
        "yedek.insert(2,\"Martı\")\n",
        "print(yedek)\n",
        "print(id(hayvanlar))\n",
        "print(id(yedek))\n",
        "if id(hayvanlar) != id(yedek):\n",
        "  print(\"ID'ler farklı!\")\n",
        "else:\n",
        "  print(\"ID'ler aynı!\")"
      ],
      "execution_count": 0,
      "outputs": [
        {
          "output_type": "stream",
          "text": [
            "['Aslan', 'Kaplan', 'Balık', 'Timsah', 'Timsah', 'Timsah', 'Aslan', 'Kanarya', 'Aslan', 'Kartal', 'Timsah', 'Aslan']\n",
            "['Aslan', 'Kaplan', 'Martı', 'Martı', 'Martı', 'Martı', 'Balık', 'Timsah', 'Timsah', 'Aslan', 'Kanarya', 'Aslan', 'Kartal', 'Timsah', 'Aslan']\n",
            "['Aslan', 'Kaplan', 'Martı', 'Martı', 'Martı', 'Martı', 'Martı', 'Balık', 'Timsah', 'Timsah', 'Aslan', 'Kanarya', 'Aslan', 'Kartal', 'Timsah', 'Aslan']\n",
            "140266091450568\n",
            "140266090805448\n",
            "ID'ler farklı!\n"
          ],
          "name": "stdout"
        }
      ]
    },
    {
      "cell_type": "code",
      "metadata": {
        "id": "guAQj5n08NLo",
        "colab_type": "code",
        "outputId": "0fc55e3a-2036-44f2-e7a1-0e92924e2284",
        "colab": {
          "base_uri": "https://localhost:8080/",
          "height": 102
        }
      },
      "source": [
        "liste3 = [\"John\", 1.85, \"Doe\", 30, \"England\"]\n",
        "for i in liste3:\n",
        "  print(i, type(i))"
      ],
      "execution_count": 0,
      "outputs": [
        {
          "output_type": "stream",
          "text": [
            "John <class 'str'>\n",
            "1.85 <class 'float'>\n",
            "Doe <class 'str'>\n",
            "30 <class 'int'>\n",
            "England <class 'str'>\n"
          ],
          "name": "stdout"
        }
      ]
    },
    {
      "cell_type": "code",
      "metadata": {
        "id": "fWqWG89193cL",
        "colab_type": "code",
        "outputId": "06e25ffd-ae3e-4334-a928-38984895ddba",
        "colab": {
          "base_uri": "https://localhost:8080/",
          "height": 68
        }
      },
      "source": [
        "matrix = [\n",
        "[1, 2, 3, 4],\n",
        "[5, 6, 7, 8],\n",
        "[0, 6, 5, 2],\n",
        "]\n",
        "\n",
        "for satır in matrix:\n",
        "  for sütun in satır:\n",
        "    print(sütun, end = ' ')\n",
        "  print(satır)"
      ],
      "execution_count": 0,
      "outputs": [
        {
          "output_type": "stream",
          "text": [
            "1 2 3 4 [1, 2, 3, 4]\n",
            "5 6 7 8 [5, 6, 7, 8]\n",
            "0 6 5 2 [0, 6, 5, 2]\n"
          ],
          "name": "stdout"
        }
      ]
    },
    {
      "cell_type": "markdown",
      "metadata": {
        "id": "VbQTTDxW-bjh",
        "colab_type": "text"
      },
      "source": [
        "* Demetlerin, Listelerden tek farkı değiştirilemez olması."
      ]
    },
    {
      "cell_type": "code",
      "metadata": {
        "id": "hCgWomE6-bEj",
        "colab_type": "code",
        "colab": {
          "base_uri": "https://localhost:8080/",
          "height": 1000
        },
        "outputId": "a08ad939-b277-407e-a0ef-aa0652471c14"
      },
      "source": [
        "demet = ()\n",
        "demet = tuple()\n",
        "#Oluşturulur.\n",
        "\n",
        "help(tuple())"
      ],
      "execution_count": 9,
      "outputs": [
        {
          "output_type": "stream",
          "text": [
            "Help on tuple object:\n",
            "\n",
            "class tuple(object)\n",
            " |  tuple() -> empty tuple\n",
            " |  tuple(iterable) -> tuple initialized from iterable's items\n",
            " |  \n",
            " |  If the argument is a tuple, the return value is the same object.\n",
            " |  \n",
            " |  Methods defined here:\n",
            " |  \n",
            " |  __add__(self, value, /)\n",
            " |      Return self+value.\n",
            " |  \n",
            " |  __contains__(self, key, /)\n",
            " |      Return key in self.\n",
            " |  \n",
            " |  __eq__(self, value, /)\n",
            " |      Return self==value.\n",
            " |  \n",
            " |  __ge__(self, value, /)\n",
            " |      Return self>=value.\n",
            " |  \n",
            " |  __getattribute__(self, name, /)\n",
            " |      Return getattr(self, name).\n",
            " |  \n",
            " |  __getitem__(self, key, /)\n",
            " |      Return self[key].\n",
            " |  \n",
            " |  __getnewargs__(...)\n",
            " |  \n",
            " |  __gt__(self, value, /)\n",
            " |      Return self>value.\n",
            " |  \n",
            " |  __hash__(self, /)\n",
            " |      Return hash(self).\n",
            " |  \n",
            " |  __iter__(self, /)\n",
            " |      Implement iter(self).\n",
            " |  \n",
            " |  __le__(self, value, /)\n",
            " |      Return self<=value.\n",
            " |  \n",
            " |  __len__(self, /)\n",
            " |      Return len(self).\n",
            " |  \n",
            " |  __lt__(self, value, /)\n",
            " |      Return self<value.\n",
            " |  \n",
            " |  __mul__(self, value, /)\n",
            " |      Return self*value.\n",
            " |  \n",
            " |  __ne__(self, value, /)\n",
            " |      Return self!=value.\n",
            " |  \n",
            " |  __new__(*args, **kwargs) from builtins.type\n",
            " |      Create and return a new object.  See help(type) for accurate signature.\n",
            " |  \n",
            " |  __repr__(self, /)\n",
            " |      Return repr(self).\n",
            " |  \n",
            " |  __rmul__(self, value, /)\n",
            " |      Return value*self.\n",
            " |  \n",
            " |  count(...)\n",
            " |      T.count(value) -> integer -- return number of occurrences of value\n",
            " |  \n",
            " |  index(...)\n",
            " |      T.index(value, [start, [stop]]) -> integer -- return first index of value.\n",
            " |      Raises ValueError if the value is not present.\n",
            "\n"
          ],
          "name": "stdout"
        }
      ]
    },
    {
      "cell_type": "code",
      "metadata": {
        "id": "EbT6asZy-neQ",
        "colab_type": "code",
        "colab": {
          "base_uri": "https://localhost:8080/",
          "height": 51
        },
        "outputId": "3cbaeb47-a32a-4189-f84d-d1129e09bed9"
      },
      "source": [
        "\n",
        "#Sadece içerisinde index, count methodlarını bulunduruyor.\n",
        "demet = (10, 20, 30, 40, 20, 50, 60, 70)\n",
        "index = demet.index(20)\n",
        "print(index)\n",
        "count = demet.count(20)\n",
        "print(count)"
      ],
      "execution_count": 8,
      "outputs": [
        {
          "output_type": "stream",
          "text": [
            "1\n",
            "2\n"
          ],
          "name": "stdout"
        }
      ]
    },
    {
      "cell_type": "markdown",
      "metadata": {
        "id": "sQLSQmoxcaLV",
        "colab_type": "text"
      },
      "source": [
        "# Matematiksel Fonksiyonlar (Mathematical Functions)"
      ]
    },
    {
      "cell_type": "code",
      "metadata": {
        "id": "mQ8tJSRIbwwf",
        "colab_type": "code",
        "colab": {
          "base_uri": "https://localhost:8080/",
          "height": 68
        },
        "outputId": "8b8a1080-2945-4b1a-cca3-03617ed2ff51"
      },
      "source": [
        "abs_number = abs(-10)\n",
        "print(abs_number) #Mutlak değer\n",
        "\n",
        "divmod_number = divmod(20, 7)\n",
        "print(divmod_number)\n",
        "#Kalansız bölme, Bölümünden kalan\n",
        "# 20 // 7, 20 % 7\n"
      ],
      "execution_count": 12,
      "outputs": [
        {
          "output_type": "stream",
          "text": [
            "10\n",
            "(2, 6)\n"
          ],
          "name": "stdout"
        },
        {
          "output_type": "execute_result",
          "data": {
            "text/plain": [
              "6"
            ]
          },
          "metadata": {
            "tags": []
          },
          "execution_count": 12
        }
      ]
    },
    {
      "cell_type": "code",
      "metadata": {
        "id": "-xYV2GLfff0z",
        "colab_type": "code",
        "colab": {
          "base_uri": "https://localhost:8080/",
          "height": 34
        },
        "outputId": "c969395e-568d-4a9d-c5bf-4c4d2c7d3bfa"
      },
      "source": [
        "20 // 7"
      ],
      "execution_count": 13,
      "outputs": [
        {
          "output_type": "execute_result",
          "data": {
            "text/plain": [
              "2"
            ]
          },
          "metadata": {
            "tags": []
          },
          "execution_count": 13
        }
      ]
    },
    {
      "cell_type": "code",
      "metadata": {
        "id": "refALwgUfnc-",
        "colab_type": "code",
        "colab": {
          "base_uri": "https://localhost:8080/",
          "height": 272
        },
        "outputId": "34a9d5ea-3226-4204-e8ad-5179fd426c52"
      },
      "source": [
        "from random import randint #rasgele bir sayı oluşturmak için \n",
        "\n",
        "sayi_listesi = [] #boş sayı listesi\n",
        "for i in range(15): #15 kere çalıştır.\n",
        "  sayi_listesi.append(randint(-10, 10)) #-10 ile 10 arasındaki herhangi bir sayıyı bu listeye ata.\n",
        "\n",
        "  print(sayi_listesi)#ve bu listeyi ekrana bastır."
      ],
      "execution_count": 2,
      "outputs": [
        {
          "output_type": "stream",
          "text": [
            "[7]\n",
            "[7, 7]\n",
            "[7, 7, 4]\n",
            "[7, 7, 4, 3]\n",
            "[7, 7, 4, 3, -9]\n",
            "[7, 7, 4, 3, -9, 6]\n",
            "[7, 7, 4, 3, -9, 6, -10]\n",
            "[7, 7, 4, 3, -9, 6, -10, 6]\n",
            "[7, 7, 4, 3, -9, 6, -10, 6, -4]\n",
            "[7, 7, 4, 3, -9, 6, -10, 6, -4, 10]\n",
            "[7, 7, 4, 3, -9, 6, -10, 6, -4, 10, -1]\n",
            "[7, 7, 4, 3, -9, 6, -10, 6, -4, 10, -1, 2]\n",
            "[7, 7, 4, 3, -9, 6, -10, 6, -4, 10, -1, 2, -10]\n",
            "[7, 7, 4, 3, -9, 6, -10, 6, -4, 10, -1, 2, -10, 2]\n",
            "[7, 7, 4, 3, -9, 6, -10, 6, -4, 10, -1, 2, -10, 2, -7]\n"
          ],
          "name": "stdout"
        }
      ]
    },
    {
      "cell_type": "code",
      "metadata": {
        "id": "Y1_jwObpQlZC",
        "colab_type": "code",
        "colab": {
          "base_uri": "https://localhost:8080/",
          "height": 102
        },
        "outputId": "34d6c2fb-ee6d-49c3-d039-b5a0dffa991e"
      },
      "source": [
        "string = \"{} fonksiyonunun çıktısı ==> {}\"\n",
        "\n",
        "print(\"Liste: {}\".format(sayi_listesi))\n",
        "print(string.format(\"max()\", max(sayi_listesi)))\n",
        "print(string.format(\"min()\", min(sayi_listesi)))\n",
        "print(string.format(\"sum()\", sum(sayi_listesi)))\n",
        "print(string.format(\"sorted()\", sorted(sayi_listesi)))"
      ],
      "execution_count": 6,
      "outputs": [
        {
          "output_type": "stream",
          "text": [
            "Liste: [7, 7, 4, 3, -9, 6, -10, 6, -4, 10, -1, 2, -10, 2, -7]\n",
            "max() fonksiyonunun çıktısı ==> 10\n",
            "max() fonksiyonunun çıktısı ==> -10\n",
            "max() fonksiyonunun çıktısı ==> 6\n",
            "max() fonksiyonunun çıktısı ==> [-10, -10, -9, -7, -4, -1, 2, 2, 3, 4, 6, 6, 7, 7, 10]\n"
          ],
          "name": "stdout"
        }
      ]
    },
    {
      "cell_type": "markdown",
      "metadata": {
        "id": "aWyhvnekRWxG",
        "colab_type": "text"
      },
      "source": [
        "#Sözlükler(Dictionaries)"
      ]
    },
    {
      "cell_type": "code",
      "metadata": {
        "id": "pAaxormPRfRr",
        "colab_type": "code",
        "colab": {
          "base_uri": "https://localhost:8080/",
          "height": 34
        },
        "outputId": "9fdeedc4-aca0-4690-87a6-65f73dbab05a"
      },
      "source": [
        "sozluk = {}\n",
        "sozluk = dict()\n",
        "\n",
        "sozluk['Elma'] = 'Apple'\n",
        "sozluk['Armut'] = 'Pear'\n",
        "sozluk['Tilki'] = 'Fox'\n",
        "\n",
        "print(sozluk)"
      ],
      "execution_count": 7,
      "outputs": [
        {
          "output_type": "stream",
          "text": [
            "{'Elma': 'Apple', 'Armut': 'Pear', 'Tilki': 'Fox'}\n"
          ],
          "name": "stdout"
        }
      ]
    },
    {
      "cell_type": "code",
      "metadata": {
        "id": "piG1CSlySFU4",
        "colab_type": "code",
        "colab": {
          "base_uri": "https://localhost:8080/",
          "height": 51
        },
        "outputId": "f14028e7-3700-4651-a789-388ca567f573"
      },
      "source": [
        "sozluk_keys = sozluk.keys()\n",
        "print(sozluk_keys)\n",
        "\n",
        "sozluk_values = sozluk.values()\n",
        "print(sozluk_values)"
      ],
      "execution_count": 8,
      "outputs": [
        {
          "output_type": "stream",
          "text": [
            "dict_keys(['Elma', 'Armut', 'Tilki'])\n",
            "dict_values(['Apple', 'Pear', 'Fox'])\n"
          ],
          "name": "stdout"
        }
      ]
    },
    {
      "cell_type": "code",
      "metadata": {
        "id": "e_26TvMIS4Zv",
        "colab_type": "code",
        "colab": {
          "base_uri": "https://localhost:8080/",
          "height": 119
        },
        "outputId": "3b7e0de2-ddd1-43d6-c098-f7ecce189268"
      },
      "source": [
        "for key in sozluk.keys():\n",
        "  print(key)\n",
        "\n",
        "for value in sozluk.values():\n",
        "  print(value)"
      ],
      "execution_count": 11,
      "outputs": [
        {
          "output_type": "stream",
          "text": [
            "Elma\n",
            "Armut\n",
            "Tilki\n",
            "Apple\n",
            "Pear\n",
            "Fox\n"
          ],
          "name": "stdout"
        }
      ]
    },
    {
      "cell_type": "code",
      "metadata": {
        "id": "4c7YDj6iTD72",
        "colab_type": "code",
        "colab": {
          "base_uri": "https://localhost:8080/",
          "height": 102
        },
        "outputId": "d6e9faca-4014-4741-acf1-9582614d95ec"
      },
      "source": [
        "print(sozluk.items())\n",
        "for key, value in sozluk.items():\n",
        "  print(\"Keys : \",key, \"     Value : \",value)"
      ],
      "execution_count": 31,
      "outputs": [
        {
          "output_type": "stream",
          "text": [
            "dict_items([('Elma', 'Apple'), ('Armut', 'Pear'), ('Tilki', 'Fox'), ('Üzüm', 'Grape')])\n",
            "Keys :  Elma      Value :  Apple\n",
            "Keys :  Armut      Value :  Pear\n",
            "Keys :  Tilki      Value :  Fox\n",
            "Keys :  Üzüm      Value :  Grape\n"
          ],
          "name": "stdout"
        }
      ]
    },
    {
      "cell_type": "code",
      "metadata": {
        "id": "xuxQexhLTLkE",
        "colab_type": "code",
        "colab": {
          "base_uri": "https://localhost:8080/",
          "height": 68
        },
        "outputId": "878d9e25-a7bd-4b03-be2f-4b301f38f80e"
      },
      "source": [
        "print(sozluk['Armut'])\n",
        "print(sozluk['Elma'])\n",
        "print(sozluk['Tilki'])"
      ],
      "execution_count": 21,
      "outputs": [
        {
          "output_type": "stream",
          "text": [
            "Pear\n",
            "Apple\n",
            "Fox\n"
          ],
          "name": "stdout"
        }
      ]
    },
    {
      "cell_type": "code",
      "metadata": {
        "id": "OOyYgzr-T2im",
        "colab_type": "code",
        "colab": {
          "base_uri": "https://localhost:8080/",
          "height": 34
        },
        "outputId": "8bc33c7e-038c-4a8a-f24f-0ce3464ced0c"
      },
      "source": [
        "print(sozluk.get('Elma')) #Kontrol"
      ],
      "execution_count": 23,
      "outputs": [
        {
          "output_type": "stream",
          "text": [
            "Apple\n"
          ],
          "name": "stdout"
        }
      ]
    },
    {
      "cell_type": "code",
      "metadata": {
        "id": "os9IZmWfT8lM",
        "colab_type": "code",
        "colab": {
          "base_uri": "https://localhost:8080/",
          "height": 34
        },
        "outputId": "4e31e3f5-7030-4acf-dae7-ac0a9b50db3d"
      },
      "source": [
        "sozluk.setdefault('Elma', 'Malus')"
      ],
      "execution_count": 24,
      "outputs": [
        {
          "output_type": "execute_result",
          "data": {
            "text/plain": [
              "'Apple'"
            ]
          },
          "metadata": {
            "tags": []
          },
          "execution_count": 24
        }
      ]
    },
    {
      "cell_type": "code",
      "metadata": {
        "id": "keiZnhAPUAr8",
        "colab_type": "code",
        "colab": {
          "base_uri": "https://localhost:8080/",
          "height": 34
        },
        "outputId": "937f29c5-f81c-4c06-8b7f-1d9c40abfc9d"
      },
      "source": [
        "sozluk.setdefault('Üzüm', 'Grape')#Eleman Eklediö\n",
        "\n",
        "print(sozluk)"
      ],
      "execution_count": 26,
      "outputs": [
        {
          "output_type": "stream",
          "text": [
            "{'Elma': 'Apple', 'Armut': 'Pear', 'Tilki': 'Fox', 'Üzüm': 'Grape'}\n"
          ],
          "name": "stdout"
        }
      ]
    },
    {
      "cell_type": "markdown",
      "metadata": {
        "id": "Mc3DpJQHXxlQ",
        "colab_type": "text"
      },
      "source": [
        "#Kümeler ve Dondurulmuş Kümeler (Sets and Frozensets)"
      ]
    },
    {
      "cell_type": "code",
      "metadata": {
        "id": "sV7a1DVzX3ik",
        "colab_type": "code",
        "colab": {
          "base_uri": "https://localhost:8080/",
          "height": 34
        },
        "outputId": "585f3b7c-2de6-438b-e8ae-7e7b4bbbcd1b"
      },
      "source": [
        "kume = set()\n",
        "\n",
        "kume.add(1)\n",
        "kume.add(2)\n",
        "kume.add(3)\n",
        "kume.add(3)\n",
        "kume.add(3)\n",
        "kume.add(2)\n",
        "\n",
        "print(kume)"
      ],
      "execution_count": 33,
      "outputs": [
        {
          "output_type": "stream",
          "text": [
            "{1, 2, 3}\n"
          ],
          "name": "stdout"
        }
      ]
    },
    {
      "cell_type": "code",
      "metadata": {
        "id": "lzRki-ELYH5g",
        "colab_type": "code",
        "colab": {
          "base_uri": "https://localhost:8080/",
          "height": 34
        },
        "outputId": "dff7c7a7-b56c-4669-d076-015799f1292d"
      },
      "source": [
        "liste = [10, 12, 1, 0, 2, 3, 4, 4, 2, 3, 0, 2, 1, 5]\n",
        "kume = set(liste)\n",
        "print(kume)"
      ],
      "execution_count": 36,
      "outputs": [
        {
          "output_type": "stream",
          "text": [
            "{0, 1, 2, 3, 4, 5, 10, 12}\n"
          ],
          "name": "stdout"
        }
      ]
    },
    {
      "cell_type": "code",
      "metadata": {
        "id": "wB_huYggY0Wt",
        "colab_type": "code",
        "colab": {}
      },
      "source": [
        "kume.remove(10)"
      ],
      "execution_count": 0,
      "outputs": []
    },
    {
      "cell_type": "code",
      "metadata": {
        "id": "dYLRtDm8Y6HH",
        "colab_type": "code",
        "colab": {
          "base_uri": "https://localhost:8080/",
          "height": 34
        },
        "outputId": "e68dd91c-e17c-4d53-80f1-a03954edc8b5"
      },
      "source": [
        "print(kume)"
      ],
      "execution_count": 38,
      "outputs": [
        {
          "output_type": "stream",
          "text": [
            "{0, 1, 2, 3, 4, 5, 12}\n"
          ],
          "name": "stdout"
        }
      ]
    },
    {
      "cell_type": "code",
      "metadata": {
        "id": "qIRyPdXkY7DN",
        "colab_type": "code",
        "colab": {
          "base_uri": "https://localhost:8080/",
          "height": 231
        },
        "outputId": "9f2055c7-b0b3-4c6e-d135-10fae6cd65a3"
      },
      "source": [
        "liste1 = [10, 100, 50, 30]\n",
        "liste2 = [20, 50, 90, 30]\n",
        "\n",
        "kume1 = set(liste1)\n",
        "kume2 = set(liste2)\n",
        "\n",
        "print(\"Kesişim kümesi : \", kume1.intersection(kume2))\n",
        "print(\"Birleşim kümesi : \", kume1.union(kume2))\n",
        "print(\"Küme1 : \", küme1)\n"
      ],
      "execution_count": 40,
      "outputs": [
        {
          "output_type": "stream",
          "text": [
            "Kesişim kümesi :  {50, 30}\n",
            "Birleşim kümesi :  {100, 10, 50, 20, 90, 30}\n"
          ],
          "name": "stdout"
        },
        {
          "output_type": "error",
          "ename": "NameError",
          "evalue": "ignored",
          "traceback": [
            "\u001b[0;31m---------------------------------------------------------------------------\u001b[0m",
            "\u001b[0;31mNameError\u001b[0m                                 Traceback (most recent call last)",
            "\u001b[0;32m<ipython-input-40-25447d3f6418>\u001b[0m in \u001b[0;36m<module>\u001b[0;34m()\u001b[0m\n\u001b[1;32m      7\u001b[0m \u001b[0mprint\u001b[0m\u001b[0;34m(\u001b[0m\u001b[0;34m\"Kesişim kümesi : \"\u001b[0m\u001b[0;34m,\u001b[0m \u001b[0mkume1\u001b[0m\u001b[0;34m.\u001b[0m\u001b[0mintersection\u001b[0m\u001b[0;34m(\u001b[0m\u001b[0mkume2\u001b[0m\u001b[0;34m)\u001b[0m\u001b[0;34m)\u001b[0m\u001b[0;34m\u001b[0m\u001b[0;34m\u001b[0m\u001b[0m\n\u001b[1;32m      8\u001b[0m \u001b[0mprint\u001b[0m\u001b[0;34m(\u001b[0m\u001b[0;34m\"Birleşim kümesi : \"\u001b[0m\u001b[0;34m,\u001b[0m \u001b[0mkume1\u001b[0m\u001b[0;34m.\u001b[0m\u001b[0munion\u001b[0m\u001b[0;34m(\u001b[0m\u001b[0mkume2\u001b[0m\u001b[0;34m)\u001b[0m\u001b[0;34m)\u001b[0m\u001b[0;34m\u001b[0m\u001b[0;34m\u001b[0m\u001b[0m\n\u001b[0;32m----> 9\u001b[0;31m \u001b[0mprint\u001b[0m\u001b[0;34m(\u001b[0m\u001b[0;34m\"Küme1 : \"\u001b[0m\u001b[0;34m,\u001b[0m \u001b[0mküme1\u001b[0m\u001b[0;34m)\u001b[0m\u001b[0;34m\u001b[0m\u001b[0;34m\u001b[0m\u001b[0m\n\u001b[0m",
            "\u001b[0;31mNameError\u001b[0m: name 'küme1' is not defined"
          ]
        }
      ]
    },
    {
      "cell_type": "code",
      "metadata": {
        "id": "NKxU_4eDZVB2",
        "colab_type": "code",
        "colab": {}
      },
      "source": [
        "#Üç büyükler\n",
        "\n",
        "#1\n",
        "help()\n",
        "\n",
        "#2\n",
        "liste = sorted([\"Ayşe\", \"Ahmet\", \"Mehmet\", \"Nuri\", \"Fatma\", \"Binnur\"])\n",
        "print(*enumerate(liste))"
      ],
      "execution_count": 0,
      "outputs": []
    },
    {
      "cell_type": "code",
      "metadata": {
        "id": "GqejmwdSdAxd",
        "colab_type": "code",
        "colab": {
          "base_uri": "https://localhost:8080/",
          "height": 34
        },
        "outputId": "d99e1cc4-1752-47f0-b9cc-98291525ac1e"
      },
      "source": [
        "#2\n",
        "liste = sorted([\"Ayşe\", \"Ahmet\", \"Mehmet\", \"Nuri\", \"Fatma\", \"Binnur\"])\n",
        "print(*enumerate(liste))"
      ],
      "execution_count": 46,
      "outputs": [
        {
          "output_type": "stream",
          "text": [
            "(0, 'Ahmet') (1, 'Ayşe') (2, 'Binnur') (3, 'Fatma') (4, 'Mehmet') (5, 'Nuri')\n"
          ],
          "name": "stdout"
        }
      ]
    },
    {
      "cell_type": "code",
      "metadata": {
        "id": "e0gqbYR9dBOS",
        "colab_type": "code",
        "colab": {
          "base_uri": "https://localhost:8080/",
          "height": 119
        },
        "outputId": "628c864b-03e3-4806-8743-c2a50e142559"
      },
      "source": [
        "for no, isim in enumerate(liste, 0):\n",
        "  print(no, isim)"
      ],
      "execution_count": 47,
      "outputs": [
        {
          "output_type": "stream",
          "text": [
            "0 Ahmet\n",
            "1 Ayşe\n",
            "2 Binnur\n",
            "3 Fatma\n",
            "4 Mehmet\n",
            "5 Nuri\n"
          ],
          "name": "stdout"
        }
      ]
    },
    {
      "cell_type": "code",
      "metadata": {
        "id": "KgyTO3w2dW_e",
        "colab_type": "code",
        "colab": {}
      },
      "source": [
        "dir()"
      ],
      "execution_count": 0,
      "outputs": []
    },
    {
      "cell_type": "markdown",
      "metadata": {
        "id": "6bv9IwMndfhj",
        "colab_type": "text"
      },
      "source": [
        "#Karakter Dizilerinin Methotları (String Methods)"
      ]
    },
    {
      "cell_type": "code",
      "metadata": {
        "id": "WrMHodeLdkd8",
        "colab_type": "code",
        "colab": {
          "base_uri": "https://localhost:8080/",
          "height": 34
        },
        "outputId": "57163793-8bca-428c-bb36-503eca82a338"
      },
      "source": [
        "string = 'Sarp Abdurrahman Aydemir'\n",
        "print(string[0])"
      ],
      "execution_count": 80,
      "outputs": [
        {
          "output_type": "stream",
          "text": [
            "S\n"
          ],
          "name": "stdout"
        }
      ]
    },
    {
      "cell_type": "code",
      "metadata": {
        "id": "v3GUtydydo93",
        "colab_type": "code",
        "colab": {
          "base_uri": "https://localhost:8080/",
          "height": 34
        },
        "outputId": "74b09968-edb8-4578-aa79-19cdfd167d39"
      },
      "source": [
        "print(string[0:4])"
      ],
      "execution_count": 60,
      "outputs": [
        {
          "output_type": "stream",
          "text": [
            "Sarp\n"
          ],
          "name": "stdout"
        }
      ]
    },
    {
      "cell_type": "code",
      "metadata": {
        "id": "JF_5Damfdr41",
        "colab_type": "code",
        "colab": {
          "base_uri": "https://localhost:8080/",
          "height": 34
        },
        "outputId": "77e27327-3542-4b44-eade-c5fe87f85be1"
      },
      "source": [
        "print(string[0:len(string)])"
      ],
      "execution_count": 61,
      "outputs": [
        {
          "output_type": "stream",
          "text": [
            "Sarp Abdurrahman Aydemir\n"
          ],
          "name": "stdout"
        }
      ]
    },
    {
      "cell_type": "code",
      "metadata": {
        "id": "gjyYCOtJdvCK",
        "colab_type": "code",
        "colab": {}
      },
      "source": [
        "x = \"sarpabdurrahmanaydemir\""
      ],
      "execution_count": 0,
      "outputs": []
    },
    {
      "cell_type": "code",
      "metadata": {
        "id": "QJheOGGWd5dP",
        "colab_type": "code",
        "colab": {
          "base_uri": "https://localhost:8080/",
          "height": 34
        },
        "outputId": "59467db4-6ff4-40b3-ca60-81f9ff04b942"
      },
      "source": [
        "print(x[0:len(string):6])"
      ],
      "execution_count": 73,
      "outputs": [
        {
          "output_type": "stream",
          "text": [
            "SbhY\n"
          ],
          "name": "stdout"
        }
      ]
    },
    {
      "cell_type": "code",
      "metadata": {
        "id": "-IhMNSwQeQy_",
        "colab_type": "code",
        "colab": {
          "base_uri": "https://localhost:8080/",
          "height": 34
        },
        "outputId": "5f0bf0d8-1c60-4a4a-a12e-62d54abfdec2"
      },
      "source": [
        "print(string.lower())"
      ],
      "execution_count": 62,
      "outputs": [
        {
          "output_type": "stream",
          "text": [
            "sarp abdurrahman aydemir\n"
          ],
          "name": "stdout"
        }
      ]
    },
    {
      "cell_type": "code",
      "metadata": {
        "id": "dyy-LGcfeT0a",
        "colab_type": "code",
        "colab": {
          "base_uri": "https://localhost:8080/",
          "height": 34
        },
        "outputId": "2553de2f-f9c1-41ff-cb28-c48f42c16b6a"
      },
      "source": [
        "print(string.upper())"
      ],
      "execution_count": 63,
      "outputs": [
        {
          "output_type": "stream",
          "text": [
            "SARP ABDURRAHMAN AYDEMIR\n"
          ],
          "name": "stdout"
        }
      ]
    },
    {
      "cell_type": "code",
      "metadata": {
        "id": "h49AiJtneWPu",
        "colab_type": "code",
        "colab": {
          "base_uri": "https://localhost:8080/",
          "height": 34
        },
        "outputId": "28eeaede-fd76-4f07-aa89-6a645b43d505"
      },
      "source": [
        "print(string)"
      ],
      "execution_count": 64,
      "outputs": [
        {
          "output_type": "stream",
          "text": [
            "Sarp Abdurrahman Aydemir\n"
          ],
          "name": "stdout"
        }
      ]
    },
    {
      "cell_type": "code",
      "metadata": {
        "id": "__U6CaEwfu5s",
        "colab_type": "code",
        "colab": {
          "base_uri": "https://localhost:8080/",
          "height": 51
        },
        "outputId": "ced048f5-d920-463a-9510-5d20e7ad83b4"
      },
      "source": [
        "print(\"A\".islower())\n",
        "print(\"A\".isupper())"
      ],
      "execution_count": 70,
      "outputs": [
        {
          "output_type": "stream",
          "text": [
            "False\n",
            "True\n"
          ],
          "name": "stdout"
        }
      ]
    },
    {
      "cell_type": "code",
      "metadata": {
        "id": "n8hQd5iWgNQk",
        "colab_type": "code",
        "colab": {
          "base_uri": "https://localhost:8080/",
          "height": 34
        },
        "outputId": "1384f723-2c8c-4623-f33c-fb68624d2266"
      },
      "source": [
        "x = x.replace('saaydmr', 'Sarp Abdurrahman AYDEMİR')\n",
        "print(x)"
      ],
      "execution_count": 72,
      "outputs": [
        {
          "output_type": "stream",
          "text": [
            "Sarp Abdurrahman AYDEMİR\n"
          ],
          "name": "stdout"
        }
      ]
    },
    {
      "cell_type": "code",
      "metadata": {
        "id": "9LV8kHFHgVlC",
        "colab_type": "code",
        "colab": {
          "base_uri": "https://localhost:8080/",
          "height": 34
        },
        "outputId": "87813217-f142-4fea-a487-e348538dec67"
      },
      "source": [
        "string.split()\n",
        "string.split()"
      ],
      "execution_count": 74,
      "outputs": [
        {
          "output_type": "execute_result",
          "data": {
            "text/plain": [
              "['Sarp', 'Abdurrahman', 'Aydemir']"
            ]
          },
          "metadata": {
            "tags": []
          },
          "execution_count": 74
        }
      ]
    },
    {
      "cell_type": "code",
      "metadata": {
        "id": "Ql17NiZpgbfh",
        "colab_type": "code",
        "colab": {}
      },
      "source": [
        "print(string.startswith('Sarp'))\n",
        "print(string.endswith('ix'))\n",
        "\n",
        "\n",
        "\n"
      ],
      "execution_count": 0,
      "outputs": []
    },
    {
      "cell_type": "code",
      "metadata": {
        "id": "60tybRWgiaAw",
        "colab_type": "code",
        "colab": {
          "base_uri": "https://localhost:8080/",
          "height": 248
        },
        "outputId": "67e92d2b-4886-4b60-d19e-45155db6d716"
      },
      "source": [
        "print(string)\n",
        "string = string.split()\n",
        "print(string)\n",
        "\n"
      ],
      "execution_count": 99,
      "outputs": [
        {
          "output_type": "stream",
          "text": [
            "['Sarp', 'Abdurrahman', 'Aydemir']\n"
          ],
          "name": "stdout"
        },
        {
          "output_type": "error",
          "ename": "AttributeError",
          "evalue": "ignored",
          "traceback": [
            "\u001b[0;31m---------------------------------------------------------------------------\u001b[0m",
            "\u001b[0;31mAttributeError\u001b[0m                            Traceback (most recent call last)",
            "\u001b[0;32m<ipython-input-99-94df4cb47b3c>\u001b[0m in \u001b[0;36m<module>\u001b[0;34m()\u001b[0m\n\u001b[1;32m      1\u001b[0m \u001b[0mprint\u001b[0m\u001b[0;34m(\u001b[0m\u001b[0mstring\u001b[0m\u001b[0;34m)\u001b[0m\u001b[0;34m\u001b[0m\u001b[0;34m\u001b[0m\u001b[0m\n\u001b[0;32m----> 2\u001b[0;31m \u001b[0mstring\u001b[0m \u001b[0;34m=\u001b[0m \u001b[0mstring\u001b[0m\u001b[0;34m.\u001b[0m\u001b[0msplit\u001b[0m\u001b[0;34m(\u001b[0m\u001b[0;34m)\u001b[0m\u001b[0;34m\u001b[0m\u001b[0;34m\u001b[0m\u001b[0m\n\u001b[0m\u001b[1;32m      3\u001b[0m \u001b[0mprint\u001b[0m\u001b[0;34m(\u001b[0m\u001b[0mstring\u001b[0m\u001b[0;34m)\u001b[0m\u001b[0;34m\u001b[0m\u001b[0;34m\u001b[0m\u001b[0m\n\u001b[1;32m      4\u001b[0m \u001b[0;34m\u001b[0m\u001b[0m\n\u001b[1;32m      5\u001b[0m \u001b[0mstring\u001b[0m \u001b[0;34m=\u001b[0m\u001b[0;34m\"can\"\u001b[0m\u001b[0;34m.\u001b[0m\u001b[0mjoin\u001b[0m\u001b[0;34m(\u001b[0m\u001b[0mstring\u001b[0m\u001b[0;34m)\u001b[0m\u001b[0;34m\u001b[0m\u001b[0;34m\u001b[0m\u001b[0m\n",
            "\u001b[0;31mAttributeError\u001b[0m: 'list' object has no attribute 'split'"
          ]
        }
      ]
    },
    {
      "cell_type": "code",
      "metadata": {
        "id": "AmjEt_Hfjy_a",
        "colab_type": "code",
        "colab": {
          "base_uri": "https://localhost:8080/",
          "height": 34
        },
        "outputId": "caa2ef3b-090d-4a74-f2b0-4045322e8728"
      },
      "source": [
        "string =\"can\".join(string)\n",
        "print(string)\n",
        "\n"
      ],
      "execution_count": 100,
      "outputs": [
        {
          "output_type": "stream",
          "text": [
            "SarpcanAbdurrahmancanAydemir\n"
          ],
          "name": "stdout"
        }
      ]
    },
    {
      "cell_type": "code",
      "metadata": {
        "id": "Jw45R9Rkj3lF",
        "colab_type": "code",
        "colab": {
          "base_uri": "https://localhost:8080/",
          "height": 34
        },
        "outputId": "d4027d39-c14c-4001-c330-6533b19c6a05"
      },
      "source": [
        "gezegenler = \"Merkür, Venüs, Dünya, Mars, Jupiter, Satürn, Uranüs, Neptün\"\n",
        "gezegenler = gezegenler.split(\",\")\n",
        "print(gezegenler)"
      ],
      "execution_count": 103,
      "outputs": [
        {
          "output_type": "stream",
          "text": [
            "['Merkür', ' Venüs', ' Dünya', ' Mars', ' Jupiter', ' Satürn', ' Uranüs', ' Neptün']\n"
          ],
          "name": "stdout"
        }
      ]
    },
    {
      "cell_type": "code",
      "metadata": {
        "id": "7bChzIkSkF1U",
        "colab_type": "code",
        "colab": {
          "base_uri": "https://localhost:8080/",
          "height": 34
        },
        "outputId": "49bbe0f2-10f8-4a14-d4f4-505ddecbb6e2"
      },
      "source": [
        "siralanmis_gezegenler = \" - \".join(sorted(gezegenler, reverse = True))\n",
        "print(siralanmis_gezegenler)"
      ],
      "execution_count": 106,
      "outputs": [
        {
          "output_type": "stream",
          "text": [
            "Merkür -  Venüs -  Uranüs -  Satürn -  Neptün -  Mars -  Jupiter -  Dünya\n"
          ],
          "name": "stdout"
        }
      ]
    },
    {
      "cell_type": "code",
      "metadata": {
        "id": "VSrxNIF5kVwe",
        "colab_type": "code",
        "colab": {
          "base_uri": "https://localhost:8080/",
          "height": 68
        },
        "outputId": "89965b96-83ac-4b05-c756-880e14eab5a0"
      },
      "source": [
        "siralanmis_gezegenler = sorted(gezegenler)\n",
        "print(siralanmis_gezegenler)\n",
        "\n",
        "print(siralanmis_gezegenler[::-1])\n",
        "print(\" - \".join(siralanmis_gezegenler))\n"
      ],
      "execution_count": 112,
      "outputs": [
        {
          "output_type": "stream",
          "text": [
            "[' Dünya', ' Jupiter', ' Mars', ' Neptün', ' Satürn', ' Uranüs', ' Venüs', 'Merkür']\n",
            "['Merkür', ' Venüs', ' Uranüs', ' Satürn', ' Neptün', ' Mars', ' Jupiter', ' Dünya']\n",
            " Dünya -  Jupiter -  Mars -  Neptün -  Satürn -  Uranüs -  Venüs - Merkür\n"
          ],
          "name": "stdout"
        }
      ]
    },
    {
      "cell_type": "code",
      "metadata": {
        "id": "HjCj4q6zk05P",
        "colab_type": "code",
        "colab": {
          "base_uri": "https://localhost:8080/",
          "height": 34
        },
        "outputId": "cc45f2d8-6748-412c-bfc6-e64f14dba9dd"
      },
      "source": [
        "gezegenler = \"    Merkür Venüs Dünya Mars Jüpiter Satürn Uranüs Neptün    \"\n",
        "gezegenler.strip()"
      ],
      "execution_count": 113,
      "outputs": [
        {
          "output_type": "execute_result",
          "data": {
            "text/plain": [
              "'Merkür Venüs Dünya Mars Jüpiter Satürn Uranüs Neptün'"
            ]
          },
          "metadata": {
            "tags": []
          },
          "execution_count": 113
        }
      ]
    },
    {
      "cell_type": "code",
      "metadata": {
        "id": "AG1QXRTwk-Ir",
        "colab_type": "code",
        "colab": {
          "base_uri": "https://localhost:8080/",
          "height": 34
        },
        "outputId": "7600a7ee-e376-4097-b970-072c5f0c559c"
      },
      "source": [
        "gezegenler = \"    Merkür Venüs Dünya Mars Jüpiter Satürn Uranüs Neptün    \"\n",
        "gezegenler.lstrip()# Soldan boşlukları siler.\n",
        "gezegenler.rstrip()# Sağdan boşlukları siler."
      ],
      "execution_count": 116,
      "outputs": [
        {
          "output_type": "execute_result",
          "data": {
            "text/plain": [
              "'    Merkür Venüs Dünya Mars Jüpiter Satürn Uranüs Neptün'"
            ]
          },
          "metadata": {
            "tags": []
          },
          "execution_count": 116
        }
      ]
    },
    {
      "cell_type": "markdown",
      "metadata": {
        "id": "Lrn6grZHlp56",
        "colab_type": "text"
      },
      "source": [
        "#Fonksiyonlar (Functions)"
      ]
    },
    {
      "cell_type": "code",
      "metadata": {
        "id": "zunvxw98lsZo",
        "colab_type": "code",
        "colab": {
          "base_uri": "https://localhost:8080/",
          "height": 85
        },
        "outputId": "f18750c1-0562-467d-c945-f200d87a2915"
      },
      "source": [
        "def not_hesaplama(ad, puanlar):\n",
        "  ortalama = 0 \n",
        "  for puan in puanlar:\n",
        "    ortalama += puan\n",
        "  ortalama /= len(puanlar)\n",
        "  #ortalama = sum(puanlar) / len/puanlar)\n",
        "\n",
        "  if ortalama > 90: \n",
        "    harf = 'A'\n",
        "  elif ortalama > 80:\n",
        "    harf = 'B'\n",
        "  elif ortalama > 60:\n",
        "    harf = 'C'\n",
        "  elif ortalama > 50:\n",
        "    harf = 'D'\n",
        "  else :\n",
        "    harf = 'F'\n",
        "\n",
        "  print(f'İsim: {ad}\\nOrtalama : {ortalama:.2f}\\nHarf notu : {harf}\\n', end = \"-\"*20) #.2f (noktadan sonra 2 rakam ve float)\n",
        "\n",
        "not_hesaplama('Ahmet DENİZ', (60,100,75))"
      ],
      "execution_count": 127,
      "outputs": [
        {
          "output_type": "stream",
          "text": [
            "İsim: Ahmet DENİZ\n",
            "Ortalama : 78.33\n",
            "Harf notu : C\n",
            "--------------------"
          ],
          "name": "stdout"
        }
      ]
    },
    {
      "cell_type": "code",
      "metadata": {
        "id": "tFm9wzk_q5PL",
        "colab_type": "code",
        "colab": {
          "base_uri": "https://localhost:8080/",
          "height": 34
        },
        "outputId": "25399c87-f125-4ae0-cc1d-360d3cb7fefc"
      },
      "source": [
        "def carp(a,b):\n",
        "  return a*b\n",
        "\n",
        "carp(5,3)"
      ],
      "execution_count": 124,
      "outputs": [
        {
          "output_type": "execute_result",
          "data": {
            "text/plain": [
              "15"
            ]
          },
          "metadata": {
            "tags": []
          },
          "execution_count": 124
        }
      ]
    },
    {
      "cell_type": "code",
      "metadata": {
        "id": "X0g-g2xjvIvf",
        "colab_type": "code",
        "colab": {
          "base_uri": "https://localhost:8080/",
          "height": 51
        },
        "outputId": "8317a506-f86a-45fb-b143-9fb95257aa8c"
      },
      "source": [
        "a = 5 \n",
        "def a_degistirme():\n",
        "  a = 10\n",
        "  print(a)\n",
        "\n",
        "a_degistirme()\n",
        "print(a)"
      ],
      "execution_count": 131,
      "outputs": [
        {
          "output_type": "stream",
          "text": [
            "10\n",
            "5\n"
          ],
          "name": "stdout"
        }
      ]
    },
    {
      "cell_type": "markdown",
      "metadata": {
        "id": "Z24-w6unvx90",
        "colab_type": "text"
      },
      "source": [
        "#Nesne Yönelimli Programlamaya GİRİŞ (Beginning OOP)"
      ]
    },
    {
      "cell_type": "code",
      "metadata": {
        "id": "XpdZ3rYAvRqH",
        "colab_type": "code",
        "colab": {
          "base_uri": "https://localhost:8080/",
          "height": 68
        },
        "outputId": "4d609a54-9353-4bcd-a263-62ffd510f0a2"
      },
      "source": [
        "class Araba:\n",
        "  def sur(self):\n",
        "    print(\"Araba gidiyor...\")\n",
        "  def dur(self):\n",
        "    print(\"Araba duruyor...\")\n",
        "\n",
        "araba = Araba()\n",
        "araba.sur()\n",
        "araba.dur()\n",
        "araba.sur()"
      ],
      "execution_count": 135,
      "outputs": [
        {
          "output_type": "stream",
          "text": [
            "Araba gidiyor...\n",
            "Araba duruyor...\n",
            "Araba gidiyor...\n"
          ],
          "name": "stdout"
        }
      ]
    },
    {
      "cell_type": "code",
      "metadata": {
        "id": "Cw5bTv_B1j_n",
        "colab_type": "code",
        "colab": {}
      },
      "source": [
        "class Araba:\n",
        "  \"\"\"\n",
        "  Python dersi için tanımladığımız araba sınıfımız.\n",
        "  -------------------------------------------------\n",
        "  Sınıf içerisinde arabanın yapmasını istediğimiz \n",
        "  ve yapabileceği fonksiyonları barındırıyor.\n",
        "  \"\"\"\n",
        "  def __init__(self, marka, model, yil, renk):\n",
        "    \"\"\"\n",
        "    Bir nesne oluştururken aşağıdaki parametreleri\n",
        "    vermeyi unutmayın!\n",
        "    => Marka, Model, Yıl ve Renk\n",
        "    \"\"\"\n",
        "    self.marka = marka\n",
        "    self.model = model\n",
        "    self.yil = yil\n",
        "    self.renk = renk\n",
        "    self.durum = 0 \n",
        "    \"\"\"\n",
        "    0: Kapalı\n",
        "    1: Çalışır halde duruyor\n",
        "    2: Gidiyor\n",
        "    \"\"\"\n",
        "\n",
        "  def calistir(self):\n",
        "    self.durum = 1 \n",
        "  \n",
        "  def durdur(self):\n",
        "    self.durum = 0 \n",
        "\n",
        "  def sur(self):\n",
        "    if self.durum:\n",
        "      print('{} gidiyor.'.format(self.model))\n",
        "      self.durum = 2\n",
        "    else:\n",
        "      print('Önce arabayı çalıştır.')\n",
        "    \n",
        "  def dur(self):\n",
        "    if self.durum:\n",
        "      print('{} duruyor.'.format(self.model))\n",
        "      self.durum = 1\n",
        "    else:\n",
        "      print('Önce arabayı çalıştır.')\n",
        "\n",
        "  def ozellikleri_yazdir(self):\n",
        "    print(f\"Marka : {self.marka}\\\n",
        "    Model: {self.model}\\\n",
        "    Yıl : {self.yil}\\\n",
        "    Renk : {self.renk}\")"
      ],
      "execution_count": 0,
      "outputs": []
    },
    {
      "cell_type": "code",
      "metadata": {
        "id": "iOnPeGWu-X-Z",
        "colab_type": "code",
        "colab": {
          "base_uri": "https://localhost:8080/",
          "height": 595
        },
        "outputId": "a078789b-40ee-48d6-8262-d86b1ae99c57"
      },
      "source": [
        "help(Araba)\n",
        "\n",
        "araba1 = Araba('Dodge', 'Challenger', '2016', 'Siyah')"
      ],
      "execution_count": 154,
      "outputs": [
        {
          "output_type": "stream",
          "text": [
            "Help on class Araba in module __main__:\n",
            "\n",
            "class Araba(builtins.object)\n",
            " |  Python dersi için tanımladığımız araba sınıfımız.\n",
            " |  -------------------------------------------------\n",
            " |  Sınıf içerisinde arabanın yapmasını istediğimiz \n",
            " |  ve yapabileceği fonksiyonları barındırıyor.\n",
            " |  \n",
            " |  Methods defined here:\n",
            " |  \n",
            " |  __init__(self, marka, model, yil, renk)\n",
            " |      Bir nesne oluştururken aşağıdaki parametreleri\n",
            " |      vermeyi unutmayın!\n",
            " |      => Marka, Model, Yıl ve Renk\n",
            " |  \n",
            " |  calistir(self)\n",
            " |  \n",
            " |  dur(self)\n",
            " |  \n",
            " |  durdur(self)\n",
            " |  \n",
            " |  ozellikleri_yazdir(self)\n",
            " |  \n",
            " |  sur(self)\n",
            " |  \n",
            " |  ----------------------------------------------------------------------\n",
            " |  Data descriptors defined here:\n",
            " |  \n",
            " |  __dict__\n",
            " |      dictionary for instance variables (if defined)\n",
            " |  \n",
            " |  __weakref__\n",
            " |      list of weak references to the object (if defined)\n",
            "\n"
          ],
          "name": "stdout"
        }
      ]
    },
    {
      "cell_type": "code",
      "metadata": {
        "id": "MhI7JcQ_-iNx",
        "colab_type": "code",
        "colab": {
          "base_uri": "https://localhost:8080/",
          "height": 34
        },
        "outputId": "dfd887f6-898e-4125-da33-30765e22adb7"
      },
      "source": [
        "araba1.ozellikleri_yazdir()"
      ],
      "execution_count": 155,
      "outputs": [
        {
          "output_type": "stream",
          "text": [
            "Marka : Dodge    Model: Challenger    Yıl : 2016    Renk : Siyah\n"
          ],
          "name": "stdout"
        }
      ]
    },
    {
      "cell_type": "code",
      "metadata": {
        "id": "O1Nv477E-mJK",
        "colab_type": "code",
        "colab": {
          "base_uri": "https://localhost:8080/",
          "height": 51
        },
        "outputId": "7f2410b8-d9f7-4836-d8a7-8b4f1523e136"
      },
      "source": [
        "araba1.calistir()\n",
        "araba1.sur()\n",
        "araba1.dur()"
      ],
      "execution_count": 159,
      "outputs": [
        {
          "output_type": "stream",
          "text": [
            "Challenger gidiyor.\n",
            "Challenger duruyor.\n"
          ],
          "name": "stdout"
        }
      ]
    }
  ]
}