{
 "cells": [
  {
   "cell_type": "code",
   "execution_count": 17,
   "metadata": {},
   "outputs": [],
   "source": [
    "import pandas as pd #pandas kütüphanesini pd kısaltmasıyla çağırdım. \n",
    "import numpy as np #numpy kütüphanesini np kısaltmasıyla çağırdım."
   ]
  },
  {
   "cell_type": "code",
   "execution_count": 34,
   "metadata": {},
   "outputs": [],
   "source": [
    "dataset = {\"İsim\": [\"Mert\", \"Nilay\", \"Dogancan\", \"Omer\", \"Merve\", \"Onur\"],\n",
    "           \"Soyad\": [\"Cobanov\", \"Mertal\", \"Mavideniz\", \"Cengiz\", \"Noyan\", \"Sahil\"],\n",
    "           \"Yas\":   [24, 22, 24, 23, \"bilinmiyor\", 23],\n",
    "           \"Sehir\": [\"Bursa\", \"Ankara\", \"Istanbul\", np.nan, \"Izmir\", \"Istanbul\"],\n",
    "           \"Ulke\":  [\"Turkiye\", \"Turkiye\", \"Turkiye\", \"Turkiye\", \"Turkiye\", \"Turkiye\"],\n",
    "           \"GANO\":  [np.nan, np.nan, np.nan, np.nan, 3.90, np.nan]}"
   ]
  },
  {
   "cell_type": "code",
   "execution_count": 56,
   "metadata": {},
   "outputs": [],
   "source": [
    "df = pd.DataFrame(dataset) #veriçerçevemi oluşturdum."
   ]
  },
  {
   "cell_type": "code",
   "execution_count": 57,
   "metadata": {},
   "outputs": [
    {
     "data": {
      "text/html": [
       "<div>\n",
       "<style scoped>\n",
       "    .dataframe tbody tr th:only-of-type {\n",
       "        vertical-align: middle;\n",
       "    }\n",
       "\n",
       "    .dataframe tbody tr th {\n",
       "        vertical-align: top;\n",
       "    }\n",
       "\n",
       "    .dataframe thead th {\n",
       "        text-align: right;\n",
       "    }\n",
       "</style>\n",
       "<table border=\"1\" class=\"dataframe\">\n",
       "  <thead>\n",
       "    <tr style=\"text-align: right;\">\n",
       "      <th></th>\n",
       "      <th>İsim</th>\n",
       "      <th>Soyad</th>\n",
       "      <th>Yas</th>\n",
       "      <th>Sehir</th>\n",
       "      <th>Ulke</th>\n",
       "      <th>GANO</th>\n",
       "    </tr>\n",
       "  </thead>\n",
       "  <tbody>\n",
       "    <tr>\n",
       "      <th>0</th>\n",
       "      <td>Mert</td>\n",
       "      <td>Cobanov</td>\n",
       "      <td>24</td>\n",
       "      <td>Bursa</td>\n",
       "      <td>Turkiye</td>\n",
       "      <td>NaN</td>\n",
       "    </tr>\n",
       "    <tr>\n",
       "      <th>1</th>\n",
       "      <td>Nilay</td>\n",
       "      <td>Mertal</td>\n",
       "      <td>22</td>\n",
       "      <td>Ankara</td>\n",
       "      <td>Turkiye</td>\n",
       "      <td>NaN</td>\n",
       "    </tr>\n",
       "    <tr>\n",
       "      <th>2</th>\n",
       "      <td>Dogancan</td>\n",
       "      <td>Mavideniz</td>\n",
       "      <td>24</td>\n",
       "      <td>Istanbul</td>\n",
       "      <td>Turkiye</td>\n",
       "      <td>NaN</td>\n",
       "    </tr>\n",
       "    <tr>\n",
       "      <th>3</th>\n",
       "      <td>Omer</td>\n",
       "      <td>Cengiz</td>\n",
       "      <td>23</td>\n",
       "      <td>NaN</td>\n",
       "      <td>Turkiye</td>\n",
       "      <td>NaN</td>\n",
       "    </tr>\n",
       "    <tr>\n",
       "      <th>4</th>\n",
       "      <td>Merve</td>\n",
       "      <td>Noyan</td>\n",
       "      <td>bilinmiyor</td>\n",
       "      <td>Izmir</td>\n",
       "      <td>Turkiye</td>\n",
       "      <td>3.9</td>\n",
       "    </tr>\n",
       "    <tr>\n",
       "      <th>5</th>\n",
       "      <td>Onur</td>\n",
       "      <td>Sahil</td>\n",
       "      <td>23</td>\n",
       "      <td>Istanbul</td>\n",
       "      <td>Turkiye</td>\n",
       "      <td>NaN</td>\n",
       "    </tr>\n",
       "  </tbody>\n",
       "</table>\n",
       "</div>"
      ],
      "text/plain": [
       "       İsim      Soyad         Yas     Sehir     Ulke  GANO\n",
       "0      Mert    Cobanov          24     Bursa  Turkiye   NaN\n",
       "1     Nilay     Mertal          22    Ankara  Turkiye   NaN\n",
       "2  Dogancan  Mavideniz          24  Istanbul  Turkiye   NaN\n",
       "3      Omer     Cengiz          23       NaN  Turkiye   NaN\n",
       "4     Merve      Noyan  bilinmiyor     Izmir  Turkiye   3.9\n",
       "5      Onur      Sahil          23  Istanbul  Turkiye   NaN"
      ]
     },
     "execution_count": 57,
     "metadata": {},
     "output_type": "execute_result"
    }
   ],
   "source": [
    "df #veri çerçeversini ekrana bastırdım."
   ]
  },
  {
   "cell_type": "code",
   "execution_count": 10,
   "metadata": {},
   "outputs": [
    {
     "name": "stdout",
     "output_type": "stream",
     "text": [
      "<class 'pandas.core.frame.DataFrame'>\n",
      "RangeIndex: 6 entries, 0 to 5\n",
      "Data columns (total 6 columns):\n",
      " #   Column  Non-Null Count  Dtype  \n",
      "---  ------  --------------  -----  \n",
      " 0   İsim    6 non-null      object \n",
      " 1   Soyad   6 non-null      object \n",
      " 2   Yas     6 non-null      object \n",
      " 3   Sehir   5 non-null      object \n",
      " 4   Ulke    6 non-null      object \n",
      " 5   GANO    1 non-null      float64\n",
      "dtypes: float64(1), object(5)\n",
      "memory usage: 416.0+ bytes\n"
     ]
    }
   ],
   "source": [
    "\"\"\"\n",
    "preprocessing işlemi yapacağımda ilk gördüğüm şey yaş kolonunda 'bilinmiyor'\n",
    "yazısı olması\n",
    "\n",
    "yine GANO daki 6 veriden sadece 1 tanesini biliyoruz.\n",
    "\n",
    "\"\"\"\n",
    "\n",
    "df.info()#kolonda kaç boş olmayan veri olduğunu ve bu kolondaki verilerin\n",
    "#hangi veritipinde olduğunu görüyoruz.\n",
    "\n",
    "#yas kolonunun object olmasının tek nedeni 5 değer integer veri iken\n",
    "#1 verinin tipinin string olması bunu object olarak gösterir.\n"
   ]
  },
  {
   "cell_type": "code",
   "execution_count": 11,
   "metadata": {},
   "outputs": [
    {
     "data": {
      "text/html": [
       "<div>\n",
       "<style scoped>\n",
       "    .dataframe tbody tr th:only-of-type {\n",
       "        vertical-align: middle;\n",
       "    }\n",
       "\n",
       "    .dataframe tbody tr th {\n",
       "        vertical-align: top;\n",
       "    }\n",
       "\n",
       "    .dataframe thead th {\n",
       "        text-align: right;\n",
       "    }\n",
       "</style>\n",
       "<table border=\"1\" class=\"dataframe\">\n",
       "  <thead>\n",
       "    <tr style=\"text-align: right;\">\n",
       "      <th></th>\n",
       "      <th>İsim</th>\n",
       "      <th>Soyad</th>\n",
       "      <th>Yas</th>\n",
       "      <th>Sehir</th>\n",
       "      <th>Ulke</th>\n",
       "      <th>GANO</th>\n",
       "    </tr>\n",
       "  </thead>\n",
       "  <tbody>\n",
       "    <tr>\n",
       "      <th>0</th>\n",
       "      <td>False</td>\n",
       "      <td>False</td>\n",
       "      <td>False</td>\n",
       "      <td>False</td>\n",
       "      <td>False</td>\n",
       "      <td>True</td>\n",
       "    </tr>\n",
       "    <tr>\n",
       "      <th>1</th>\n",
       "      <td>False</td>\n",
       "      <td>False</td>\n",
       "      <td>False</td>\n",
       "      <td>False</td>\n",
       "      <td>False</td>\n",
       "      <td>True</td>\n",
       "    </tr>\n",
       "    <tr>\n",
       "      <th>2</th>\n",
       "      <td>False</td>\n",
       "      <td>False</td>\n",
       "      <td>False</td>\n",
       "      <td>False</td>\n",
       "      <td>False</td>\n",
       "      <td>True</td>\n",
       "    </tr>\n",
       "    <tr>\n",
       "      <th>3</th>\n",
       "      <td>False</td>\n",
       "      <td>False</td>\n",
       "      <td>False</td>\n",
       "      <td>True</td>\n",
       "      <td>False</td>\n",
       "      <td>True</td>\n",
       "    </tr>\n",
       "    <tr>\n",
       "      <th>4</th>\n",
       "      <td>False</td>\n",
       "      <td>False</td>\n",
       "      <td>False</td>\n",
       "      <td>False</td>\n",
       "      <td>False</td>\n",
       "      <td>False</td>\n",
       "    </tr>\n",
       "    <tr>\n",
       "      <th>5</th>\n",
       "      <td>False</td>\n",
       "      <td>False</td>\n",
       "      <td>False</td>\n",
       "      <td>False</td>\n",
       "      <td>False</td>\n",
       "      <td>True</td>\n",
       "    </tr>\n",
       "  </tbody>\n",
       "</table>\n",
       "</div>"
      ],
      "text/plain": [
       "    İsim  Soyad    Yas  Sehir   Ulke   GANO\n",
       "0  False  False  False  False  False   True\n",
       "1  False  False  False  False  False   True\n",
       "2  False  False  False  False  False   True\n",
       "3  False  False  False   True  False   True\n",
       "4  False  False  False  False  False  False\n",
       "5  False  False  False  False  False   True"
      ]
     },
     "execution_count": 11,
     "metadata": {},
     "output_type": "execute_result"
    }
   ],
   "source": [
    "df.isna() #hangilerinin non value olduğu true olarak dönüyor"
   ]
  },
  {
   "cell_type": "code",
   "execution_count": 18,
   "metadata": {},
   "outputs": [
    {
     "data": {
      "text/plain": [
       "İsim     0\n",
       "Soyad    0\n",
       "Yas      0\n",
       "Sehir    1\n",
       "Ulke     0\n",
       "GANO     5\n",
       "dtype: int64"
      ]
     },
     "execution_count": 18,
     "metadata": {},
     "output_type": "execute_result"
    }
   ],
   "source": [
    "df.isna().sum() #kolonlarda teker teker kaçtane nan value var onu görüyoruz."
   ]
  },
  {
   "cell_type": "code",
   "execution_count": 20,
   "metadata": {},
   "outputs": [
    {
     "data": {
      "text/plain": [
       "6"
      ]
     },
     "execution_count": 20,
     "metadata": {},
     "output_type": "execute_result"
    }
   ],
   "source": [
    "df.isna().sum().sum() #toplam kaçtane non value olduğunu görüyoruz."
   ]
  },
  {
   "cell_type": "code",
   "execution_count": 21,
   "metadata": {},
   "outputs": [
    {
     "data": {
      "text/html": [
       "<div>\n",
       "<style scoped>\n",
       "    .dataframe tbody tr th:only-of-type {\n",
       "        vertical-align: middle;\n",
       "    }\n",
       "\n",
       "    .dataframe tbody tr th {\n",
       "        vertical-align: top;\n",
       "    }\n",
       "\n",
       "    .dataframe thead th {\n",
       "        text-align: right;\n",
       "    }\n",
       "</style>\n",
       "<table border=\"1\" class=\"dataframe\">\n",
       "  <thead>\n",
       "    <tr style=\"text-align: right;\">\n",
       "      <th></th>\n",
       "      <th>İsim</th>\n",
       "      <th>Soyad</th>\n",
       "      <th>Yas</th>\n",
       "      <th>Sehir</th>\n",
       "      <th>Ulke</th>\n",
       "    </tr>\n",
       "  </thead>\n",
       "  <tbody>\n",
       "    <tr>\n",
       "      <th>0</th>\n",
       "      <td>Mert</td>\n",
       "      <td>Cobanov</td>\n",
       "      <td>24</td>\n",
       "      <td>Bursa</td>\n",
       "      <td>Turkiye</td>\n",
       "    </tr>\n",
       "    <tr>\n",
       "      <th>1</th>\n",
       "      <td>Nilay</td>\n",
       "      <td>Mertal</td>\n",
       "      <td>22</td>\n",
       "      <td>Ankara</td>\n",
       "      <td>Turkiye</td>\n",
       "    </tr>\n",
       "    <tr>\n",
       "      <th>2</th>\n",
       "      <td>Dogancan</td>\n",
       "      <td>Mavideniz</td>\n",
       "      <td>24</td>\n",
       "      <td>Istanbul</td>\n",
       "      <td>Turkiye</td>\n",
       "    </tr>\n",
       "    <tr>\n",
       "      <th>3</th>\n",
       "      <td>Omer</td>\n",
       "      <td>Cengiz</td>\n",
       "      <td>23</td>\n",
       "      <td>NaN</td>\n",
       "      <td>Turkiye</td>\n",
       "    </tr>\n",
       "    <tr>\n",
       "      <th>4</th>\n",
       "      <td>Merve</td>\n",
       "      <td>Noyan</td>\n",
       "      <td>bilinmiyor</td>\n",
       "      <td>Izmir</td>\n",
       "      <td>Turkiye</td>\n",
       "    </tr>\n",
       "    <tr>\n",
       "      <th>5</th>\n",
       "      <td>Onur</td>\n",
       "      <td>Sahil</td>\n",
       "      <td>23</td>\n",
       "      <td>Istanbul</td>\n",
       "      <td>Turkiye</td>\n",
       "    </tr>\n",
       "  </tbody>\n",
       "</table>\n",
       "</div>"
      ],
      "text/plain": [
       "       İsim      Soyad         Yas     Sehir     Ulke\n",
       "0      Mert    Cobanov          24     Bursa  Turkiye\n",
       "1     Nilay     Mertal          22    Ankara  Turkiye\n",
       "2  Dogancan  Mavideniz          24  Istanbul  Turkiye\n",
       "3      Omer     Cengiz          23       NaN  Turkiye\n",
       "4     Merve      Noyan  bilinmiyor     Izmir  Turkiye\n",
       "5      Onur      Sahil          23  Istanbul  Turkiye"
      ]
     },
     "execution_count": 21,
     "metadata": {},
     "output_type": "execute_result"
    }
   ],
   "source": [
    "df.dropna(axis = 1, how = \"any\", thresh = 3)\n",
    "\n",
    "#düşürme işlemini satırdamı yoksa sütundamı yapacaksınız?\n",
    "#how = 'any' 'all hepsi' = 'any' için o kolon veya o satır herhangi bir non value içeriyorsa düşürmüş\n",
    "#oluyorsunuz\n",
    "#thresh integer bir değer olarak o kolonu veya satırdaki non sayısı bu thresh değerinin üzerine çıkarsa düşürüyoruz.\n",
    "\n"
   ]
  },
  {
   "cell_type": "code",
   "execution_count": null,
   "metadata": {},
   "outputs": [],
   "source": [
    "#böylece GANO kolonunda toplamda 5 non value olduğu için düştü\n",
    "#fakat yas kolonunda tek non value olduğu için düşmedi."
   ]
  },
  {
   "cell_type": "code",
   "execution_count": 23,
   "metadata": {},
   "outputs": [
    {
     "data": {
      "text/html": [
       "<div>\n",
       "<style scoped>\n",
       "    .dataframe tbody tr th:only-of-type {\n",
       "        vertical-align: middle;\n",
       "    }\n",
       "\n",
       "    .dataframe tbody tr th {\n",
       "        vertical-align: top;\n",
       "    }\n",
       "\n",
       "    .dataframe thead th {\n",
       "        text-align: right;\n",
       "    }\n",
       "</style>\n",
       "<table border=\"1\" class=\"dataframe\">\n",
       "  <thead>\n",
       "    <tr style=\"text-align: right;\">\n",
       "      <th></th>\n",
       "      <th>İsim</th>\n",
       "      <th>Soyad</th>\n",
       "      <th>Yas</th>\n",
       "      <th>Sehir</th>\n",
       "      <th>Ulke</th>\n",
       "    </tr>\n",
       "  </thead>\n",
       "  <tbody>\n",
       "    <tr>\n",
       "      <th>0</th>\n",
       "      <td>Mert</td>\n",
       "      <td>Cobanov</td>\n",
       "      <td>24</td>\n",
       "      <td>Bursa</td>\n",
       "      <td>Turkiye</td>\n",
       "    </tr>\n",
       "    <tr>\n",
       "      <th>1</th>\n",
       "      <td>Nilay</td>\n",
       "      <td>Mertal</td>\n",
       "      <td>22</td>\n",
       "      <td>Ankara</td>\n",
       "      <td>Turkiye</td>\n",
       "    </tr>\n",
       "    <tr>\n",
       "      <th>2</th>\n",
       "      <td>Dogancan</td>\n",
       "      <td>Mavideniz</td>\n",
       "      <td>24</td>\n",
       "      <td>Istanbul</td>\n",
       "      <td>Turkiye</td>\n",
       "    </tr>\n",
       "    <tr>\n",
       "      <th>3</th>\n",
       "      <td>Omer</td>\n",
       "      <td>Cengiz</td>\n",
       "      <td>23</td>\n",
       "      <td>NaN</td>\n",
       "      <td>Turkiye</td>\n",
       "    </tr>\n",
       "    <tr>\n",
       "      <th>4</th>\n",
       "      <td>Merve</td>\n",
       "      <td>Noyan</td>\n",
       "      <td>bilinmiyor</td>\n",
       "      <td>Izmir</td>\n",
       "      <td>Turkiye</td>\n",
       "    </tr>\n",
       "    <tr>\n",
       "      <th>5</th>\n",
       "      <td>Onur</td>\n",
       "      <td>Sahil</td>\n",
       "      <td>23</td>\n",
       "      <td>Istanbul</td>\n",
       "      <td>Turkiye</td>\n",
       "    </tr>\n",
       "  </tbody>\n",
       "</table>\n",
       "</div>"
      ],
      "text/plain": [
       "       İsim      Soyad         Yas     Sehir     Ulke\n",
       "0      Mert    Cobanov          24     Bursa  Turkiye\n",
       "1     Nilay     Mertal          22    Ankara  Turkiye\n",
       "2  Dogancan  Mavideniz          24  Istanbul  Turkiye\n",
       "3      Omer     Cengiz          23       NaN  Turkiye\n",
       "4     Merve      Noyan  bilinmiyor     Izmir  Turkiye\n",
       "5      Onur      Sahil          23  Istanbul  Turkiye"
      ]
     },
     "execution_count": 23,
     "metadata": {},
     "output_type": "execute_result"
    }
   ],
   "source": [
    "df.drop(labels=[\"GANO\"], axis=1)#spesifik olarak kolon düşürmek için\n",
    "#df.drop(labels=[\"GANO\", \"Ulke\"], axis=1, inplace=True)\n",
    "#şeklinde söylersem GANO ve Ulke kolonlarını kaldırmış olurum ve inplace = True\n",
    "#olduğundan df üzerine bu değişikliğim yazılmış olur."
   ]
  },
  {
   "cell_type": "code",
   "execution_count": 58,
   "metadata": {},
   "outputs": [],
   "source": [
    "df_2 = df.drop(labels = ['GANO', 'Ulke'], axis = 1)"
   ]
  },
  {
   "cell_type": "code",
   "execution_count": 59,
   "metadata": {},
   "outputs": [
    {
     "data": {
      "text/html": [
       "<div>\n",
       "<style scoped>\n",
       "    .dataframe tbody tr th:only-of-type {\n",
       "        vertical-align: middle;\n",
       "    }\n",
       "\n",
       "    .dataframe tbody tr th {\n",
       "        vertical-align: top;\n",
       "    }\n",
       "\n",
       "    .dataframe thead th {\n",
       "        text-align: right;\n",
       "    }\n",
       "</style>\n",
       "<table border=\"1\" class=\"dataframe\">\n",
       "  <thead>\n",
       "    <tr style=\"text-align: right;\">\n",
       "      <th></th>\n",
       "      <th>İsim</th>\n",
       "      <th>Soyad</th>\n",
       "      <th>Yas</th>\n",
       "      <th>Sehir</th>\n",
       "    </tr>\n",
       "  </thead>\n",
       "  <tbody>\n",
       "    <tr>\n",
       "      <th>0</th>\n",
       "      <td>Mert</td>\n",
       "      <td>Cobanov</td>\n",
       "      <td>24</td>\n",
       "      <td>Bursa</td>\n",
       "    </tr>\n",
       "    <tr>\n",
       "      <th>1</th>\n",
       "      <td>Nilay</td>\n",
       "      <td>Mertal</td>\n",
       "      <td>22</td>\n",
       "      <td>Ankara</td>\n",
       "    </tr>\n",
       "    <tr>\n",
       "      <th>2</th>\n",
       "      <td>Dogancan</td>\n",
       "      <td>Mavideniz</td>\n",
       "      <td>24</td>\n",
       "      <td>Istanbul</td>\n",
       "    </tr>\n",
       "    <tr>\n",
       "      <th>3</th>\n",
       "      <td>Omer</td>\n",
       "      <td>Cengiz</td>\n",
       "      <td>23</td>\n",
       "      <td>NaN</td>\n",
       "    </tr>\n",
       "    <tr>\n",
       "      <th>4</th>\n",
       "      <td>Merve</td>\n",
       "      <td>Noyan</td>\n",
       "      <td>bilinmiyor</td>\n",
       "      <td>Izmir</td>\n",
       "    </tr>\n",
       "    <tr>\n",
       "      <th>5</th>\n",
       "      <td>Onur</td>\n",
       "      <td>Sahil</td>\n",
       "      <td>23</td>\n",
       "      <td>Istanbul</td>\n",
       "    </tr>\n",
       "  </tbody>\n",
       "</table>\n",
       "</div>"
      ],
      "text/plain": [
       "       İsim      Soyad         Yas     Sehir\n",
       "0      Mert    Cobanov          24     Bursa\n",
       "1     Nilay     Mertal          22    Ankara\n",
       "2  Dogancan  Mavideniz          24  Istanbul\n",
       "3      Omer     Cengiz          23       NaN\n",
       "4     Merve      Noyan  bilinmiyor     Izmir\n",
       "5      Onur      Sahil          23  Istanbul"
      ]
     },
     "execution_count": 59,
     "metadata": {},
     "output_type": "execute_result"
    }
   ],
   "source": [
    "df_2"
   ]
  },
  {
   "cell_type": "code",
   "execution_count": 60,
   "metadata": {},
   "outputs": [],
   "source": [
    "df_3 = df_2.copy()"
   ]
  },
  {
   "cell_type": "code",
   "execution_count": 61,
   "metadata": {},
   "outputs": [
    {
     "data": {
      "text/html": [
       "<div>\n",
       "<style scoped>\n",
       "    .dataframe tbody tr th:only-of-type {\n",
       "        vertical-align: middle;\n",
       "    }\n",
       "\n",
       "    .dataframe tbody tr th {\n",
       "        vertical-align: top;\n",
       "    }\n",
       "\n",
       "    .dataframe thead th {\n",
       "        text-align: right;\n",
       "    }\n",
       "</style>\n",
       "<table border=\"1\" class=\"dataframe\">\n",
       "  <thead>\n",
       "    <tr style=\"text-align: right;\">\n",
       "      <th></th>\n",
       "      <th>İsim</th>\n",
       "      <th>Soyad</th>\n",
       "      <th>Yas</th>\n",
       "      <th>Sehir</th>\n",
       "    </tr>\n",
       "  </thead>\n",
       "  <tbody>\n",
       "    <tr>\n",
       "      <th>0</th>\n",
       "      <td>Mert</td>\n",
       "      <td>Cobanov</td>\n",
       "      <td>24</td>\n",
       "      <td>Bursa</td>\n",
       "    </tr>\n",
       "    <tr>\n",
       "      <th>1</th>\n",
       "      <td>Nilay</td>\n",
       "      <td>Mertal</td>\n",
       "      <td>22</td>\n",
       "      <td>Ankara</td>\n",
       "    </tr>\n",
       "    <tr>\n",
       "      <th>2</th>\n",
       "      <td>Dogancan</td>\n",
       "      <td>Mavideniz</td>\n",
       "      <td>24</td>\n",
       "      <td>Istanbul</td>\n",
       "    </tr>\n",
       "    <tr>\n",
       "      <th>3</th>\n",
       "      <td>Omer</td>\n",
       "      <td>Cengiz</td>\n",
       "      <td>23</td>\n",
       "      <td>NaN</td>\n",
       "    </tr>\n",
       "    <tr>\n",
       "      <th>4</th>\n",
       "      <td>Merve</td>\n",
       "      <td>Noyan</td>\n",
       "      <td>bilinmiyor</td>\n",
       "      <td>Izmir</td>\n",
       "    </tr>\n",
       "    <tr>\n",
       "      <th>5</th>\n",
       "      <td>Onur</td>\n",
       "      <td>Sahil</td>\n",
       "      <td>23</td>\n",
       "      <td>Istanbul</td>\n",
       "    </tr>\n",
       "  </tbody>\n",
       "</table>\n",
       "</div>"
      ],
      "text/plain": [
       "       İsim      Soyad         Yas     Sehir\n",
       "0      Mert    Cobanov          24     Bursa\n",
       "1     Nilay     Mertal          22    Ankara\n",
       "2  Dogancan  Mavideniz          24  Istanbul\n",
       "3      Omer     Cengiz          23       NaN\n",
       "4     Merve      Noyan  bilinmiyor     Izmir\n",
       "5      Onur      Sahil          23  Istanbul"
      ]
     },
     "execution_count": 61,
     "metadata": {},
     "output_type": "execute_result"
    }
   ],
   "source": [
    "df_3"
   ]
  },
  {
   "cell_type": "code",
   "execution_count": 65,
   "metadata": {},
   "outputs": [],
   "source": [
    "df_2[\"Yas\"].replace(\"bilinmiyor\", np.nan, inplace = True) #bilinmiyor hücresini kalıcı olarak nan yaptım."
   ]
  },
  {
   "cell_type": "code",
   "execution_count": 73,
   "metadata": {},
   "outputs": [],
   "source": [
    "df_2['Yas'].fillna(value = df_2['Yas'].mean(), inplace = True) #df_2 adlı veriçerçevesindeki 'Yaş' kolonundaki değerlerin ortalamasını Nan veriye ata."
   ]
  },
  {
   "cell_type": "code",
   "execution_count": 74,
   "metadata": {},
   "outputs": [
    {
     "data": {
      "text/plain": [
       "0    24.0\n",
       "1    22.0\n",
       "2    24.0\n",
       "3    23.0\n",
       "4    23.2\n",
       "5    23.0\n",
       "Name: Yas, dtype: float64"
      ]
     },
     "execution_count": 74,
     "metadata": {},
     "output_type": "execute_result"
    }
   ],
   "source": [
    "df_2[\"Yas\"]"
   ]
  },
  {
   "cell_type": "code",
   "execution_count": 75,
   "metadata": {},
   "outputs": [],
   "source": [
    "import numpy as np\n",
    "from sklearn.impute import SimpleImputer"
   ]
  },
  {
   "cell_type": "code",
   "execution_count": 79,
   "metadata": {},
   "outputs": [],
   "source": [
    "#df_2 nin yedeğini df_3 olarak almıştık.\n",
    "df_3['Yas'].replace(\"bilinmiyor\", np.nan, inplace = True)"
   ]
  },
  {
   "cell_type": "code",
   "execution_count": 80,
   "metadata": {},
   "outputs": [
    {
     "data": {
      "text/html": [
       "<div>\n",
       "<style scoped>\n",
       "    .dataframe tbody tr th:only-of-type {\n",
       "        vertical-align: middle;\n",
       "    }\n",
       "\n",
       "    .dataframe tbody tr th {\n",
       "        vertical-align: top;\n",
       "    }\n",
       "\n",
       "    .dataframe thead th {\n",
       "        text-align: right;\n",
       "    }\n",
       "</style>\n",
       "<table border=\"1\" class=\"dataframe\">\n",
       "  <thead>\n",
       "    <tr style=\"text-align: right;\">\n",
       "      <th></th>\n",
       "      <th>İsim</th>\n",
       "      <th>Soyad</th>\n",
       "      <th>Yas</th>\n",
       "      <th>Sehir</th>\n",
       "    </tr>\n",
       "  </thead>\n",
       "  <tbody>\n",
       "    <tr>\n",
       "      <th>0</th>\n",
       "      <td>Mert</td>\n",
       "      <td>Cobanov</td>\n",
       "      <td>24.0</td>\n",
       "      <td>Bursa</td>\n",
       "    </tr>\n",
       "    <tr>\n",
       "      <th>1</th>\n",
       "      <td>Nilay</td>\n",
       "      <td>Mertal</td>\n",
       "      <td>22.0</td>\n",
       "      <td>Ankara</td>\n",
       "    </tr>\n",
       "    <tr>\n",
       "      <th>2</th>\n",
       "      <td>Dogancan</td>\n",
       "      <td>Mavideniz</td>\n",
       "      <td>24.0</td>\n",
       "      <td>Istanbul</td>\n",
       "    </tr>\n",
       "    <tr>\n",
       "      <th>3</th>\n",
       "      <td>Omer</td>\n",
       "      <td>Cengiz</td>\n",
       "      <td>23.0</td>\n",
       "      <td>NaN</td>\n",
       "    </tr>\n",
       "    <tr>\n",
       "      <th>4</th>\n",
       "      <td>Merve</td>\n",
       "      <td>Noyan</td>\n",
       "      <td>NaN</td>\n",
       "      <td>Izmir</td>\n",
       "    </tr>\n",
       "    <tr>\n",
       "      <th>5</th>\n",
       "      <td>Onur</td>\n",
       "      <td>Sahil</td>\n",
       "      <td>23.0</td>\n",
       "      <td>Istanbul</td>\n",
       "    </tr>\n",
       "  </tbody>\n",
       "</table>\n",
       "</div>"
      ],
      "text/plain": [
       "       İsim      Soyad   Yas     Sehir\n",
       "0      Mert    Cobanov  24.0     Bursa\n",
       "1     Nilay     Mertal  22.0    Ankara\n",
       "2  Dogancan  Mavideniz  24.0  Istanbul\n",
       "3      Omer     Cengiz  23.0       NaN\n",
       "4     Merve      Noyan   NaN     Izmir\n",
       "5      Onur      Sahil  23.0  Istanbul"
      ]
     },
     "execution_count": 80,
     "metadata": {},
     "output_type": "execute_result"
    }
   ],
   "source": [
    "df_3"
   ]
  },
  {
   "cell_type": "code",
   "execution_count": 81,
   "metadata": {},
   "outputs": [],
   "source": [
    "imp_freq = SimpleImputer(missing_values = np.nan, strategy = \"most_frequent\")\n",
    "#en çok tekrar eden değer ile nan veriyi doldur.\n",
    "df_3['Yas'] = imp_freq.fit_transform(df_3[['Yas']])\n",
    "#df_3 yas kolonuna imp_freq adlı instanceımızı(durumumuzu) sklearn işlemi olan\n",
    "#fit_transform ile df_3 ün yas kolonuna uyguluyoruz."
   ]
  },
  {
   "cell_type": "code",
   "execution_count": 82,
   "metadata": {},
   "outputs": [
    {
     "data": {
      "text/html": [
       "<div>\n",
       "<style scoped>\n",
       "    .dataframe tbody tr th:only-of-type {\n",
       "        vertical-align: middle;\n",
       "    }\n",
       "\n",
       "    .dataframe tbody tr th {\n",
       "        vertical-align: top;\n",
       "    }\n",
       "\n",
       "    .dataframe thead th {\n",
       "        text-align: right;\n",
       "    }\n",
       "</style>\n",
       "<table border=\"1\" class=\"dataframe\">\n",
       "  <thead>\n",
       "    <tr style=\"text-align: right;\">\n",
       "      <th></th>\n",
       "      <th>İsim</th>\n",
       "      <th>Soyad</th>\n",
       "      <th>Yas</th>\n",
       "      <th>Sehir</th>\n",
       "    </tr>\n",
       "  </thead>\n",
       "  <tbody>\n",
       "    <tr>\n",
       "      <th>0</th>\n",
       "      <td>Mert</td>\n",
       "      <td>Cobanov</td>\n",
       "      <td>24.0</td>\n",
       "      <td>Bursa</td>\n",
       "    </tr>\n",
       "    <tr>\n",
       "      <th>1</th>\n",
       "      <td>Nilay</td>\n",
       "      <td>Mertal</td>\n",
       "      <td>22.0</td>\n",
       "      <td>Ankara</td>\n",
       "    </tr>\n",
       "    <tr>\n",
       "      <th>2</th>\n",
       "      <td>Dogancan</td>\n",
       "      <td>Mavideniz</td>\n",
       "      <td>24.0</td>\n",
       "      <td>Istanbul</td>\n",
       "    </tr>\n",
       "    <tr>\n",
       "      <th>3</th>\n",
       "      <td>Omer</td>\n",
       "      <td>Cengiz</td>\n",
       "      <td>23.0</td>\n",
       "      <td>NaN</td>\n",
       "    </tr>\n",
       "    <tr>\n",
       "      <th>4</th>\n",
       "      <td>Merve</td>\n",
       "      <td>Noyan</td>\n",
       "      <td>23.0</td>\n",
       "      <td>Izmir</td>\n",
       "    </tr>\n",
       "    <tr>\n",
       "      <th>5</th>\n",
       "      <td>Onur</td>\n",
       "      <td>Sahil</td>\n",
       "      <td>23.0</td>\n",
       "      <td>Istanbul</td>\n",
       "    </tr>\n",
       "  </tbody>\n",
       "</table>\n",
       "</div>"
      ],
      "text/plain": [
       "       İsim      Soyad   Yas     Sehir\n",
       "0      Mert    Cobanov  24.0     Bursa\n",
       "1     Nilay     Mertal  22.0    Ankara\n",
       "2  Dogancan  Mavideniz  24.0  Istanbul\n",
       "3      Omer     Cengiz  23.0       NaN\n",
       "4     Merve      Noyan  23.0     Izmir\n",
       "5      Onur      Sahil  23.0  Istanbul"
      ]
     },
     "execution_count": 82,
     "metadata": {},
     "output_type": "execute_result"
    }
   ],
   "source": [
    "df_3"
   ]
  },
  {
   "cell_type": "code",
   "execution_count": 83,
   "metadata": {},
   "outputs": [
    {
     "name": "stdout",
     "output_type": "stream",
     "text": [
      "0    0.0\n",
      "1    1.0\n",
      "2    NaN\n",
      "3    3.0\n",
      "dtype: float64\n"
     ]
    }
   ],
   "source": [
    "# Enterpolasyon\n",
    "#pandas serisi oluşturalım,\n",
    "s = pd.Series([0, 1, np.nan, 3])\n",
    "print(s)"
   ]
  },
  {
   "cell_type": "code",
   "execution_count": 84,
   "metadata": {},
   "outputs": [
    {
     "data": {
      "text/plain": [
       "0    0.0\n",
       "1    1.0\n",
       "2    2.0\n",
       "3    3.0\n",
       "dtype: float64"
      ]
     },
     "execution_count": 84,
     "metadata": {},
     "output_type": "execute_result"
    }
   ],
   "source": [
    "s.interpolate()#interpolasyon tekniği ile eksik veriyi bana gösteriyor."
   ]
  },
  {
   "cell_type": "code",
   "execution_count": 85,
   "metadata": {},
   "outputs": [],
   "source": [
    "from sklearn.impute import KNNImputer"
   ]
  },
  {
   "cell_type": "code",
   "execution_count": 86,
   "metadata": {},
   "outputs": [],
   "source": [
    "X = [[1, 2, np.nan], [3, 4, 3], [np.nan, 6, 5], [8, 8, 7]]\n",
    "#3x4 lük bir matris aldık."
   ]
  },
  {
   "cell_type": "code",
   "execution_count": 87,
   "metadata": {},
   "outputs": [
    {
     "data": {
      "text/html": [
       "<div>\n",
       "<style scoped>\n",
       "    .dataframe tbody tr th:only-of-type {\n",
       "        vertical-align: middle;\n",
       "    }\n",
       "\n",
       "    .dataframe tbody tr th {\n",
       "        vertical-align: top;\n",
       "    }\n",
       "\n",
       "    .dataframe thead th {\n",
       "        text-align: right;\n",
       "    }\n",
       "</style>\n",
       "<table border=\"1\" class=\"dataframe\">\n",
       "  <thead>\n",
       "    <tr style=\"text-align: right;\">\n",
       "      <th></th>\n",
       "      <th>0</th>\n",
       "      <th>1</th>\n",
       "      <th>2</th>\n",
       "    </tr>\n",
       "  </thead>\n",
       "  <tbody>\n",
       "    <tr>\n",
       "      <th>0</th>\n",
       "      <td>1.0</td>\n",
       "      <td>2</td>\n",
       "      <td>NaN</td>\n",
       "    </tr>\n",
       "    <tr>\n",
       "      <th>1</th>\n",
       "      <td>3.0</td>\n",
       "      <td>4</td>\n",
       "      <td>3.0</td>\n",
       "    </tr>\n",
       "    <tr>\n",
       "      <th>2</th>\n",
       "      <td>NaN</td>\n",
       "      <td>6</td>\n",
       "      <td>5.0</td>\n",
       "    </tr>\n",
       "    <tr>\n",
       "      <th>3</th>\n",
       "      <td>8.0</td>\n",
       "      <td>8</td>\n",
       "      <td>7.0</td>\n",
       "    </tr>\n",
       "  </tbody>\n",
       "</table>\n",
       "</div>"
      ],
      "text/plain": [
       "     0  1    2\n",
       "0  1.0  2  NaN\n",
       "1  3.0  4  3.0\n",
       "2  NaN  6  5.0\n",
       "3  8.0  8  7.0"
      ]
     },
     "execution_count": 87,
     "metadata": {},
     "output_type": "execute_result"
    }
   ],
   "source": [
    "pd.DataFrame(X)#dataframe ile daha güzel görünmesini sağlayalım."
   ]
  },
  {
   "cell_type": "code",
   "execution_count": 89,
   "metadata": {},
   "outputs": [],
   "source": [
    "#KNN imputer objesinden birtane instance yaratıyorum.\n",
    "imputer = KNNImputer(n_neighbors = 2, weights = 'uniform')\n",
    "X = imputer.fit_transform(X)\n",
    "#Komşularına göre ağırlıklarına bakarak Euclidian Distance'ını hesaplıyor\n",
    "#ve bu eksik olan verinizi bu şekilde toparlayabiliyorsunuz."
   ]
  },
  {
   "cell_type": "code",
   "execution_count": 90,
   "metadata": {},
   "outputs": [
    {
     "data": {
      "text/html": [
       "<div>\n",
       "<style scoped>\n",
       "    .dataframe tbody tr th:only-of-type {\n",
       "        vertical-align: middle;\n",
       "    }\n",
       "\n",
       "    .dataframe tbody tr th {\n",
       "        vertical-align: top;\n",
       "    }\n",
       "\n",
       "    .dataframe thead th {\n",
       "        text-align: right;\n",
       "    }\n",
       "</style>\n",
       "<table border=\"1\" class=\"dataframe\">\n",
       "  <thead>\n",
       "    <tr style=\"text-align: right;\">\n",
       "      <th></th>\n",
       "      <th>0</th>\n",
       "      <th>1</th>\n",
       "      <th>2</th>\n",
       "    </tr>\n",
       "  </thead>\n",
       "  <tbody>\n",
       "    <tr>\n",
       "      <th>0</th>\n",
       "      <td>1.0</td>\n",
       "      <td>2.0</td>\n",
       "      <td>4.0</td>\n",
       "    </tr>\n",
       "    <tr>\n",
       "      <th>1</th>\n",
       "      <td>3.0</td>\n",
       "      <td>4.0</td>\n",
       "      <td>3.0</td>\n",
       "    </tr>\n",
       "    <tr>\n",
       "      <th>2</th>\n",
       "      <td>5.5</td>\n",
       "      <td>6.0</td>\n",
       "      <td>5.0</td>\n",
       "    </tr>\n",
       "    <tr>\n",
       "      <th>3</th>\n",
       "      <td>8.0</td>\n",
       "      <td>8.0</td>\n",
       "      <td>7.0</td>\n",
       "    </tr>\n",
       "  </tbody>\n",
       "</table>\n",
       "</div>"
      ],
      "text/plain": [
       "     0    1    2\n",
       "0  1.0  2.0  4.0\n",
       "1  3.0  4.0  3.0\n",
       "2  5.5  6.0  5.0\n",
       "3  8.0  8.0  7.0"
      ]
     },
     "execution_count": 90,
     "metadata": {},
     "output_type": "execute_result"
    }
   ],
   "source": [
    "pd.DataFrame(X)"
   ]
  },
  {
   "cell_type": "code",
   "execution_count": 91,
   "metadata": {},
   "outputs": [
    {
     "data": {
      "text/html": [
       "<div>\n",
       "<style scoped>\n",
       "    .dataframe tbody tr th:only-of-type {\n",
       "        vertical-align: middle;\n",
       "    }\n",
       "\n",
       "    .dataframe tbody tr th {\n",
       "        vertical-align: top;\n",
       "    }\n",
       "\n",
       "    .dataframe thead th {\n",
       "        text-align: right;\n",
       "    }\n",
       "</style>\n",
       "<table border=\"1\" class=\"dataframe\">\n",
       "  <thead>\n",
       "    <tr style=\"text-align: right;\">\n",
       "      <th></th>\n",
       "      <th>İsim</th>\n",
       "      <th>Soyad</th>\n",
       "      <th>Yas</th>\n",
       "      <th>Sehir</th>\n",
       "    </tr>\n",
       "  </thead>\n",
       "  <tbody>\n",
       "    <tr>\n",
       "      <th>0</th>\n",
       "      <td>Mert</td>\n",
       "      <td>Cobanov</td>\n",
       "      <td>24.0</td>\n",
       "      <td>Bursa</td>\n",
       "    </tr>\n",
       "    <tr>\n",
       "      <th>1</th>\n",
       "      <td>Nilay</td>\n",
       "      <td>Mertal</td>\n",
       "      <td>22.0</td>\n",
       "      <td>Ankara</td>\n",
       "    </tr>\n",
       "    <tr>\n",
       "      <th>2</th>\n",
       "      <td>Dogancan</td>\n",
       "      <td>Mavideniz</td>\n",
       "      <td>24.0</td>\n",
       "      <td>Istanbul</td>\n",
       "    </tr>\n",
       "    <tr>\n",
       "      <th>3</th>\n",
       "      <td>Omer</td>\n",
       "      <td>Cengiz</td>\n",
       "      <td>23.0</td>\n",
       "      <td>NaN</td>\n",
       "    </tr>\n",
       "    <tr>\n",
       "      <th>4</th>\n",
       "      <td>Merve</td>\n",
       "      <td>Noyan</td>\n",
       "      <td>23.0</td>\n",
       "      <td>Izmir</td>\n",
       "    </tr>\n",
       "    <tr>\n",
       "      <th>5</th>\n",
       "      <td>Onur</td>\n",
       "      <td>Sahil</td>\n",
       "      <td>23.0</td>\n",
       "      <td>Istanbul</td>\n",
       "    </tr>\n",
       "  </tbody>\n",
       "</table>\n",
       "</div>"
      ],
      "text/plain": [
       "       İsim      Soyad   Yas     Sehir\n",
       "0      Mert    Cobanov  24.0     Bursa\n",
       "1     Nilay     Mertal  22.0    Ankara\n",
       "2  Dogancan  Mavideniz  24.0  Istanbul\n",
       "3      Omer     Cengiz  23.0       NaN\n",
       "4     Merve      Noyan  23.0     Izmir\n",
       "5      Onur      Sahil  23.0  Istanbul"
      ]
     },
     "execution_count": 91,
     "metadata": {},
     "output_type": "execute_result"
    }
   ],
   "source": [
    "df_3"
   ]
  },
  {
   "cell_type": "code",
   "execution_count": 92,
   "metadata": {},
   "outputs": [],
   "source": [
    "df_3[\"Sehir\"] = df[\"Sehir\"].replace(np.nan, \"Diger\")"
   ]
  },
  {
   "cell_type": "code",
   "execution_count": 93,
   "metadata": {},
   "outputs": [
    {
     "data": {
      "text/html": [
       "<div>\n",
       "<style scoped>\n",
       "    .dataframe tbody tr th:only-of-type {\n",
       "        vertical-align: middle;\n",
       "    }\n",
       "\n",
       "    .dataframe tbody tr th {\n",
       "        vertical-align: top;\n",
       "    }\n",
       "\n",
       "    .dataframe thead th {\n",
       "        text-align: right;\n",
       "    }\n",
       "</style>\n",
       "<table border=\"1\" class=\"dataframe\">\n",
       "  <thead>\n",
       "    <tr style=\"text-align: right;\">\n",
       "      <th></th>\n",
       "      <th>İsim</th>\n",
       "      <th>Soyad</th>\n",
       "      <th>Yas</th>\n",
       "      <th>Sehir</th>\n",
       "    </tr>\n",
       "  </thead>\n",
       "  <tbody>\n",
       "    <tr>\n",
       "      <th>0</th>\n",
       "      <td>Mert</td>\n",
       "      <td>Cobanov</td>\n",
       "      <td>24.0</td>\n",
       "      <td>Bursa</td>\n",
       "    </tr>\n",
       "    <tr>\n",
       "      <th>1</th>\n",
       "      <td>Nilay</td>\n",
       "      <td>Mertal</td>\n",
       "      <td>22.0</td>\n",
       "      <td>Ankara</td>\n",
       "    </tr>\n",
       "    <tr>\n",
       "      <th>2</th>\n",
       "      <td>Dogancan</td>\n",
       "      <td>Mavideniz</td>\n",
       "      <td>24.0</td>\n",
       "      <td>Istanbul</td>\n",
       "    </tr>\n",
       "    <tr>\n",
       "      <th>3</th>\n",
       "      <td>Omer</td>\n",
       "      <td>Cengiz</td>\n",
       "      <td>23.0</td>\n",
       "      <td>Diger</td>\n",
       "    </tr>\n",
       "    <tr>\n",
       "      <th>4</th>\n",
       "      <td>Merve</td>\n",
       "      <td>Noyan</td>\n",
       "      <td>23.0</td>\n",
       "      <td>Izmir</td>\n",
       "    </tr>\n",
       "    <tr>\n",
       "      <th>5</th>\n",
       "      <td>Onur</td>\n",
       "      <td>Sahil</td>\n",
       "      <td>23.0</td>\n",
       "      <td>Istanbul</td>\n",
       "    </tr>\n",
       "  </tbody>\n",
       "</table>\n",
       "</div>"
      ],
      "text/plain": [
       "       İsim      Soyad   Yas     Sehir\n",
       "0      Mert    Cobanov  24.0     Bursa\n",
       "1     Nilay     Mertal  22.0    Ankara\n",
       "2  Dogancan  Mavideniz  24.0  Istanbul\n",
       "3      Omer     Cengiz  23.0     Diger\n",
       "4     Merve      Noyan  23.0     Izmir\n",
       "5      Onur      Sahil  23.0  Istanbul"
      ]
     },
     "execution_count": 93,
     "metadata": {},
     "output_type": "execute_result"
    }
   ],
   "source": [
    "df_3"
   ]
  },
  {
   "cell_type": "code",
   "execution_count": null,
   "metadata": {},
   "outputs": [],
   "source": [
    "#Machine Learning algoritmaları kullanırken veride bir standartizasyona gitmemiz\n",
    "#gerekebilir çünkü verinin bir tarafa yatıklığı çok fazla olabilir\n",
    "#Karar ağaçları gibi yapıları kullanırken standartizasyon işlemi yapmak önemli,\n",
    "#standatizasyon işleminden kastımız ortalaması \"0\" ve standart sapması \"1\" olacak şekilde\n",
    "#ml algoritmalarında veriyi daha iyi kavraması için güzel istatistiksel işlemlerden birtanesidir\n",
    "\n",
    "#Aşırı sapan değerlere outlayer değer diyoruz."
   ]
  },
  {
   "cell_type": "code",
   "execution_count": 102,
   "metadata": {},
   "outputs": [],
   "source": [
    "#Standart scaler işlemi\n",
    "#Bir kolondaki dağılımın ortalaması '0' ve standart sapması '1' olacak\n",
    "#şekilde yeniden scale etme işlemine denir.\n"
   ]
  },
  {
   "cell_type": "code",
   "execution_count": 119,
   "metadata": {},
   "outputs": [],
   "source": [
    "from sklearn.preprocessing import StandardScaler\n",
    "import numpy as np"
   ]
  },
  {
   "cell_type": "code",
   "execution_count": 120,
   "metadata": {},
   "outputs": [],
   "source": [
    "df_ss = df_2.copy()"
   ]
  },
  {
   "cell_type": "code",
   "execution_count": 124,
   "metadata": {},
   "outputs": [],
   "source": [
    "df_ss['Yas_Scaled'] = StandardScaler().fit_transform(df_ss[['Yas']])"
   ]
  },
  {
   "cell_type": "code",
   "execution_count": 122,
   "metadata": {},
   "outputs": [
    {
     "data": {
      "text/plain": [
       "0    24.0\n",
       "1    22.0\n",
       "2    24.0\n",
       "3    23.0\n",
       "4    23.2\n",
       "5    23.0\n",
       "Name: Yas, dtype: float64"
      ]
     },
     "execution_count": 122,
     "metadata": {},
     "output_type": "execute_result"
    }
   ],
   "source": [
    "df_ss['Yas'] #dağılımı standart dağılıma çevirip \"Yas_Scaled\" adlı yeni bir kolona aktarıyorum."
   ]
  },
  {
   "cell_type": "code",
   "execution_count": 125,
   "metadata": {},
   "outputs": [
    {
     "data": {
      "text/html": [
       "<div>\n",
       "<style scoped>\n",
       "    .dataframe tbody tr th:only-of-type {\n",
       "        vertical-align: middle;\n",
       "    }\n",
       "\n",
       "    .dataframe tbody tr th {\n",
       "        vertical-align: top;\n",
       "    }\n",
       "\n",
       "    .dataframe thead th {\n",
       "        text-align: right;\n",
       "    }\n",
       "</style>\n",
       "<table border=\"1\" class=\"dataframe\">\n",
       "  <thead>\n",
       "    <tr style=\"text-align: right;\">\n",
       "      <th></th>\n",
       "      <th>İsim</th>\n",
       "      <th>Soyad</th>\n",
       "      <th>Yas</th>\n",
       "      <th>Sehir</th>\n",
       "      <th>Yas_Scaled</th>\n",
       "    </tr>\n",
       "  </thead>\n",
       "  <tbody>\n",
       "    <tr>\n",
       "      <th>0</th>\n",
       "      <td>Mert</td>\n",
       "      <td>Cobanov</td>\n",
       "      <td>24.0</td>\n",
       "      <td>Bursa</td>\n",
       "      <td>1.17108</td>\n",
       "    </tr>\n",
       "    <tr>\n",
       "      <th>1</th>\n",
       "      <td>Nilay</td>\n",
       "      <td>Mertal</td>\n",
       "      <td>22.0</td>\n",
       "      <td>Ankara</td>\n",
       "      <td>-1.75662</td>\n",
       "    </tr>\n",
       "    <tr>\n",
       "      <th>2</th>\n",
       "      <td>Dogancan</td>\n",
       "      <td>Mavideniz</td>\n",
       "      <td>24.0</td>\n",
       "      <td>Istanbul</td>\n",
       "      <td>1.17108</td>\n",
       "    </tr>\n",
       "    <tr>\n",
       "      <th>3</th>\n",
       "      <td>Omer</td>\n",
       "      <td>Cengiz</td>\n",
       "      <td>23.0</td>\n",
       "      <td>NaN</td>\n",
       "      <td>-0.29277</td>\n",
       "    </tr>\n",
       "    <tr>\n",
       "      <th>4</th>\n",
       "      <td>Merve</td>\n",
       "      <td>Noyan</td>\n",
       "      <td>23.2</td>\n",
       "      <td>Izmir</td>\n",
       "      <td>0.00000</td>\n",
       "    </tr>\n",
       "    <tr>\n",
       "      <th>5</th>\n",
       "      <td>Onur</td>\n",
       "      <td>Sahil</td>\n",
       "      <td>23.0</td>\n",
       "      <td>Istanbul</td>\n",
       "      <td>-0.29277</td>\n",
       "    </tr>\n",
       "  </tbody>\n",
       "</table>\n",
       "</div>"
      ],
      "text/plain": [
       "       İsim      Soyad   Yas     Sehir  Yas_Scaled\n",
       "0      Mert    Cobanov  24.0     Bursa     1.17108\n",
       "1     Nilay     Mertal  22.0    Ankara    -1.75662\n",
       "2  Dogancan  Mavideniz  24.0  Istanbul     1.17108\n",
       "3      Omer     Cengiz  23.0       NaN    -0.29277\n",
       "4     Merve      Noyan  23.2     Izmir     0.00000\n",
       "5      Onur      Sahil  23.0  Istanbul    -0.29277"
      ]
     },
     "execution_count": 125,
     "metadata": {},
     "output_type": "execute_result"
    }
   ],
   "source": [
    "df_ss"
   ]
  },
  {
   "cell_type": "code",
   "execution_count": 131,
   "metadata": {},
   "outputs": [
    {
     "name": "stdout",
     "output_type": "stream",
     "text": [
      "23.2\n",
      "0.7483314773547882\n"
     ]
    }
   ],
   "source": [
    "print(df_ss[\"Yas\"].mean(axis = 0))\n",
    "print(df_ss[\"Yas\"].std(axis = 0))"
   ]
  },
  {
   "cell_type": "code",
   "execution_count": 133,
   "metadata": {},
   "outputs": [
    {
     "name": "stdout",
     "output_type": "stream",
     "text": [
      "8.881784197001252e-16\n",
      "1.0954451150103324\n"
     ]
    }
   ],
   "source": [
    "print(df_ss['Yas_Scaled'].mean(axis = 0))\n",
    "print(df_ss['Yas_Scaled'].std(axis = 0))\n",
    "#Bizim için bu veriyi standart dağılıma çevirmiş oluyor."
   ]
  },
  {
   "cell_type": "markdown",
   "metadata": {},
   "source": [
    "# MinMaxScaler"
   ]
  },
  {
   "cell_type": "code",
   "execution_count": 134,
   "metadata": {},
   "outputs": [],
   "source": [
    "from sklearn.preprocessing import MinMaxScaler"
   ]
  },
  {
   "cell_type": "code",
   "execution_count": 135,
   "metadata": {},
   "outputs": [],
   "source": [
    "df_mm = df_2.copy()"
   ]
  },
  {
   "cell_type": "code",
   "execution_count": 136,
   "metadata": {},
   "outputs": [
    {
     "data": {
      "text/html": [
       "<div>\n",
       "<style scoped>\n",
       "    .dataframe tbody tr th:only-of-type {\n",
       "        vertical-align: middle;\n",
       "    }\n",
       "\n",
       "    .dataframe tbody tr th {\n",
       "        vertical-align: top;\n",
       "    }\n",
       "\n",
       "    .dataframe thead th {\n",
       "        text-align: right;\n",
       "    }\n",
       "</style>\n",
       "<table border=\"1\" class=\"dataframe\">\n",
       "  <thead>\n",
       "    <tr style=\"text-align: right;\">\n",
       "      <th></th>\n",
       "      <th>İsim</th>\n",
       "      <th>Soyad</th>\n",
       "      <th>Yas</th>\n",
       "      <th>Sehir</th>\n",
       "    </tr>\n",
       "  </thead>\n",
       "  <tbody>\n",
       "    <tr>\n",
       "      <th>0</th>\n",
       "      <td>Mert</td>\n",
       "      <td>Cobanov</td>\n",
       "      <td>24.0</td>\n",
       "      <td>Bursa</td>\n",
       "    </tr>\n",
       "    <tr>\n",
       "      <th>1</th>\n",
       "      <td>Nilay</td>\n",
       "      <td>Mertal</td>\n",
       "      <td>22.0</td>\n",
       "      <td>Ankara</td>\n",
       "    </tr>\n",
       "    <tr>\n",
       "      <th>2</th>\n",
       "      <td>Dogancan</td>\n",
       "      <td>Mavideniz</td>\n",
       "      <td>24.0</td>\n",
       "      <td>Istanbul</td>\n",
       "    </tr>\n",
       "    <tr>\n",
       "      <th>3</th>\n",
       "      <td>Omer</td>\n",
       "      <td>Cengiz</td>\n",
       "      <td>23.0</td>\n",
       "      <td>NaN</td>\n",
       "    </tr>\n",
       "    <tr>\n",
       "      <th>4</th>\n",
       "      <td>Merve</td>\n",
       "      <td>Noyan</td>\n",
       "      <td>23.2</td>\n",
       "      <td>Izmir</td>\n",
       "    </tr>\n",
       "    <tr>\n",
       "      <th>5</th>\n",
       "      <td>Onur</td>\n",
       "      <td>Sahil</td>\n",
       "      <td>23.0</td>\n",
       "      <td>Istanbul</td>\n",
       "    </tr>\n",
       "  </tbody>\n",
       "</table>\n",
       "</div>"
      ],
      "text/plain": [
       "       İsim      Soyad   Yas     Sehir\n",
       "0      Mert    Cobanov  24.0     Bursa\n",
       "1     Nilay     Mertal  22.0    Ankara\n",
       "2  Dogancan  Mavideniz  24.0  Istanbul\n",
       "3      Omer     Cengiz  23.0       NaN\n",
       "4     Merve      Noyan  23.2     Izmir\n",
       "5      Onur      Sahil  23.0  Istanbul"
      ]
     },
     "execution_count": 136,
     "metadata": {},
     "output_type": "execute_result"
    }
   ],
   "source": [
    "df_mm"
   ]
  },
  {
   "cell_type": "code",
   "execution_count": 139,
   "metadata": {},
   "outputs": [],
   "source": [
    "df_mm['Yas_Scaled'] = MinMaxScaler().fit_transform(df_mm[['Yas']])"
   ]
  },
  {
   "cell_type": "code",
   "execution_count": 140,
   "metadata": {},
   "outputs": [
    {
     "data": {
      "text/html": [
       "<div>\n",
       "<style scoped>\n",
       "    .dataframe tbody tr th:only-of-type {\n",
       "        vertical-align: middle;\n",
       "    }\n",
       "\n",
       "    .dataframe tbody tr th {\n",
       "        vertical-align: top;\n",
       "    }\n",
       "\n",
       "    .dataframe thead th {\n",
       "        text-align: right;\n",
       "    }\n",
       "</style>\n",
       "<table border=\"1\" class=\"dataframe\">\n",
       "  <thead>\n",
       "    <tr style=\"text-align: right;\">\n",
       "      <th></th>\n",
       "      <th>İsim</th>\n",
       "      <th>Soyad</th>\n",
       "      <th>Yas</th>\n",
       "      <th>Sehir</th>\n",
       "      <th>Yas_Scaled</th>\n",
       "    </tr>\n",
       "  </thead>\n",
       "  <tbody>\n",
       "    <tr>\n",
       "      <th>0</th>\n",
       "      <td>Mert</td>\n",
       "      <td>Cobanov</td>\n",
       "      <td>24.0</td>\n",
       "      <td>Bursa</td>\n",
       "      <td>1.0</td>\n",
       "    </tr>\n",
       "    <tr>\n",
       "      <th>1</th>\n",
       "      <td>Nilay</td>\n",
       "      <td>Mertal</td>\n",
       "      <td>22.0</td>\n",
       "      <td>Ankara</td>\n",
       "      <td>0.0</td>\n",
       "    </tr>\n",
       "    <tr>\n",
       "      <th>2</th>\n",
       "      <td>Dogancan</td>\n",
       "      <td>Mavideniz</td>\n",
       "      <td>24.0</td>\n",
       "      <td>Istanbul</td>\n",
       "      <td>1.0</td>\n",
       "    </tr>\n",
       "    <tr>\n",
       "      <th>3</th>\n",
       "      <td>Omer</td>\n",
       "      <td>Cengiz</td>\n",
       "      <td>23.0</td>\n",
       "      <td>NaN</td>\n",
       "      <td>0.5</td>\n",
       "    </tr>\n",
       "    <tr>\n",
       "      <th>4</th>\n",
       "      <td>Merve</td>\n",
       "      <td>Noyan</td>\n",
       "      <td>23.2</td>\n",
       "      <td>Izmir</td>\n",
       "      <td>0.6</td>\n",
       "    </tr>\n",
       "    <tr>\n",
       "      <th>5</th>\n",
       "      <td>Onur</td>\n",
       "      <td>Sahil</td>\n",
       "      <td>23.0</td>\n",
       "      <td>Istanbul</td>\n",
       "      <td>0.5</td>\n",
       "    </tr>\n",
       "  </tbody>\n",
       "</table>\n",
       "</div>"
      ],
      "text/plain": [
       "       İsim      Soyad   Yas     Sehir  Yas_Scaled\n",
       "0      Mert    Cobanov  24.0     Bursa         1.0\n",
       "1     Nilay     Mertal  22.0    Ankara         0.0\n",
       "2  Dogancan  Mavideniz  24.0  Istanbul         1.0\n",
       "3      Omer     Cengiz  23.0       NaN         0.5\n",
       "4     Merve      Noyan  23.2     Izmir         0.6\n",
       "5      Onur      Sahil  23.0  Istanbul         0.5"
      ]
     },
     "execution_count": 140,
     "metadata": {},
     "output_type": "execute_result"
    }
   ],
   "source": [
    "df_mm#Yaşı scale etmiş oldum."
   ]
  },
  {
   "cell_type": "code",
   "execution_count": 141,
   "metadata": {},
   "outputs": [
    {
     "data": {
      "text/html": [
       "<div>\n",
       "<style scoped>\n",
       "    .dataframe tbody tr th:only-of-type {\n",
       "        vertical-align: middle;\n",
       "    }\n",
       "\n",
       "    .dataframe tbody tr th {\n",
       "        vertical-align: top;\n",
       "    }\n",
       "\n",
       "    .dataframe thead th {\n",
       "        text-align: right;\n",
       "    }\n",
       "</style>\n",
       "<table border=\"1\" class=\"dataframe\">\n",
       "  <thead>\n",
       "    <tr style=\"text-align: right;\">\n",
       "      <th></th>\n",
       "      <th>İsim</th>\n",
       "      <th>Soyad</th>\n",
       "      <th>Yas</th>\n",
       "      <th>Sehir</th>\n",
       "      <th>Yas_Scaled</th>\n",
       "    </tr>\n",
       "  </thead>\n",
       "  <tbody>\n",
       "    <tr>\n",
       "      <th>0</th>\n",
       "      <td>Mert</td>\n",
       "      <td>Cobanov</td>\n",
       "      <td>24.0</td>\n",
       "      <td>Bursa</td>\n",
       "      <td>1.17108</td>\n",
       "    </tr>\n",
       "    <tr>\n",
       "      <th>1</th>\n",
       "      <td>Nilay</td>\n",
       "      <td>Mertal</td>\n",
       "      <td>22.0</td>\n",
       "      <td>Ankara</td>\n",
       "      <td>-1.75662</td>\n",
       "    </tr>\n",
       "    <tr>\n",
       "      <th>2</th>\n",
       "      <td>Dogancan</td>\n",
       "      <td>Mavideniz</td>\n",
       "      <td>24.0</td>\n",
       "      <td>Istanbul</td>\n",
       "      <td>1.17108</td>\n",
       "    </tr>\n",
       "    <tr>\n",
       "      <th>3</th>\n",
       "      <td>Omer</td>\n",
       "      <td>Cengiz</td>\n",
       "      <td>23.0</td>\n",
       "      <td>NaN</td>\n",
       "      <td>-0.29277</td>\n",
       "    </tr>\n",
       "    <tr>\n",
       "      <th>4</th>\n",
       "      <td>Merve</td>\n",
       "      <td>Noyan</td>\n",
       "      <td>23.2</td>\n",
       "      <td>Izmir</td>\n",
       "      <td>0.00000</td>\n",
       "    </tr>\n",
       "    <tr>\n",
       "      <th>5</th>\n",
       "      <td>Onur</td>\n",
       "      <td>Sahil</td>\n",
       "      <td>23.0</td>\n",
       "      <td>Istanbul</td>\n",
       "      <td>-0.29277</td>\n",
       "    </tr>\n",
       "  </tbody>\n",
       "</table>\n",
       "</div>"
      ],
      "text/plain": [
       "       İsim      Soyad   Yas     Sehir  Yas_Scaled\n",
       "0      Mert    Cobanov  24.0     Bursa     1.17108\n",
       "1     Nilay     Mertal  22.0    Ankara    -1.75662\n",
       "2  Dogancan  Mavideniz  24.0  Istanbul     1.17108\n",
       "3      Omer     Cengiz  23.0       NaN    -0.29277\n",
       "4     Merve      Noyan  23.2     Izmir     0.00000\n",
       "5      Onur      Sahil  23.0  Istanbul    -0.29277"
      ]
     },
     "execution_count": 141,
     "metadata": {},
     "output_type": "execute_result"
    }
   ],
   "source": [
    "df_ss#Genellikle machine learning algoritmaları dataframe'inizin\n",
    "#sayı formatında olmasını ister\n",
    "#bizim burada encoding işlemi yapmamız gerekiyor\n",
    "#iki temel encoding işlemi vardır.\n",
    "#label encoding ve one-hot-encoding\n",
    "#label encoding : bir kolondaki tekel olan değerlerin bir sayıyla ifade edilmesi\n",
    "#örn : Bursa = 0, Ankara = 1, İstanbul = 2, İzmir = 3"
   ]
  },
  {
   "cell_type": "markdown",
   "metadata": {},
   "source": [
    "# Label encoding"
   ]
  },
  {
   "cell_type": "code",
   "execution_count": 150,
   "metadata": {},
   "outputs": [],
   "source": [
    "from sklearn.preprocessing import LabelEncoder"
   ]
  },
  {
   "cell_type": "code",
   "execution_count": 151,
   "metadata": {},
   "outputs": [],
   "source": [
    "le = LabelEncoder()"
   ]
  },
  {
   "cell_type": "code",
   "execution_count": 171,
   "metadata": {},
   "outputs": [],
   "source": [
    "df_le = df_3.copy()"
   ]
  },
  {
   "cell_type": "code",
   "execution_count": 172,
   "metadata": {},
   "outputs": [
    {
     "data": {
      "text/html": [
       "<div>\n",
       "<style scoped>\n",
       "    .dataframe tbody tr th:only-of-type {\n",
       "        vertical-align: middle;\n",
       "    }\n",
       "\n",
       "    .dataframe tbody tr th {\n",
       "        vertical-align: top;\n",
       "    }\n",
       "\n",
       "    .dataframe thead th {\n",
       "        text-align: right;\n",
       "    }\n",
       "</style>\n",
       "<table border=\"1\" class=\"dataframe\">\n",
       "  <thead>\n",
       "    <tr style=\"text-align: right;\">\n",
       "      <th></th>\n",
       "      <th>İsim</th>\n",
       "      <th>Soyad</th>\n",
       "      <th>Yas</th>\n",
       "      <th>Sehir</th>\n",
       "    </tr>\n",
       "  </thead>\n",
       "  <tbody>\n",
       "    <tr>\n",
       "      <th>0</th>\n",
       "      <td>Mert</td>\n",
       "      <td>Cobanov</td>\n",
       "      <td>24.0</td>\n",
       "      <td>Bursa</td>\n",
       "    </tr>\n",
       "    <tr>\n",
       "      <th>1</th>\n",
       "      <td>Nilay</td>\n",
       "      <td>Mertal</td>\n",
       "      <td>22.0</td>\n",
       "      <td>Ankara</td>\n",
       "    </tr>\n",
       "    <tr>\n",
       "      <th>2</th>\n",
       "      <td>Dogancan</td>\n",
       "      <td>Mavideniz</td>\n",
       "      <td>24.0</td>\n",
       "      <td>Istanbul</td>\n",
       "    </tr>\n",
       "    <tr>\n",
       "      <th>3</th>\n",
       "      <td>Omer</td>\n",
       "      <td>Cengiz</td>\n",
       "      <td>23.0</td>\n",
       "      <td>Diger</td>\n",
       "    </tr>\n",
       "    <tr>\n",
       "      <th>4</th>\n",
       "      <td>Merve</td>\n",
       "      <td>Noyan</td>\n",
       "      <td>23.0</td>\n",
       "      <td>Izmir</td>\n",
       "    </tr>\n",
       "    <tr>\n",
       "      <th>5</th>\n",
       "      <td>Onur</td>\n",
       "      <td>Sahil</td>\n",
       "      <td>23.0</td>\n",
       "      <td>Istanbul</td>\n",
       "    </tr>\n",
       "  </tbody>\n",
       "</table>\n",
       "</div>"
      ],
      "text/plain": [
       "       İsim      Soyad   Yas     Sehir\n",
       "0      Mert    Cobanov  24.0     Bursa\n",
       "1     Nilay     Mertal  22.0    Ankara\n",
       "2  Dogancan  Mavideniz  24.0  Istanbul\n",
       "3      Omer     Cengiz  23.0     Diger\n",
       "4     Merve      Noyan  23.0     Izmir\n",
       "5      Onur      Sahil  23.0  Istanbul"
      ]
     },
     "execution_count": 172,
     "metadata": {},
     "output_type": "execute_result"
    }
   ],
   "source": [
    "df_le"
   ]
  },
  {
   "cell_type": "code",
   "execution_count": 173,
   "metadata": {},
   "outputs": [
    {
     "data": {
      "text/plain": [
       "LabelEncoder()"
      ]
     },
     "execution_count": 173,
     "metadata": {},
     "output_type": "execute_result"
    }
   ],
   "source": [
    "le.fit(df_le['Sehir'])"
   ]
  },
  {
   "cell_type": "code",
   "execution_count": 174,
   "metadata": {},
   "outputs": [
    {
     "data": {
      "text/plain": [
       "['Ankara', 'Bursa', 'Diger', 'Istanbul', 'Izmir']"
      ]
     },
     "execution_count": 174,
     "metadata": {},
     "output_type": "execute_result"
    }
   ],
   "source": [
    "list(le.classes_)#Ankara = 0, Bursa = 1, Diger = 2, Istanbul = 3, Izmır = 4"
   ]
  },
  {
   "cell_type": "code",
   "execution_count": 175,
   "metadata": {},
   "outputs": [],
   "source": [
    "df_le['Sehir'] = le.transform(df_le['Sehir'])#fit'i ve transform'u ayrı yapmak train ve\n",
    "#test setindeki değişiklikleri çok fazla etkiliyormuş olacak."
   ]
  },
  {
   "cell_type": "code",
   "execution_count": 176,
   "metadata": {},
   "outputs": [
    {
     "data": {
      "text/html": [
       "<div>\n",
       "<style scoped>\n",
       "    .dataframe tbody tr th:only-of-type {\n",
       "        vertical-align: middle;\n",
       "    }\n",
       "\n",
       "    .dataframe tbody tr th {\n",
       "        vertical-align: top;\n",
       "    }\n",
       "\n",
       "    .dataframe thead th {\n",
       "        text-align: right;\n",
       "    }\n",
       "</style>\n",
       "<table border=\"1\" class=\"dataframe\">\n",
       "  <thead>\n",
       "    <tr style=\"text-align: right;\">\n",
       "      <th></th>\n",
       "      <th>İsim</th>\n",
       "      <th>Soyad</th>\n",
       "      <th>Yas</th>\n",
       "      <th>Sehir</th>\n",
       "    </tr>\n",
       "  </thead>\n",
       "  <tbody>\n",
       "    <tr>\n",
       "      <th>0</th>\n",
       "      <td>Mert</td>\n",
       "      <td>Cobanov</td>\n",
       "      <td>24.0</td>\n",
       "      <td>1</td>\n",
       "    </tr>\n",
       "    <tr>\n",
       "      <th>1</th>\n",
       "      <td>Nilay</td>\n",
       "      <td>Mertal</td>\n",
       "      <td>22.0</td>\n",
       "      <td>0</td>\n",
       "    </tr>\n",
       "    <tr>\n",
       "      <th>2</th>\n",
       "      <td>Dogancan</td>\n",
       "      <td>Mavideniz</td>\n",
       "      <td>24.0</td>\n",
       "      <td>3</td>\n",
       "    </tr>\n",
       "    <tr>\n",
       "      <th>3</th>\n",
       "      <td>Omer</td>\n",
       "      <td>Cengiz</td>\n",
       "      <td>23.0</td>\n",
       "      <td>2</td>\n",
       "    </tr>\n",
       "    <tr>\n",
       "      <th>4</th>\n",
       "      <td>Merve</td>\n",
       "      <td>Noyan</td>\n",
       "      <td>23.0</td>\n",
       "      <td>4</td>\n",
       "    </tr>\n",
       "    <tr>\n",
       "      <th>5</th>\n",
       "      <td>Onur</td>\n",
       "      <td>Sahil</td>\n",
       "      <td>23.0</td>\n",
       "      <td>3</td>\n",
       "    </tr>\n",
       "  </tbody>\n",
       "</table>\n",
       "</div>"
      ],
      "text/plain": [
       "       İsim      Soyad   Yas  Sehir\n",
       "0      Mert    Cobanov  24.0      1\n",
       "1     Nilay     Mertal  22.0      0\n",
       "2  Dogancan  Mavideniz  24.0      3\n",
       "3      Omer     Cengiz  23.0      2\n",
       "4     Merve      Noyan  23.0      4\n",
       "5      Onur      Sahil  23.0      3"
      ]
     },
     "execution_count": 176,
     "metadata": {},
     "output_type": "execute_result"
    }
   ],
   "source": [
    "df_le"
   ]
  },
  {
   "cell_type": "code",
   "execution_count": 177,
   "metadata": {},
   "outputs": [
    {
     "data": {
      "text/plain": [
       "array(['Diger', 'Bursa', 'Ankara', 'Bursa'], dtype=object)"
      ]
     },
     "execution_count": 177,
     "metadata": {},
     "output_type": "execute_result"
    }
   ],
   "source": [
    "#Inverse transform işlemi\n",
    "le.inverse_transform([2, 1, 0, 1])"
   ]
  },
  {
   "cell_type": "code",
   "execution_count": 178,
   "metadata": {},
   "outputs": [
    {
     "data": {
      "text/html": [
       "<div>\n",
       "<style scoped>\n",
       "    .dataframe tbody tr th:only-of-type {\n",
       "        vertical-align: middle;\n",
       "    }\n",
       "\n",
       "    .dataframe tbody tr th {\n",
       "        vertical-align: top;\n",
       "    }\n",
       "\n",
       "    .dataframe thead th {\n",
       "        text-align: right;\n",
       "    }\n",
       "</style>\n",
       "<table border=\"1\" class=\"dataframe\">\n",
       "  <thead>\n",
       "    <tr style=\"text-align: right;\">\n",
       "      <th></th>\n",
       "      <th>Ankara</th>\n",
       "      <th>Bursa</th>\n",
       "      <th>Istanbul</th>\n",
       "      <th>Izmir</th>\n",
       "    </tr>\n",
       "  </thead>\n",
       "  <tbody>\n",
       "    <tr>\n",
       "      <th>0</th>\n",
       "      <td>0</td>\n",
       "      <td>1</td>\n",
       "      <td>0</td>\n",
       "      <td>0</td>\n",
       "    </tr>\n",
       "    <tr>\n",
       "      <th>1</th>\n",
       "      <td>1</td>\n",
       "      <td>0</td>\n",
       "      <td>0</td>\n",
       "      <td>0</td>\n",
       "    </tr>\n",
       "    <tr>\n",
       "      <th>2</th>\n",
       "      <td>0</td>\n",
       "      <td>0</td>\n",
       "      <td>1</td>\n",
       "      <td>0</td>\n",
       "    </tr>\n",
       "    <tr>\n",
       "      <th>3</th>\n",
       "      <td>0</td>\n",
       "      <td>0</td>\n",
       "      <td>0</td>\n",
       "      <td>0</td>\n",
       "    </tr>\n",
       "    <tr>\n",
       "      <th>4</th>\n",
       "      <td>0</td>\n",
       "      <td>0</td>\n",
       "      <td>0</td>\n",
       "      <td>1</td>\n",
       "    </tr>\n",
       "    <tr>\n",
       "      <th>5</th>\n",
       "      <td>0</td>\n",
       "      <td>0</td>\n",
       "      <td>1</td>\n",
       "      <td>0</td>\n",
       "    </tr>\n",
       "  </tbody>\n",
       "</table>\n",
       "</div>"
      ],
      "text/plain": [
       "   Ankara  Bursa  Istanbul  Izmir\n",
       "0       0      1         0      0\n",
       "1       1      0         0      0\n",
       "2       0      0         1      0\n",
       "3       0      0         0      0\n",
       "4       0      0         0      1\n",
       "5       0      0         1      0"
      ]
     },
     "execution_count": 178,
     "metadata": {},
     "output_type": "execute_result"
    }
   ],
   "source": [
    "#Elimizde çok fazla veri var ve bu veriler kategorik,\n",
    "#Bu sayıların değeri arttıkça bu kategorik değişkenin ağırlığı sorun olacaktır.\n",
    "#Bu sebeple one-hot-encoding işlemi kullanacağız.\n",
    "#5 uzunluğunda bir vektör yapıyoruz.\n",
    "#herbir one-hot bir vektör olarak düşünelim.\n",
    "\n",
    "pd.get_dummies(df_2['Sehir'])"
   ]
  },
  {
   "cell_type": "code",
   "execution_count": 180,
   "metadata": {},
   "outputs": [],
   "source": [
    "X = np.array([[ -3., 5., 15 ],\n",
    "              [  0., 6., 14 ],\n",
    "              [  6., 3., 11 ]])"
   ]
  },
  {
   "cell_type": "code",
   "execution_count": 181,
   "metadata": {},
   "outputs": [],
   "source": [
    "from sklearn import preprocessing"
   ]
  },
  {
   "cell_type": "code",
   "execution_count": 182,
   "metadata": {},
   "outputs": [
    {
     "data": {
      "text/plain": [
       "array([[0., 1., 1.],\n",
       "       [1., 1., 1.],\n",
       "       [2., 0., 0.]])"
      ]
     },
     "execution_count": 182,
     "metadata": {},
     "output_type": "execute_result"
    }
   ],
   "source": [
    "preprocessing.KBinsDiscretizer(n_bins = [3, 2, 2], encode = \"ordinal\").fit_transform(X)"
   ]
  },
  {
   "cell_type": "code",
   "execution_count": 183,
   "metadata": {},
   "outputs": [],
   "source": [
    "binarizer = preprocessing.Binarizer(threshold = 1.1)"
   ]
  },
  {
   "cell_type": "code",
   "execution_count": 184,
   "metadata": {},
   "outputs": [
    {
     "data": {
      "text/plain": [
       "array([[0., 1., 1.],\n",
       "       [0., 1., 1.],\n",
       "       [1., 1., 1.]])"
      ]
     },
     "execution_count": 184,
     "metadata": {},
     "output_type": "execute_result"
    }
   ],
   "source": [
    "binarizer.transform(X)#1.1 değerinin üzerindeki bütün değerleri \"1\"\n",
    "#1.1 altındaki değerleri "
   ]
  },
  {
   "cell_type": "code",
   "execution_count": null,
   "metadata": {},
   "outputs": [],
   "source": []
  }
 ],
 "metadata": {
  "kernelspec": {
   "display_name": "Python 3",
   "language": "python",
   "name": "python3"
  },
  "language_info": {
   "codemirror_mode": {
    "name": "ipython",
    "version": 3
   },
   "file_extension": ".py",
   "mimetype": "text/x-python",
   "name": "python",
   "nbconvert_exporter": "python",
   "pygments_lexer": "ipython3",
   "version": "3.7.6"
  }
 },
 "nbformat": 4,
 "nbformat_minor": 4
}
